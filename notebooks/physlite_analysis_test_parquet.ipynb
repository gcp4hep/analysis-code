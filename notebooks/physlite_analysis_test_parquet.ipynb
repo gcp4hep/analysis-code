{
 "cells": [
  {
   "cell_type": "code",
   "execution_count": 1,
   "metadata": {},
   "outputs": [],
   "source": [
    "%run utils.py"
   ]
  },
  {
   "cell_type": "code",
   "execution_count": 2,
   "metadata": {},
   "outputs": [
    {
     "data": {
      "application/vnd.jupyter.widget-view+json": {
       "model_id": "b6add12a253f40ab94618f2a13186c29",
       "version_major": 2,
       "version_minor": 0
      },
      "text/plain": [
       "FileUpload(value={}, description='Upload')"
      ]
     },
     "metadata": {},
     "output_type": "display_data"
    }
   ],
   "source": [
    "from ipywidgets import FileUpload\n",
    "upload = FileUpload()\n",
    "upload"
   ]
  },
  {
   "cell_type": "code",
   "execution_count": 168,
   "metadata": {},
   "outputs": [],
   "source": [
    "import awkward as ak\n",
    "from physlite_experiments.physlite_events import Factory\n",
    "from physlite_experiments.analysis_example import get_obj_sel\n",
    "import fsspec\n",
    "import pyarrow.parquet as pq\n",
    "import requests\n",
    "import io\n",
    "from functools import partial\n",
    "import numpy as np\n",
    "import matplotlib.pyplot as plt\n",
    "import gc\n",
    "import dask\n",
    "from dask import delayed\n",
    "from dask.distributed import futures_of\n",
    "import time\n",
    "\n",
    "setup_rucio_and_proxy(upload.data[-1])\n",
    "from rucio.client import Client\n",
    "rucio_client = Client()"
   ]
  },
  {
   "cell_type": "code",
   "execution_count": 4,
   "metadata": {},
   "outputs": [],
   "source": [
    "files = list(rucio_client.list_files(\"user.nihartma\", \"user.nihartma.physlite_to_parquet_gcp.data17_13TeV.periodK.grp17_v01_p4309_v3_output.parquet\"))"
   ]
  },
  {
   "cell_type": "code",
   "execution_count": 105,
   "metadata": {},
   "outputs": [],
   "source": [
    "url = get_signed_url(rucio_client, \"user.nihartma\", files[0][\"name\"])"
   ]
  },
  {
   "cell_type": "code",
   "execution_count": 27,
   "metadata": {},
   "outputs": [
    {
     "name": "stdout",
     "output_type": "stream",
     "text": [
      "CPU times: user 118 ms, sys: 6.18 ms, total: 124 ms\n",
      "Wall time: 290 ms\n"
     ]
    }
   ],
   "source": [
    "%%time\n",
    "with fsspec.open(url, cache_type=\"none\") as f:\n",
    "    events = Factory.from_parquet(f, row_groups=0).events"
   ]
  },
  {
   "cell_type": "code",
   "execution_count": 28,
   "metadata": {},
   "outputs": [
    {
     "data": {
      "text/plain": [
       "<xAODTrackParticleArray [[], [], [], [], ... z0: 24.8}]], []] type='42870 * var ...'>"
      ]
     },
     "execution_count": 28,
     "metadata": {},
     "output_type": "execute_result"
    }
   ],
   "source": [
    "events.Electrons.trackParticles"
   ]
  },
  {
   "cell_type": "code",
   "execution_count": 29,
   "metadata": {},
   "outputs": [],
   "source": [
    "def dunder_to_dot(events, collection):\n",
    "    for k in events[collection].fields:\n",
    "        if \"__\" in k:\n",
    "            events[collection, k.replace(\"__\", \".\")] = events[collection, k]\n",
    "    return events"
   ]
  },
  {
   "cell_type": "code",
   "execution_count": 31,
   "metadata": {},
   "outputs": [],
   "source": [
    "events = dunder_to_dot(events, \"Muons\")"
   ]
  },
  {
   "cell_type": "code",
   "execution_count": 32,
   "metadata": {},
   "outputs": [
    {
     "name": "stderr",
     "output_type": "stream",
     "text": [
      "/srv/conda/envs/notebook/lib/python3.8/site-packages/awkward/_connect/_numpy.py:180: RuntimeWarning: divide by zero encountered in true_divide\n",
      "  result = getattr(ufunc, method)(\n"
     ]
    },
    {
     "name": "stdout",
     "output_type": "stream",
     "text": [
      "CPU times: user 3.58 s, sys: 822 ms, total: 4.41 s\n",
      "Wall time: 6.59 s\n"
     ]
    }
   ],
   "source": [
    "%%time\n",
    "events_decorated = get_obj_sel(events)"
   ]
  },
  {
   "cell_type": "code",
   "execution_count": 33,
   "metadata": {},
   "outputs": [
    {
     "data": {
      "text/plain": [
       "42870"
      ]
     },
     "execution_count": 33,
     "metadata": {},
     "output_type": "execute_result"
    }
   ],
   "source": [
    "len(events)"
   ]
  },
  {
   "cell_type": "code",
   "execution_count": 35,
   "metadata": {},
   "outputs": [],
   "source": [
    "def run_analysis(f, **kwargs):\n",
    "    events = Factory.from_parquet(f, **kwargs).events\n",
    "    events = dunder_to_dot(events, \"Muons\")\n",
    "    events_decorated = get_obj_sel(events)\n",
    "    return events_decorated"
   ]
  },
  {
   "cell_type": "code",
   "execution_count": 37,
   "metadata": {},
   "outputs": [
    {
     "name": "stdout",
     "output_type": "stream",
     "text": [
      "CPU times: user 3 µs, sys: 2 µs, total: 5 µs\n",
      "Wall time: 7.39 µs\n"
     ]
    }
   ],
   "source": [
    "%%time\n",
    "# data = requests.get(url).content\n",
    "# res = run_analysis(io.BytesIO(data))"
   ]
  },
  {
   "cell_type": "code",
   "execution_count": 42,
   "metadata": {},
   "outputs": [
    {
     "name": "stdout",
     "output_type": "stream",
     "text": [
      "CPU times: user 3.86 s, sys: 840 ms, total: 4.7 s\n",
      "Wall time: 7.26 s\n"
     ]
    }
   ],
   "source": [
    "%%time\n",
    "with fsspec.open(url, cache_type=\"none\") as f:\n",
    "    res = run_analysis(f, row_groups=0)"
   ]
  },
  {
   "cell_type": "code",
   "execution_count": 47,
   "metadata": {},
   "outputs": [],
   "source": [
    "def get_leptons(url, row_groups=None):\n",
    "    with fsspec.open(url, cache_type=\"none\") as f:\n",
    "        leptons = []\n",
    "        if row_groups is None:\n",
    "            pqf = pq.ParquetFile(f) \n",
    "            rg_range = range(pqf.num_row_groups)\n",
    "        elif isinstance(row_groups, int):\n",
    "            rg_range = [row_groups]\n",
    "        else:\n",
    "            rg_range = row_groups\n",
    "        for i in rg_range:\n",
    "            events_decorated = run_analysis(f, row_groups=i)\n",
    "            events_decorated[\"Muons\", \"m\"] = 105.6583715\n",
    "            leptons.append(\n",
    "                ak.concatenate([events_decorated.Electrons, events_decorated.Muons], axis=1)\n",
    "            )\n",
    "        leptons = ak.concatenate(leptons)\n",
    "        leptons = leptons[[\"pt\", \"eta\", \"phi\", \"m\", \"passOR\", \"baseline\", \"signal\"]]\n",
    "        leptons = ak.copy(ak.from_arrow(ak.to_arrow(leptons)))\n",
    "        del events_decorated\n",
    "        gc.collect()\n",
    "    return ak.to_arrow(leptons)"
   ]
  },
  {
   "cell_type": "code",
   "execution_count": 49,
   "metadata": {},
   "outputs": [],
   "source": [
    "def get_num_row_groups(url):\n",
    "     with fsspec.open(url, cache_type=\"none\") as f:\n",
    "        pqf = pq.ParquetFile(f)\n",
    "        return pqf.num_row_groups"
   ]
  },
  {
   "cell_type": "code",
   "execution_count": 50,
   "metadata": {},
   "outputs": [
    {
     "data": {
      "text/plain": [
       "46"
      ]
     },
     "execution_count": 50,
     "metadata": {},
     "output_type": "execute_result"
    }
   ],
   "source": [
    "get_num_row_groups(url)"
   ]
  },
  {
   "cell_type": "code",
   "execution_count": 48,
   "metadata": {},
   "outputs": [
    {
     "name": "stdout",
     "output_type": "stream",
     "text": [
      "CPU times: user 7.87 s, sys: 1.37 s, total: 9.24 s\n",
      "Wall time: 15.3 s\n"
     ]
    }
   ],
   "source": [
    "%%time\n",
    "res = get_leptons(url, row_groups=[0, 1])"
   ]
  },
  {
   "cell_type": "code",
   "execution_count": 46,
   "metadata": {},
   "outputs": [
    {
     "data": {
      "text/plain": [
       "6893.06512605042"
      ]
     },
     "execution_count": 46,
     "metadata": {},
     "output_type": "execute_result"
    }
   ],
   "source": [
    "len(res) / (7 * 60 + 56)"
   ]
  },
  {
   "cell_type": "code",
   "execution_count": 195,
   "metadata": {},
   "outputs": [
    {
     "data": {
      "application/vnd.jupyter.widget-view+json": {
       "model_id": "84dcf764c00142d69172233a1070b3ab",
       "version_major": 2,
       "version_minor": 0
      },
      "text/plain": [
       "VBox(children=(HTML(value='<h2>GatewayCluster</h2>'), HBox(children=(HTML(value='\\n<div>\\n<style scoped>\\n    …"
      ]
     },
     "metadata": {},
     "output_type": "display_data"
    }
   ],
   "source": [
    "from dask_gateway import GatewayCluster\n",
    "cluster = GatewayCluster(\n",
    "    worker_cores=1,\n",
    "    worker_memory=3.5,\n",
    "    image=\"eu.gcr.io/gke-dev-311213/jupyter-physlite:20210709\"\n",
    ")\n",
    "cluster"
   ]
  },
  {
   "cell_type": "code",
   "execution_count": 232,
   "metadata": {},
   "outputs": [],
   "source": [
    "cluster.shutdown()"
   ]
  },
  {
   "cell_type": "code",
   "execution_count": 206,
   "metadata": {},
   "outputs": [],
   "source": [
    "cluster.scale(360)"
   ]
  },
  {
   "cell_type": "code",
   "execution_count": 207,
   "metadata": {},
   "outputs": [],
   "source": [
    "client = cluster.get_client()"
   ]
  },
  {
   "cell_type": "code",
   "execution_count": 221,
   "metadata": {},
   "outputs": [
    {
     "data": {
      "text/html": [
       "<table style=\"border: 2px solid white;\">\n",
       "<tr>\n",
       "<td style=\"vertical-align: top; border: 0px solid white\">\n",
       "<h3 style=\"text-align: left;\">Client</h3>\n",
       "<ul style=\"text-align: left; list-style: none; margin: 0; padding: 0;\">\n",
       "  <li><b>Scheduler: </b>gateway://traefik-dhub-dask-gateway.default:80/default.2e6e61d9011f48cdb57809bfc6c4ed58</li>\n",
       "  <li><b>Dashboard: </b><a href='/services/dask-gateway/clusters/default.2e6e61d9011f48cdb57809bfc6c4ed58/status' target='_blank'>/services/dask-gateway/clusters/default.2e6e61d9011f48cdb57809bfc6c4ed58/status</a></li>\n",
       "</ul>\n",
       "</td>\n",
       "<td style=\"vertical-align: top; border: 0px solid white\">\n",
       "<h3 style=\"text-align: left;\">Cluster</h3>\n",
       "<ul style=\"text-align: left; list-style:none; margin: 0; padding: 0;\">\n",
       "  <li><b>Workers: </b>360</li>\n",
       "  <li><b>Cores: </b>360</li>\n",
       "  <li><b>Memory: </b>1.23 TiB</li>\n",
       "</ul>\n",
       "</td>\n",
       "</tr>\n",
       "</table>"
      ],
      "text/plain": [
       "<Client: 'tls://10.64.0.237:8786' processes=329 threads=329, memory=1.12 TiB>"
      ]
     },
     "execution_count": 221,
     "metadata": {},
     "output_type": "execute_result"
    }
   ],
   "source": [
    "client.restart()"
   ]
  },
  {
   "cell_type": "code",
   "execution_count": 209,
   "metadata": {},
   "outputs": [],
   "source": [
    "# this does not pickle?\n",
    "#def partial_get_signed_url(scope, name):\n",
    "#    return get_signed_url_worker(upload.data[-1], scope, name, rucio_account='nihartma', rucio_home='/srv/conda/envs/notebook')"
   ]
  },
  {
   "cell_type": "code",
   "execution_count": 210,
   "metadata": {},
   "outputs": [
    {
     "data": {
      "text/plain": [
       "465"
      ]
     },
     "execution_count": 210,
     "metadata": {},
     "output_type": "execute_result"
    }
   ],
   "source": [
    "len(files)"
   ]
  },
  {
   "cell_type": "code",
   "execution_count": 211,
   "metadata": {},
   "outputs": [],
   "source": [
    "partial_get_signed_url = partial(get_signed_url_worker, upload.data[-1], rucio_account=\"nihartma\", rucio_home='/srv/conda/envs/notebook')"
   ]
  },
  {
   "cell_type": "code",
   "execution_count": 212,
   "metadata": {},
   "outputs": [],
   "source": [
    "fut = client.submit(partial_get_signed_url, files[0][\"scope\"], files[0][\"name\"])"
   ]
  },
  {
   "cell_type": "code",
   "execution_count": 213,
   "metadata": {},
   "outputs": [],
   "source": [
    "tasks_rg = [delayed(get_num_row_groups)(delayed(partial_get_signed_url)(file[\"scope\"], file[\"name\"])) for file in files]"
   ]
  },
  {
   "cell_type": "code",
   "execution_count": 214,
   "metadata": {},
   "outputs": [],
   "source": [
    "num_rg_list = dask.compute(*tasks_rg)"
   ]
  },
  {
   "cell_type": "code",
   "execution_count": 215,
   "metadata": {},
   "outputs": [],
   "source": [
    "def run_chunk(url, row_group):\n",
    "    t = time.time()\n",
    "    leptons = get_leptons(url, row_group)\n",
    "    log = (len(leptons), time.time() - t)\n",
    "    return leptons, log"
   ]
  },
  {
   "cell_type": "code",
   "execution_count": 216,
   "metadata": {},
   "outputs": [],
   "source": [
    "def merge(results):\n",
    "    log_list = []\n",
    "    leptons_list = []\n",
    "    for leptons, log in results:\n",
    "        log_list.append(log)\n",
    "        leptons_list.append(leptons)\n",
    "    return leptons_list, log_list"
   ]
  },
  {
   "cell_type": "code",
   "execution_count": 222,
   "metadata": {},
   "outputs": [],
   "source": [
    "tasks = []\n",
    "for file, num_row_groups in zip(files, num_rg_list):\n",
    "    d_url = delayed(partial_get_signed_url)(file[\"scope\"], file[\"name\"])\n",
    "    sub_tasks = []\n",
    "    for i in range(num_row_groups):\n",
    "        sub_tasks.append(delayed(run_chunk)(d_url, i))\n",
    "    tasks.append(delayed(merge)(sub_tasks))"
   ]
  },
  {
   "cell_type": "code",
   "execution_count": 218,
   "metadata": {},
   "outputs": [
    {
     "data": {
      "text/plain": [
       "465"
      ]
     },
     "execution_count": 218,
     "metadata": {},
     "output_type": "execute_result"
    }
   ],
   "source": [
    "len(tasks)"
   ]
  },
  {
   "cell_type": "code",
   "execution_count": 219,
   "metadata": {},
   "outputs": [],
   "source": [
    "#tasks = dask.persist(*tasks)"
   ]
  },
  {
   "cell_type": "code",
   "execution_count": 223,
   "metadata": {},
   "outputs": [],
   "source": [
    "#tasks = dask.persist(*tasks[::10])\n",
    "tasks = dask.persist(*tasks)\n",
    "wait(tasks);"
   ]
  },
  {
   "cell_type": "code",
   "execution_count": 224,
   "metadata": {},
   "outputs": [
    {
     "data": {
      "text/plain": [
       "[<Future: finished, type: builtins.tuple, key: merge-b7f93e03-6bcf-425b-a8f3-faa44677e164>]"
      ]
     },
     "execution_count": 224,
     "metadata": {},
     "output_type": "execute_result"
    }
   ],
   "source": [
    "futures_of(tasks[0])"
   ]
  },
  {
   "cell_type": "code",
   "execution_count": 225,
   "metadata": {},
   "outputs": [
    {
     "data": {
      "text/plain": [
       "Delayed('getitem-e277dc31795b8c24b83c9787039fd9cd')"
      ]
     },
     "execution_count": 225,
     "metadata": {},
     "output_type": "execute_result"
    }
   ],
   "source": [
    "tasks[0][0]"
   ]
  },
  {
   "cell_type": "code",
   "execution_count": 228,
   "metadata": {},
   "outputs": [],
   "source": [
    "log_list = list(dask.compute(*[t[1] for t in tasks if futures_of(t)[0].status == \"finished\"]))"
   ]
  },
  {
   "cell_type": "code",
   "execution_count": 230,
   "metadata": {},
   "outputs": [],
   "source": [
    "events_times = np.concatenate(log_list)"
   ]
  },
  {
   "cell_type": "code",
   "execution_count": 236,
   "metadata": {},
   "outputs": [
    {
     "data": {
      "text/plain": [
       "6885.7351277513"
      ]
     },
     "execution_count": 236,
     "metadata": {},
     "output_type": "execute_result"
    }
   ],
   "source": [
    "events_times[:, 0].sum() / events_times[:, 1].sum()"
   ]
  },
  {
   "cell_type": "code",
   "execution_count": 45,
   "metadata": {},
   "outputs": [],
   "source": [
    "def get_mass(leptons, selection=\"all\"):\n",
    "    leptons = ak.from_arrow(leptons)\n",
    "    leptons = ak.with_parameter(leptons, \"__record__\", \"xAODParticle\")\n",
    "    if selection == \"all\":\n",
    "        l1, l2 = ak.unzip(ak.combinations(leptons, 2))\n",
    "    elif selection == \"signal\":\n",
    "        l1, l2 = ak.unzip(ak.combinations(leptons.mask[leptons.signal & leptons.passOR], 2))\n",
    "    elif selection == \"baseline\":\n",
    "        l1, l2 = ak.unzip(ak.combinations(leptons.mask[leptons.baseline & leptons.passOR], 2))\n",
    "    l1, l2 = [ak.with_parameter(i, \"__record__\", \"xAODParticle\") for i in [l1, l2]]\n",
    "    m = (l1 + l2).mass\n",
    "    m = ak.flatten(m, axis=None)\n",
    "    m = ak.to_numpy(m)\n",
    "    return m"
   ]
  },
  {
   "cell_type": "code",
   "execution_count": 154,
   "metadata": {},
   "outputs": [],
   "source": [
    "def get_mass(leptons, selection=\"all\"):\n",
    "\n",
    "    def get_mass_single(leptons):\n",
    "        leptons = ak.from_arrow(leptons)\n",
    "        leptons = ak.with_parameter(leptons, \"__record__\", \"xAODParticle\")\n",
    "        if selection == \"all\":\n",
    "            l1, l2 = ak.unzip(ak.combinations(leptons, 2))\n",
    "        elif selection == \"signal\":\n",
    "            l1, l2 = ak.unzip(ak.combinations(leptons.mask[leptons.signal & leptons.passOR], 2))\n",
    "        elif selection == \"baseline\":\n",
    "            l1, l2 = ak.unzip(ak.combinations(leptons.mask[leptons.baseline & leptons.passOR], 2))\n",
    "        l1, l2 = [ak.with_parameter(i, \"__record__\", \"xAODParticle\") for i in [l1, l2]]\n",
    "        m = (l1 + l2).mass\n",
    "        m = ak.flatten(m, axis=None)\n",
    "        m = ak.to_numpy(m)\n",
    "        return m\n",
    "    \n",
    "    if isinstance(leptons, list):\n",
    "        m = []\n",
    "        for leptons_i in leptons:\n",
    "            m.append(get_mass_single(leptons_i))\n",
    "        return np.concatenate(m)\n",
    "    \n",
    "    return get_mass_single(leptons)"
   ]
  },
  {
   "cell_type": "code",
   "execution_count": 46,
   "metadata": {},
   "outputs": [],
   "source": [
    "(m_list_all,) = dask.compute([delayed(partial(get_mass, selection=\"all\"))(i) for i in tasks])"
   ]
  },
  {
   "cell_type": "code",
   "execution_count": 47,
   "metadata": {},
   "outputs": [],
   "source": [
    "GeV = 1000."
   ]
  },
  {
   "cell_type": "code",
   "execution_count": 48,
   "metadata": {},
   "outputs": [
    {
     "name": "stderr",
     "output_type": "stream",
     "text": [
      "<ipython-input-48-c7c44ec3c1eb>:11: UserWarning: Attempted to set non-positive bottom ylim on a log-scaled axis.\n",
      "Invalid limit will be ignored.\n",
      "  plt.ylim(0, 1e7)\n"
     ]
    },
    {
     "data": {
      "text/plain": [
       "(166.09899597059956, 10000000.0)"
      ]
     },
     "execution_count": 48,
     "metadata": {},
     "output_type": "execute_result"
    },
    {
     "data": {
      "image/png": "[encoded data removed]",
      "text/plain": [
       "<Figure size 432x288 with 1 Axes>"
      ]
     },
     "metadata": {
      "needs_background": "light"
     },
     "output_type": "display_data"
    }
   ],
   "source": [
    "opts = dict(\n",
    "    bins=np.geomspace(0.2, 200, 500),\n",
    "    histtype=\"stepfilled\", alpha=0.5\n",
    ")\n",
    "plt.hist(np.concatenate(m_list_all) / GeV, label=\"all\", **opts);\n",
    "#plt.hist(np.concatenate(m_list_baseline) / GeV, label=\"after baseline selection\", **opts);\n",
    "plt.yscale(\"log\")\n",
    "plt.xscale(\"log\")\n",
    "plt.xlabel(\"Dilepton mass [GeV]\")\n",
    "plt.legend()\n",
    "plt.ylim(0, 1e7)"
   ]
  }
 ],
 "metadata": {
  "kernelspec": {
   "display_name": "Python 3 (ipykernel)",
   "language": "python",
   "name": "python3"
  },
  "language_info": {
   "codemirror_mode": {
    "name": "ipython",
    "version": 3
   },
   "file_extension": ".py",
   "mimetype": "text/x-python",
   "name": "python",
   "nbconvert_exporter": "python",
   "pygments_lexer": "ipython3",
   "version": "3.8.10"
  }
 },
 "nbformat": 4,
 "nbformat_minor": 4
}
