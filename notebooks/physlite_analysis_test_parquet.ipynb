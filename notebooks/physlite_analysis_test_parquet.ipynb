{
 "cells": [
  {
   "cell_type": "code",
   "execution_count": 1,
   "metadata": {},
   "outputs": [],
   "source": [
    "%run utils.py"
   ]
  },
  {
   "cell_type": "code",
   "execution_count": 2,
   "metadata": {},
   "outputs": [
    {
     "data": {
      "application/vnd.jupyter.widget-view+json": {
       "model_id": "b353557d94af46ae9e9f8991d0149da8",
       "version_major": 2,
       "version_minor": 0
      },
      "text/plain": [
       "FileUpload(value={}, description='Upload')"
      ]
     },
     "metadata": {},
     "output_type": "display_data"
    }
   ],
   "source": [
    "from ipywidgets import FileUpload\n",
    "upload = FileUpload()\n",
    "upload"
   ]
  },
  {
   "cell_type": "code",
   "execution_count": 15,
   "metadata": {},
   "outputs": [],
   "source": [
    "import awkward as ak\n",
    "from physlite_experiments.physlite_events import Factory\n",
    "from physlite_experiments.analysis_example import get_obj_sel\n",
    "import fsspec\n",
    "import pyarrow.parquet as pq\n",
    "import requests\n",
    "import io\n",
    "from functools import partial\n",
    "import numpy as np\n",
    "import matplotlib.pyplot as plt\n",
    "import gc\n",
    "\n",
    "setup_rucio_and_proxy(upload.data[-1])\n",
    "from rucio.client import Client\n",
    "rucio_client = Client()"
   ]
  },
  {
   "cell_type": "code",
   "execution_count": 4,
   "metadata": {},
   "outputs": [],
   "source": [
    "files = list(rucio_client.list_files(\"user.nihartma\", \"user.nihartma.physlite_to_parquet_gcp.00338183.r10258_p3399_p4309_tid22958105_00_output.parquet\"))"
   ]
  },
  {
   "cell_type": "code",
   "execution_count": 5,
   "metadata": {},
   "outputs": [],
   "source": [
    "url = get_signed_url(rucio_client, \"user.nihartma\", files[0][\"name\"])"
   ]
  },
  {
   "cell_type": "code",
   "execution_count": 6,
   "metadata": {},
   "outputs": [
    {
     "name": "stdout",
     "output_type": "stream",
     "text": [
      "CPU times: user 181 ms, sys: 18.1 ms, total: 199 ms\n",
      "Wall time: 458 ms\n"
     ]
    }
   ],
   "source": [
    "%%time\n",
    "with fsspec.open(url, cache_type=\"none\") as f:\n",
    "    events = Factory.from_parquet(f, row_groups=0).events"
   ]
  },
  {
   "cell_type": "code",
   "execution_count": 8,
   "metadata": {},
   "outputs": [
    {
     "data": {
      "text/plain": [
       "<xAODTrackParticleArray [[], [], [], [], ... [], []] type='44235 * var * var * x...'>"
      ]
     },
     "execution_count": 8,
     "metadata": {},
     "output_type": "execute_result"
    }
   ],
   "source": [
    "events.Electrons.trackParticles"
   ]
  },
  {
   "cell_type": "code",
   "execution_count": 9,
   "metadata": {},
   "outputs": [
    {
     "name": "stderr",
     "output_type": "stream",
     "text": [
      "/srv/conda/envs/notebook/lib/python3.8/site-packages/awkward/_connect/_numpy.py:160: RuntimeWarning: divide by zero encountered in true_divide\n",
      "  result = getattr(ufunc, method)(\n"
     ]
    },
    {
     "name": "stdout",
     "output_type": "stream",
     "text": [
      "CPU times: user 3.67 s, sys: 991 ms, total: 4.66 s\n",
      "Wall time: 6.53 s\n"
     ]
    }
   ],
   "source": [
    "%%time\n",
    "events_decorated = get_obj_sel(events)"
   ]
  },
  {
   "cell_type": "code",
   "execution_count": 10,
   "metadata": {},
   "outputs": [
    {
     "data": {
      "text/plain": [
       "44235"
      ]
     },
     "execution_count": 10,
     "metadata": {},
     "output_type": "execute_result"
    }
   ],
   "source": [
    "len(events)"
   ]
  },
  {
   "cell_type": "code",
   "execution_count": 12,
   "metadata": {},
   "outputs": [],
   "source": [
    "def run_analysis(f, **kwargs):\n",
    "    events = Factory.from_parquet(f, **kwargs).events\n",
    "    events_decorated = get_obj_sel(events)\n",
    "    return events_decorated"
   ]
  },
  {
   "cell_type": "code",
   "execution_count": 13,
   "metadata": {},
   "outputs": [
    {
     "name": "stdout",
     "output_type": "stream",
     "text": [
      "CPU times: user 4.21 s, sys: 1.39 s, total: 5.61 s\n",
      "Wall time: 5.74 s\n"
     ]
    }
   ],
   "source": [
    "%%time\n",
    "data = requests.get(url).content\n",
    "res = run_analysis(io.BytesIO(data))"
   ]
  },
  {
   "cell_type": "code",
   "execution_count": 14,
   "metadata": {},
   "outputs": [
    {
     "name": "stdout",
     "output_type": "stream",
     "text": [
      "CPU times: user 3.75 s, sys: 831 ms, total: 4.58 s\n",
      "Wall time: 6.11 s\n"
     ]
    }
   ],
   "source": [
    "%%time\n",
    "with fsspec.open(url, cache_type=\"none\") as f:\n",
    "    res = run_analysis(f)"
   ]
  },
  {
   "cell_type": "code",
   "execution_count": 18,
   "metadata": {},
   "outputs": [],
   "source": [
    "def get_leptons(url):\n",
    "    with fsspec.open(url, cache_type=\"none\") as f:\n",
    "        pqf = pq.ParquetFile(f)\n",
    "        leptons = []\n",
    "        for i in range(pqf.num_row_groups):\n",
    "            events_decorated = run_analysis(f, row_groups=i)\n",
    "            events_decorated[\"Muons\", \"m\"] = 105.6583715\n",
    "            leptons.append(\n",
    "                ak.concatenate([events_decorated.Electrons, events_decorated.Muons], axis=1)\n",
    "            )\n",
    "        leptons = ak.concatenate(leptons)\n",
    "        leptons = leptons[[\"pt\", \"eta\", \"phi\", \"m\", \"passOR\", \"baseline\", \"signal\"]]\n",
    "        leptons = ak.copy(ak.from_arrow(ak.to_arrow(leptons)))\n",
    "        del events_decorated\n",
    "        gc.collect()\n",
    "    return ak.to_arrow(leptons)"
   ]
  },
  {
   "cell_type": "code",
   "execution_count": 20,
   "metadata": {},
   "outputs": [
    {
     "name": "stdout",
     "output_type": "stream",
     "text": [
      "CPU times: user 3.88 s, sys: 751 ms, total: 4.63 s\n",
      "Wall time: 6.3 s\n"
     ]
    }
   ],
   "source": [
    "%%time\n",
    "res = get_leptons(url)"
   ]
  },
  {
   "cell_type": "code",
   "execution_count": 23,
   "metadata": {},
   "outputs": [
    {
     "data": {
      "application/vnd.jupyter.widget-view+json": {
       "model_id": "3d38e0885cf44ac6a30418d754aa51bf",
       "version_major": 2,
       "version_minor": 0
      },
      "text/plain": [
       "VBox(children=(HTML(value='<h2>GatewayCluster</h2>'), HBox(children=(HTML(value='\\n<div>\\n<style scoped>\\n    …"
      ]
     },
     "metadata": {},
     "output_type": "display_data"
    }
   ],
   "source": [
    "from dask_gateway import GatewayCluster\n",
    "cluster = GatewayCluster(\n",
    "    worker_cores=1,\n",
    "    worker_memory=3.5,\n",
    "    image=\"eu.gcr.io/gke-dev-311213/dask-gateway-physlite:20210622\"\n",
    ")\n",
    "cluster"
   ]
  },
  {
   "cell_type": "code",
   "execution_count": 49,
   "metadata": {},
   "outputs": [],
   "source": [
    "#cluster.shutdown()"
   ]
  },
  {
   "cell_type": "code",
   "execution_count": 25,
   "metadata": {},
   "outputs": [
    {
     "name": "stderr",
     "output_type": "stream",
     "text": [
      "/srv/conda/envs/notebook/lib/python3.8/site-packages/distributed/client.py:1129: VersionMismatchWarning: Mismatched versions found\n",
      "\n",
      "+---------+---------------+---------------+---------------+\n",
      "| Package | client        | scheduler     | workers       |\n",
      "+---------+---------------+---------------+---------------+\n",
      "| numpy   | 1.19.4        | 1.19.2        | 1.19.2        |\n",
      "| python  | 3.8.6.final.0 | 3.8.3.final.0 | 3.8.3.final.0 |\n",
      "+---------+---------------+---------------+---------------+\n",
      "  warnings.warn(version_module.VersionMismatchWarning(msg[0][\"warning\"]))\n"
     ]
    }
   ],
   "source": [
    "client = cluster.get_client()"
   ]
  },
  {
   "cell_type": "code",
   "execution_count": 38,
   "metadata": {},
   "outputs": [
    {
     "data": {
      "text/html": [
       "<table style=\"border: 2px solid white;\">\n",
       "<tr>\n",
       "<td style=\"vertical-align: top; border: 0px solid white\">\n",
       "<h3 style=\"text-align: left;\">Client</h3>\n",
       "<ul style=\"text-align: left; list-style: none; margin: 0; padding: 0;\">\n",
       "  <li><b>Scheduler: </b>gateway://traefik-dhub-dask-gateway.default:80/default.bd5945b104964835a76302e5e57d5118</li>\n",
       "  <li><b>Dashboard: </b><a href='/services/dask-gateway/clusters/default.bd5945b104964835a76302e5e57d5118/status' target='_blank'>/services/dask-gateway/clusters/default.bd5945b104964835a76302e5e57d5118/status</a></li>\n",
       "</ul>\n",
       "</td>\n",
       "<td style=\"vertical-align: top; border: 0px solid white\">\n",
       "<h3 style=\"text-align: left;\">Cluster</h3>\n",
       "<ul style=\"text-align: left; list-style:none; margin: 0; padding: 0;\">\n",
       "  <li><b>Workers: </b>93</li>\n",
       "  <li><b>Cores: </b>93</li>\n",
       "  <li><b>Memory: </b>349.50 GB</li>\n",
       "</ul>\n",
       "</td>\n",
       "</tr>\n",
       "</table>"
      ],
      "text/plain": [
       "<Client: 'tls://10.64.2.16:8786' processes=85 threads=85, memory=319.44 GB>"
      ]
     },
     "execution_count": 38,
     "metadata": {},
     "output_type": "execute_result"
    }
   ],
   "source": [
    "client.restart()"
   ]
  },
  {
   "cell_type": "code",
   "execution_count": 39,
   "metadata": {},
   "outputs": [
    {
     "data": {
      "text/plain": [
       "974"
      ]
     },
     "execution_count": 39,
     "metadata": {},
     "output_type": "execute_result"
    }
   ],
   "source": [
    "len(files)"
   ]
  },
  {
   "cell_type": "code",
   "execution_count": 40,
   "metadata": {},
   "outputs": [],
   "source": [
    "import dask\n",
    "from dask import delayed"
   ]
  },
  {
   "cell_type": "code",
   "execution_count": 42,
   "metadata": {},
   "outputs": [],
   "source": [
    "tasks = []\n",
    "for file in files:\n",
    "    d_url = delayed(get_signed_url_worker)(upload.data[-1], file[\"scope\"], file[\"name\"])\n",
    "    d_leptons = delayed(get_leptons)(d_url)\n",
    "    tasks.append(d_leptons)"
   ]
  },
  {
   "cell_type": "code",
   "execution_count": 31,
   "metadata": {},
   "outputs": [],
   "source": [
    "#tasks = dask.persist(*tasks)"
   ]
  },
  {
   "cell_type": "code",
   "execution_count": 44,
   "metadata": {},
   "outputs": [],
   "source": [
    "from dask.distributed import performance_report, wait\n",
    "with performance_report(filename=\"dask-report-1percent-parquet.html\"):\n",
    "    tasks = dask.persist(*tasks)\n",
    "    wait(tasks)"
   ]
  },
  {
   "cell_type": "code",
   "execution_count": 45,
   "metadata": {},
   "outputs": [],
   "source": [
    "def get_mass(leptons, selection=\"all\"):\n",
    "    leptons = ak.from_arrow(leptons)\n",
    "    leptons = ak.with_parameter(leptons, \"__record__\", \"xAODParticle\")\n",
    "    if selection == \"all\":\n",
    "        l1, l2 = ak.unzip(ak.combinations(leptons, 2))\n",
    "    elif selection == \"signal\":\n",
    "        l1, l2 = ak.unzip(ak.combinations(leptons.mask[leptons.signal & leptons.passOR], 2))\n",
    "    elif selection == \"baseline\":\n",
    "        l1, l2 = ak.unzip(ak.combinations(leptons.mask[leptons.baseline & leptons.passOR], 2))\n",
    "    l1, l2 = [ak.with_parameter(i, \"__record__\", \"xAODParticle\") for i in [l1, l2]]\n",
    "    m = (l1 + l2).mass\n",
    "    m = ak.flatten(m, axis=None)\n",
    "    m = ak.to_numpy(m)\n",
    "    return m"
   ]
  },
  {
   "cell_type": "code",
   "execution_count": 46,
   "metadata": {},
   "outputs": [],
   "source": [
    "(m_list_all,) = dask.compute([delayed(partial(get_mass, selection=\"all\"))(i) for i in tasks])"
   ]
  },
  {
   "cell_type": "code",
   "execution_count": 47,
   "metadata": {},
   "outputs": [],
   "source": [
    "GeV = 1000."
   ]
  },
  {
   "cell_type": "code",
   "execution_count": 48,
   "metadata": {},
   "outputs": [
    {
     "name": "stderr",
     "output_type": "stream",
     "text": [
      "<ipython-input-48-c7c44ec3c1eb>:11: UserWarning: Attempted to set non-positive bottom ylim on a log-scaled axis.\n",
      "Invalid limit will be ignored.\n",
      "  plt.ylim(0, 1e7)\n"
     ]
    },
    {
     "data": {
      "text/plain": [
       "(166.09899597059956, 10000000.0)"
      ]
     },
     "execution_count": 48,
     "metadata": {},
     "output_type": "execute_result"
    },
    {
     "data": {
      "image/png": "[encoded data removed]",
      "text/plain": [
       "<Figure size 432x288 with 1 Axes>"
      ]
     },
     "metadata": {
      "needs_background": "light"
     },
     "output_type": "display_data"
    }
   ],
   "source": [
    "opts = dict(\n",
    "    bins=np.geomspace(0.2, 200, 500),\n",
    "    histtype=\"stepfilled\", alpha=0.5\n",
    ")\n",
    "plt.hist(np.concatenate(m_list_all) / GeV, label=\"all\", **opts);\n",
    "#plt.hist(np.concatenate(m_list_baseline) / GeV, label=\"after baseline selection\", **opts);\n",
    "plt.yscale(\"log\")\n",
    "plt.xscale(\"log\")\n",
    "plt.xlabel(\"Dilepton mass [GeV]\")\n",
    "plt.legend()\n",
    "plt.ylim(0, 1e7)"
   ]
  }
 ],
 "metadata": {
  "kernelspec": {
   "display_name": "Python 3",
   "language": "python",
   "name": "python3"
  },
  "language_info": {
   "codemirror_mode": {
    "name": "ipython",
    "version": 3
   },
   "file_extension": ".py",
   "mimetype": "text/x-python",
   "name": "python",
   "nbconvert_exporter": "python",
   "pygments_lexer": "ipython3",
   "version": "3.8.6"
  }
 },
 "nbformat": 4,
 "nbformat_minor": 4
}
