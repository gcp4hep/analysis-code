{
 "cells": [
  {
   "cell_type": "code",
   "execution_count": 3,
   "metadata": {},
   "outputs": [],
   "source": [
    "import dask\n",
    "import dask.distributed"
   ]
  },
  {
   "cell_type": "code",
   "execution_count": 4,
   "metadata": {},
   "outputs": [],
   "source": [
    "#dask.config.set({'distributed.worker.memory.target': 0.4})\n",
    "#dask.config.set({'distributed.worker.memory.pause': 0.5})"
   ]
  },
  {
   "cell_type": "code",
   "execution_count": 5,
   "metadata": {},
   "outputs": [
    {
     "data": {
      "text/plain": [
       "{'target': 0.4, 'spill': 0.7, 'pause': 0.5, 'terminate': 0.95}"
      ]
     },
     "execution_count": 5,
     "metadata": {},
     "output_type": "execute_result"
    }
   ],
   "source": [
    "dask.config.config[\"distributed\"][\"worker\"][\"memory\"]"
   ]
  },
  {
   "cell_type": "code",
   "execution_count": 6,
   "metadata": {},
   "outputs": [],
   "source": [
    "import os\n",
    "os.environ['RUCIO_ACCOUNT']  = 'nihartma'\n",
    "os.environ['RUCIO_HOME'] = '/srv/conda/envs/notebook'"
   ]
  },
  {
   "cell_type": "code",
   "execution_count": 7,
   "metadata": {},
   "outputs": [
    {
     "data": {
      "application/vnd.jupyter.widget-view+json": {
       "model_id": "4295c64b209345e7885d5e78d0914cc2",
       "version_major": 2,
       "version_minor": 0
      },
      "text/plain": [
       "FileUpload(value={}, description='Upload')"
      ]
     },
     "metadata": {},
     "output_type": "display_data"
    }
   ],
   "source": [
    "from ipywidgets import FileUpload\n",
    "upload = FileUpload()\n",
    "display(upload)"
   ]
  },
  {
   "cell_type": "code",
   "execution_count": 8,
   "metadata": {},
   "outputs": [],
   "source": [
    "x509_data = upload.data[-1]\n",
    "x509_proxy_path = \"/tmp/x509\"\n",
    "if os.path.exists(x509_proxy_path):\n",
    "    os.chmod(x509_proxy_path, 0o600)\n",
    "with open(x509_proxy_path, \"wb\") as f:\n",
    "    f.write(x509_data)\n",
    "os.chmod(x509_proxy_path, 0o400)\n",
    "os.environ['X509_USER_PROXY'] = x509_proxy_path"
   ]
  },
  {
   "cell_type": "code",
   "execution_count": 9,
   "metadata": {},
   "outputs": [],
   "source": [
    "import physlite_experiments\n",
    "from physlite_experiments.physlite_events import physlite_events\n",
    "from physlite_experiments.analysis_example import get_obj_sel\n",
    "import uproot\n",
    "import awkward as ak\n",
    "import numpy as np\n",
    "import matplotlib.pyplot as plt\n",
    "import rucio.client\n",
    "from tqdm.auto import tqdm\n",
    "import requests\n",
    "import io"
   ]
  },
  {
   "cell_type": "markdown",
   "metadata": {},
   "source": [
    "first get the child dids and then run `list_replicas` in parallel"
   ]
  },
  {
   "cell_type": "code",
   "execution_count": 10,
   "metadata": {},
   "outputs": [],
   "source": [
    "rucio_client = rucio.client.Client()"
   ]
  },
  {
   "cell_type": "code",
   "execution_count": 11,
   "metadata": {},
   "outputs": [],
   "source": [
    "did_content = list(rucio_client.list_content(\"data17_13TeV\", \"data17_13TeV.periodK.physics_Main.PhysCont.DAOD_PHYSLITE.grp17_v01_p4309\"))"
   ]
  },
  {
   "cell_type": "code",
   "execution_count": 12,
   "metadata": {},
   "outputs": [
    {
     "data": {
      "text/plain": [
       "{'scope': 'data17_13TeV',\n",
       " 'name': 'data17_13TeV.00338183.physics_Main.deriv.DAOD_PHYSLITE.r10258_p3399_p4309_tid22958105_00',\n",
       " 'type': 'DATASET',\n",
       " 'bytes': None,\n",
       " 'adler32': None,\n",
       " 'md5': None}"
      ]
     },
     "execution_count": 12,
     "metadata": {},
     "output_type": "execute_result"
    }
   ],
   "source": [
    "did_content[0]"
   ]
  },
  {
   "cell_type": "code",
   "execution_count": 13,
   "metadata": {},
   "outputs": [],
   "source": [
    "from concurrent.futures import ThreadPoolExecutor"
   ]
  },
  {
   "cell_type": "code",
   "execution_count": 14,
   "metadata": {},
   "outputs": [],
   "source": [
    "executor = ThreadPoolExecutor(max_workers=10)"
   ]
  },
  {
   "cell_type": "code",
   "execution_count": 15,
   "metadata": {},
   "outputs": [],
   "source": [
    "def list_replicas(did_dict, limit=None, signature_lifetime=7200):\n",
    "    rucio_client = rucio.client.Client()\n",
    "    replicas = rucio_client.list_replicas(\n",
    "        [{\"scope\": did_dict[\"scope\"], \"name\": did_dict[\"name\"]}],\n",
    "        rse_expression=\"GOOGLE_EU\",\n",
    "        signature_lifetime=signature_lifetime,\n",
    "    )\n",
    "    urls = []\n",
    "    sizes = []\n",
    "    _iter = tqdm(replicas, desc=did_dict[\"name\"])\n",
    "    if limit is None:\n",
    "        _iter = enumerate(_iter)\n",
    "    else:\n",
    "        _iter = zip(range(limit), _iter)\n",
    "    for i, replica in _iter:\n",
    "        try:\n",
    "            urls.append(list(replica[\"pfns\"].keys())[0])\n",
    "            sizes.append(replica[\"bytes\"])\n",
    "        except IndexError:\n",
    "            print(\"no replica for\", replica[\"name\"])\n",
    "    return urls, sizes"
   ]
  },
  {
   "cell_type": "markdown",
   "metadata": {},
   "source": [
    "example to cross check signature expiry:\n",
    "```python\n",
    "_urls = list_replicas(did_content[0], limit=10)\n",
    "\n",
    "import datetime\n",
    "import pytz\n",
    "\n",
    "(\n",
    "    pytz.utc.localize(datetime.datetime.fromtimestamp(int(_urls[0].split(\"&\")[1].split(\"=\")[1])))\n",
    "    .astimezone(pytz.timezone(\"Europe/Berlin\"))\n",
    ").strftime(\"%Y-%m-%d %H:%M:%S %Z%z\")\n",
    "```"
   ]
  },
  {
   "cell_type": "code",
   "execution_count": null,
   "metadata": {},
   "outputs": [],
   "source": [
    "urls_list = executor.map(list_replicas, did_content)"
   ]
  },
  {
   "cell_type": "markdown",
   "metadata": {},
   "source": [
    "The analysis will be run on data directly downloaded into memory:"
   ]
  },
  {
   "cell_type": "code",
   "execution_count": 37,
   "metadata": {},
   "outputs": [],
   "source": [
    "def download(url):\n",
    "    return requests.get(url).content"
   ]
  },
  {
   "cell_type": "code",
   "execution_count": 38,
   "metadata": {},
   "outputs": [],
   "source": [
    "data = download(urls[0])"
   ]
  },
  {
   "cell_type": "code",
   "execution_count": 39,
   "metadata": {},
   "outputs": [],
   "source": [
    "rootfile = uproot.open(io.BytesIO(data))"
   ]
  },
  {
   "cell_type": "code",
   "execution_count": 40,
   "metadata": {},
   "outputs": [],
   "source": [
    "tree = rootfile[\"CollectionTree\"]"
   ]
  },
  {
   "cell_type": "code",
   "execution_count": 41,
   "metadata": {},
   "outputs": [],
   "source": [
    "from physlite_experiments.utils import subdivide\n",
    "import math"
   ]
  },
  {
   "cell_type": "code",
   "execution_count": 42,
   "metadata": {},
   "outputs": [
    {
     "name": "stdout",
     "output_type": "stream",
     "text": [
      "Skipping EventInfoAuxDyn.streamTagRobs\n",
      "Skipping EventInfoAuxDyn.streamTagDets\n",
      "Can't interpret PrimaryVerticesAuxDyn.neutralParticleLinks\n",
      "Skipping AnalysisHLT_tau35_medium1_tracktwo_tau25_medium1_tracktwo_03dR30_L1DR-TAU20ITAU12I-J25AuxDyn.TrigMatchedObjects\n",
      "Skipping AnalysisHLT_tau35_medium1_tracktwo_tau25_medium1_tracktwo_L1DR-TAU20ITAU12I-J25AuxDyn.TrigMatchedObjects\n",
      "Skipping AnalysisHLT_tau35_medium1_tracktwo_tau25_medium1_tracktwo_tautsf_L1DR-TAU20ITAU12I-J25AuxDyn.TrigMatchedObjects\n",
      "Skipping AnalysisHLT_mu14_ivarloose_tau25_medium1_tracktwo_L1DR-MU10TAU12I_TAU12I-J25AuxDyn.TrigMatchedObjects\n",
      "Skipping AnalysisHLT_tau80_medium1_tracktwo_L1TAU60_tau35_medium1_tracktwo_L1TAU12IM_L1TAU60_DR-TAU20ITAU12IAuxDyn.TrigMatchedObjects\n",
      "Skipping AnalysisHLT_e17_lhmedium_nod0_ivarloose_tau25_medium1_tracktwo_L1DR-EM15TAU12I-J25AuxDyn.TrigMatchedObjects\n"
     ]
    }
   ],
   "source": [
    "events = physlite_events(tree)"
   ]
  },
  {
   "cell_type": "code",
   "execution_count": 43,
   "metadata": {},
   "outputs": [
    {
     "data": {
      "text/plain": [
       "<Array [[], [], [], ... 3.45e+04], [], []] type='44235 * var * float32'>"
      ]
     },
     "execution_count": 43,
     "metadata": {},
     "output_type": "execute_result"
    }
   ],
   "source": [
    "events.Electrons.pt"
   ]
  },
  {
   "cell_type": "markdown",
   "metadata": {},
   "source": [
    "This is the actual analysis part, it runs some object selections on Electrons, Muons, Jets with overlap removal and adds `baseline`, `signal` and `passOR` fields."
   ]
  },
  {
   "cell_type": "code",
   "execution_count": 44,
   "metadata": {},
   "outputs": [
    {
     "name": "stderr",
     "output_type": "stream",
     "text": [
      "/srv/conda/envs/notebook/lib/python3.8/site-packages/awkward/_connect/_numpy.py:160: RuntimeWarning: divide by zero encountered in true_divide\n",
      "  result = getattr(ufunc, method)(\n"
     ]
    }
   ],
   "source": [
    "events_decorated = get_obj_sel(events)"
   ]
  },
  {
   "cell_type": "markdown",
   "metadata": {},
   "source": [
    "In this version i forgot to add the muon mass, so let's add it to do some dilepton invariant mass plots:"
   ]
  },
  {
   "cell_type": "code",
   "execution_count": 45,
   "metadata": {},
   "outputs": [],
   "source": [
    "events_decorated[\"Muons\", \"m\"] = 105.6583715"
   ]
  },
  {
   "cell_type": "code",
   "execution_count": 46,
   "metadata": {},
   "outputs": [],
   "source": [
    "leptons = ak.concatenate([events_decorated.Electrons, events_decorated.Muons], axis=1)\n",
    "leptons = ak.with_parameter(leptons, \"__record__\", \"xAODParticle\")"
   ]
  },
  {
   "cell_type": "code",
   "execution_count": 47,
   "metadata": {},
   "outputs": [],
   "source": [
    "l1, l2 = ak.unzip(ak.combinations(leptons.mask[leptons.signal & leptons.passOR], 2))"
   ]
  },
  {
   "cell_type": "code",
   "execution_count": 48,
   "metadata": {},
   "outputs": [],
   "source": [
    "m = (l1 + l2).mass\n",
    "m = ak.flatten(m, axis=None)\n",
    "m = ak.to_numpy(m)"
   ]
  },
  {
   "cell_type": "markdown",
   "metadata": {},
   "source": [
    "Dilepton invariant mass for signal leptons - the Upsilon and the Z peak are visible already from one file:"
   ]
  },
  {
   "cell_type": "code",
   "execution_count": 49,
   "metadata": {},
   "outputs": [
    {
     "data": {
      "image/png": "[encoded data removed]",
      "text/plain": [
       "<Figure size 432x288 with 1 Axes>"
      ]
     },
     "metadata": {
      "needs_background": "light"
     },
     "output_type": "display_data"
    }
   ],
   "source": [
    "plt.hist(m, bins=200, range=(0, 140000));"
   ]
  },
  {
   "cell_type": "markdown",
   "metadata": {},
   "source": [
    "let's wrap it into a single function that takes the binary data and outputs an arrow buffer for the lepton 4-momenta and the object selection flags:"
   ]
  },
  {
   "cell_type": "code",
   "execution_count": 50,
   "metadata": {},
   "outputs": [],
   "source": [
    "import gc"
   ]
  },
  {
   "cell_type": "code",
   "execution_count": 51,
   "metadata": {},
   "outputs": [],
   "source": [
    "def get_leptons(data, max_chunksize=50000):\n",
    "    with uproot.open(io.BytesIO(data)) as f:\n",
    "        tree = f[\"CollectionTree\"]\n",
    "        entry_start = 0\n",
    "        leptons = []\n",
    "        n = tree.num_entries\n",
    "        for chunksize in subdivide(n, math.ceil(n / max_chunksize)):\n",
    "            entry_stop = entry_start + chunksize\n",
    "            events = physlite_events(tree, entry_start=entry_start, entry_stop=entry_stop)\n",
    "            entry_start = entry_stop\n",
    "            events_decorated = get_obj_sel(events)\n",
    "            events_decorated[\"Muons\", \"m\"] = 105.6583715\n",
    "            leptons.append(\n",
    "                ak.concatenate([events_decorated.Electrons, events_decorated.Muons], axis=1)\n",
    "            )\n",
    "        leptons = ak.concatenate(leptons)\n",
    "        leptons = ak.to_arrow(leptons[[\"pt\", \"eta\", \"phi\", \"m\", \"passOR\", \"baseline\", \"signal\"]])\n",
    "    gc.collect()\n",
    "    return leptons"
   ]
  },
  {
   "cell_type": "code",
   "execution_count": null,
   "metadata": {},
   "outputs": [],
   "source": [
    "%%time\n",
    "l = ak.from_arrow(get_leptons(data, max_chunksize=20000))"
   ]
  },
  {
   "cell_type": "code",
   "execution_count": 53,
   "metadata": {},
   "outputs": [
    {
     "data": {
      "text/plain": [
       "44235"
      ]
     },
     "execution_count": 53,
     "metadata": {},
     "output_type": "execute_result"
    }
   ],
   "source": [
    "len(l)"
   ]
  },
  {
   "cell_type": "markdown",
   "metadata": {},
   "source": [
    "And then run it on dask on all files:"
   ]
  },
  {
   "cell_type": "code",
   "execution_count": 54,
   "metadata": {},
   "outputs": [],
   "source": [
    "from dask import delayed\n",
    "import dask"
   ]
  },
  {
   "cell_type": "code",
   "execution_count": 55,
   "metadata": {},
   "outputs": [],
   "source": [
    "# local cluster:\n",
    "#from dask.distributed import Client\n",
    "\n",
    "#client = Client(n_workers=8, threads_per_worker=1)\n",
    "#client"
   ]
  },
  {
   "cell_type": "code",
   "execution_count": 56,
   "metadata": {},
   "outputs": [],
   "source": [
    "#client.shutdown()"
   ]
  },
  {
   "cell_type": "code",
   "execution_count": 57,
   "metadata": {},
   "outputs": [],
   "source": [
    "# enter proxy/8787 in field on the left"
   ]
  },
  {
   "cell_type": "code",
   "execution_count": 58,
   "metadata": {},
   "outputs": [],
   "source": [
    "#client.restart()"
   ]
  },
  {
   "cell_type": "code",
   "execution_count": null,
   "metadata": {},
   "outputs": [],
   "source": []
  },
  {
   "cell_type": "code",
   "execution_count": 60,
   "metadata": {},
   "outputs": [],
   "source": [
    "# gateway cluster\n",
    "from dask_gateway import GatewayCluster\n",
    "cluster = GatewayCluster(\n",
    "    worker_cores=2,\n",
    "    worker_memory=8,\n",
    "    image=\"eu.gcr.io/gke-dev-311213/dask-gateway-physlite:20210526\"\n",
    ")"
   ]
  },
  {
   "cell_type": "code",
   "execution_count": 61,
   "metadata": {},
   "outputs": [
    {
     "data": {
      "application/vnd.jupyter.widget-view+json": {
       "model_id": "c7782407a7214e259982524b668190f1",
       "version_major": 2,
       "version_minor": 0
      },
      "text/plain": [
       "VBox(children=(HTML(value='<h2>GatewayCluster</h2>'), HBox(children=(HTML(value='\\n<div>\\n<style scoped>\\n    …"
      ]
     },
     "metadata": {},
     "output_type": "display_data"
    }
   ],
   "source": [
    "cluster"
   ]
  },
  {
   "cell_type": "code",
   "execution_count": 62,
   "metadata": {},
   "outputs": [],
   "source": [
    "#cluster.scale(100)\n",
    "cluster.scale(50)"
   ]
  },
  {
   "cell_type": "code",
   "execution_count": 109,
   "metadata": {},
   "outputs": [],
   "source": [
    "#cluster.shutdown()"
   ]
  },
  {
   "cell_type": "code",
   "execution_count": 64,
   "metadata": {},
   "outputs": [],
   "source": [
    "client = cluster.get_client()"
   ]
  },
  {
   "cell_type": "code",
   "execution_count": 65,
   "metadata": {},
   "outputs": [],
   "source": [
    "#client.restart()"
   ]
  },
  {
   "cell_type": "markdown",
   "metadata": {},
   "source": [
    "build the task graph:"
   ]
  },
  {
   "cell_type": "code",
   "execution_count": 66,
   "metadata": {},
   "outputs": [],
   "source": [
    "delayed_leptons = []\n",
    "for url in urls[::10]:\n",
    "    d_data = delayed(download)(url)\n",
    "    delayed_leptons.append(delayed(get_leptons)(d_data))"
   ]
  },
  {
   "cell_type": "code",
   "execution_count": 67,
   "metadata": {},
   "outputs": [],
   "source": [
    "from dask.distributed import performance_report, wait, fire_and_forget"
   ]
  },
  {
   "cell_type": "markdown",
   "metadata": {},
   "source": [
    "to save task graph:\n",
    "```python\n",
    "with performance_report(filename=\"dask-report-1percent.html\"):\n",
    "    (delayed_leptons,) = dask.persist(delayed_leptons)\n",
    "    wait(delayed_leptons)\n",
    "    #fire_and_forget(dask.compute(delayed_leptons))\n",
    "```"
   ]
  },
  {
   "cell_type": "code",
   "execution_count": 68,
   "metadata": {},
   "outputs": [],
   "source": [
    "(delayed_leptons,) = dask.persist(delayed_leptons)"
   ]
  },
  {
   "cell_type": "code",
   "execution_count": 103,
   "metadata": {},
   "outputs": [],
   "source": [
    "def get_mass(leptons, selection=\"all\"):\n",
    "    leptons = ak.from_arrow(leptons)\n",
    "    leptons = ak.with_parameter(leptons, \"__record__\", \"xAODParticle\")\n",
    "    if selection == \"all\":\n",
    "        l1, l2 = ak.unzip(ak.combinations(leptons, 2))\n",
    "    elif selection == \"signal\":\n",
    "        l1, l2 = ak.unzip(ak.combinations(leptons.mask[leptons.signal & leptons.passOR], 2))\n",
    "    elif selection == \"baseline\":\n",
    "        l1, l2 = ak.unzip(ak.combinations(leptons.mask[leptons.baseline & leptons.passOR], 2))\n",
    "    l1, l2 = [ak.with_parameter(i, \"__record__\", \"xAODParticle\") for i in [l1, l2]]\n",
    "    m = (l1 + l2).mass\n",
    "    m = ak.flatten(m, axis=None)\n",
    "    m = ak.to_numpy(m)\n",
    "    return m"
   ]
  },
  {
   "cell_type": "code",
   "execution_count": 73,
   "metadata": {},
   "outputs": [],
   "source": [
    "l = dask.compute(delayed_leptons[0])"
   ]
  },
  {
   "cell_type": "code",
   "execution_count": 74,
   "metadata": {},
   "outputs": [
    {
     "data": {
      "text/plain": [
       "Delayed('get_leptons-7a34a7a6-1a4f-4a81-bde9-6c67f9765b9b')"
      ]
     },
     "execution_count": 74,
     "metadata": {},
     "output_type": "execute_result"
    }
   ],
   "source": [
    "delayed_leptons[2]"
   ]
  },
  {
   "cell_type": "code",
   "execution_count": 75,
   "metadata": {},
   "outputs": [],
   "source": [
    "_ = dask.compute(delayed(get_mass)(delayed_leptons[0]))"
   ]
  },
  {
   "cell_type": "code",
   "execution_count": 76,
   "metadata": {},
   "outputs": [
    {
     "data": {
      "text/plain": [
       "Delayed('get_leptons-4bc1fd56-af9a-4eb1-a77c-e7b43f3b7cfe')"
      ]
     },
     "execution_count": 76,
     "metadata": {},
     "output_type": "execute_result"
    }
   ],
   "source": [
    "delayed_leptons[0]"
   ]
  },
  {
   "cell_type": "code",
   "execution_count": 79,
   "metadata": {},
   "outputs": [],
   "source": [
    "from dask.distributed import futures_of"
   ]
  },
  {
   "cell_type": "code",
   "execution_count": 87,
   "metadata": {},
   "outputs": [],
   "source": [
    "delayed_leptons_ok = [t for t in delayed_leptons if futures_of(t)[0].status == \"finished\"]"
   ]
  },
  {
   "cell_type": "code",
   "execution_count": 88,
   "metadata": {},
   "outputs": [
    {
     "data": {
      "text/plain": [
       "2539"
      ]
     },
     "execution_count": 88,
     "metadata": {},
     "output_type": "execute_result"
    }
   ],
   "source": [
    "len(delayed_leptons_ok)"
   ]
  },
  {
   "cell_type": "code",
   "execution_count": 89,
   "metadata": {},
   "outputs": [
    {
     "data": {
      "text/plain": [
       "2540"
      ]
     },
     "execution_count": 89,
     "metadata": {},
     "output_type": "execute_result"
    }
   ],
   "source": [
    "len(delayed_leptons)"
   ]
  },
  {
   "cell_type": "code",
   "execution_count": 104,
   "metadata": {},
   "outputs": [],
   "source": [
    "from functools import partial"
   ]
  },
  {
   "cell_type": "code",
   "execution_count": 105,
   "metadata": {},
   "outputs": [],
   "source": [
    "(m_list_all,) = dask.compute([delayed(partial(get_mass, selection=\"all\"))(i) for i in delayed_leptons_ok])"
   ]
  },
  {
   "cell_type": "code",
   "execution_count": 106,
   "metadata": {},
   "outputs": [],
   "source": [
    "(m_list_baseline,) = dask.compute([delayed(partial(get_mass, selection=\"baseline\"))(i) for i in delayed_leptons_ok])"
   ]
  },
  {
   "cell_type": "code",
   "execution_count": 101,
   "metadata": {},
   "outputs": [],
   "source": [
    "GeV = 1000"
   ]
  },
  {
   "cell_type": "code",
   "execution_count": 117,
   "metadata": {},
   "outputs": [
    {
     "name": "stderr",
     "output_type": "stream",
     "text": [
      "<ipython-input-117-d6730309f2d1>:9: UserWarning: Attempted to set non-positive bottom ylim on a log-scaled axis.\n",
      "Invalid limit will be ignored.\n",
      "  plt.ylim(0, 1e7)\n"
     ]
    },
    {
     "data": {
      "image/png": "[encoded data removed]",
      "text/plain": [
       "<Figure size 432x288 with 1 Axes>"
      ]
     },
     "metadata": {
      "needs_background": "light"
     },
     "output_type": "display_data"
    }
   ],
   "source": [
    "opts = dict(\n",
    "    bins=np.geomspace(0.2, 200, 500),\n",
    "    histtype=\"stepfilled\", alpha=0.5\n",
    ")\n",
    "plt.hist(np.concatenate(m_list_all) / GeV, label=\"all\", **opts);\n",
    "plt.hist(np.concatenate(m_list_baseline) / GeV, label=\"after baseline selection\", **opts);\n",
    "plt.yscale(\"log\")\n",
    "plt.xscale(\"log\")\n",
    "plt.xlabel(\"Dilepton mass [GeV]\")\n",
    "plt.legend()\n",
    "plt.ylim(0, 1e7)\n",
    "plt.savefig(\"m2l_baseline_1percent.pdf\")"
   ]
  }
 ],
 "metadata": {
  "kernelspec": {
   "display_name": "Python 3",
   "language": "python",
   "name": "python3"
  },
  "language_info": {
   "codemirror_mode": {
    "name": "ipython",
    "version": 3
   },
   "file_extension": ".py",
   "mimetype": "text/x-python",
   "name": "python",
   "nbconvert_exporter": "python",
   "pygments_lexer": "ipython3",
   "version": "3.8.6"
  }
 },
 "nbformat": 4,
 "nbformat_minor": 4
}
