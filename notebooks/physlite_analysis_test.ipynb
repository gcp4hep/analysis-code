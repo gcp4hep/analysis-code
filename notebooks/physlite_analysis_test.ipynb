{
 "cells": [
  {
   "cell_type": "code",
   "execution_count": 56,
   "metadata": {},
   "outputs": [],
   "source": [
    "# run instead of import to be able to serialize the functions and send them to the workers\n",
    "# otherwise one would need to upload the file explicitely for each worker\n",
    "%run utils.py"
   ]
  },
  {
   "cell_type": "code",
   "execution_count": 4,
   "metadata": {},
   "outputs": [],
   "source": [
    "import dask\n",
    "import dask.distributed"
   ]
  },
  {
   "cell_type": "code",
   "execution_count": 5,
   "metadata": {},
   "outputs": [],
   "source": [
    "#dask.config.set({'distributed.worker.memory.target': 0.4})\n",
    "#dask.config.set({'distributed.worker.memory.pause': 0.5})"
   ]
  },
  {
   "cell_type": "code",
   "execution_count": 6,
   "metadata": {},
   "outputs": [
    {
     "data": {
      "text/plain": [
       "{'target': 0.6, 'spill': 0.7, 'pause': 0.8, 'terminate': 0.95}"
      ]
     },
     "execution_count": 6,
     "metadata": {},
     "output_type": "execute_result"
    }
   ],
   "source": [
    "dask.config.config[\"distributed\"][\"worker\"][\"memory\"]"
   ]
  },
  {
   "cell_type": "code",
   "execution_count": 7,
   "metadata": {},
   "outputs": [
    {
     "data": {
      "application/vnd.jupyter.widget-view+json": {
       "model_id": "d682807c975849299e1007b3c918ca0f",
       "version_major": 2,
       "version_minor": 0
      },
      "text/plain": [
       "FileUpload(value={}, description='Upload')"
      ]
     },
     "metadata": {},
     "output_type": "display_data"
    }
   ],
   "source": [
    "from ipywidgets import FileUpload\n",
    "upload = FileUpload()\n",
    "display(upload)"
   ]
  },
  {
   "cell_type": "code",
   "execution_count": 9,
   "metadata": {},
   "outputs": [],
   "source": [
    "setup_rucio_and_proxy(upload.data[-1], rucio_account=\"nihartma\")"
   ]
  },
  {
   "cell_type": "code",
   "execution_count": 10,
   "metadata": {},
   "outputs": [],
   "source": [
    "import physlite_experiments\n",
    "from physlite_experiments.physlite_events import physlite_events\n",
    "from physlite_experiments.analysis_example import get_obj_sel\n",
    "import uproot\n",
    "import awkward as ak\n",
    "import numpy as np\n",
    "import matplotlib.pyplot as plt\n",
    "import rucio.client\n",
    "from tqdm.auto import tqdm\n",
    "import requests\n",
    "import io"
   ]
  },
  {
   "cell_type": "markdown",
   "metadata": {},
   "source": [
    "first, list the filenames:"
   ]
  },
  {
   "cell_type": "code",
   "execution_count": 11,
   "metadata": {},
   "outputs": [],
   "source": [
    "rucio_client = rucio.client.Client()"
   ]
  },
  {
   "cell_type": "code",
   "execution_count": 12,
   "metadata": {},
   "outputs": [],
   "source": [
    "files = list(rucio_client.list_files(\"data17_13TeV\", \"data17_13TeV.periodK.physics_Main.PhysCont.DAOD_PHYSLITE.grp17_v01_p4309\"))"
   ]
  },
  {
   "cell_type": "code",
   "execution_count": 14,
   "metadata": {},
   "outputs": [
    {
     "data": {
      "text/plain": [
       "{'scope': 'data17_13TeV',\n",
       " 'name': 'DAOD_PHYSLITE.22958312._000001.pool.root.1',\n",
       " 'bytes': 339098731,\n",
       " 'adler32': 'ea4a58e1',\n",
       " 'guid': '9182E93759873A4BA6ABC72E1C286873',\n",
       " 'events': 42870}"
      ]
     },
     "execution_count": 14,
     "metadata": {},
     "output_type": "execute_result"
    }
   ],
   "source": [
    "files[0]"
   ]
  },
  {
   "cell_type": "code",
   "execution_count": 16,
   "metadata": {},
   "outputs": [],
   "source": [
    "url = get_signed_url(rucio_client, files[0][\"scope\"], files[0][\"name\"])"
   ]
  },
  {
   "cell_type": "markdown",
   "metadata": {},
   "source": [
    "The analysis will be run on data directly downloaded into memory:"
   ]
  },
  {
   "cell_type": "code",
   "execution_count": 17,
   "metadata": {},
   "outputs": [],
   "source": [
    "def download(url):\n",
    "    return requests.get(url).content"
   ]
  },
  {
   "cell_type": "code",
   "execution_count": 18,
   "metadata": {},
   "outputs": [],
   "source": [
    "data = download(url)"
   ]
  },
  {
   "cell_type": "code",
   "execution_count": 19,
   "metadata": {},
   "outputs": [],
   "source": [
    "rootfile = uproot.open(io.BytesIO(data))"
   ]
  },
  {
   "cell_type": "code",
   "execution_count": 20,
   "metadata": {},
   "outputs": [],
   "source": [
    "tree = rootfile[\"CollectionTree\"]"
   ]
  },
  {
   "cell_type": "code",
   "execution_count": 21,
   "metadata": {},
   "outputs": [],
   "source": [
    "from physlite_experiments.utils import subdivide\n",
    "import math"
   ]
  },
  {
   "cell_type": "code",
   "execution_count": 22,
   "metadata": {},
   "outputs": [
    {
     "name": "stdout",
     "output_type": "stream",
     "text": [
      "Skipping EventInfoAuxDyn.streamTagRobs\n",
      "Skipping EventInfoAuxDyn.streamTagDets\n",
      "Can't interpret PrimaryVerticesAuxDyn.neutralParticleLinks\n",
      "Skipping AnalysisHLT_mu14_ivarloose_tau25_medium1_tracktwo_L1DR-MU10TAU12I_TAU12I-J25AuxDyn.TrigMatchedObjects\n",
      "Skipping AnalysisHLT_e17_lhmedium_nod0_ivarloose_tau25_medium1_tracktwo_L1DR-EM15TAU12I-J25AuxDyn.TrigMatchedObjects\n",
      "Skipping AnalysisHLT_tau35_medium1_tracktwo_tau25_medium1_tracktwo_03dR30_L1DR-TAU20ITAU12I-J25AuxDyn.TrigMatchedObjects\n",
      "Skipping AnalysisHLT_tau35_medium1_tracktwo_tau25_medium1_tracktwo_L1DR-TAU20ITAU12I-J25AuxDyn.TrigMatchedObjects\n",
      "Skipping AnalysisHLT_tau35_medium1_tracktwo_tau25_medium1_tracktwo_tautsf_L1DR-TAU20ITAU12I-J25AuxDyn.TrigMatchedObjects\n",
      "Skipping AnalysisHLT_tau80_medium1_tracktwo_L1TAU60_tau35_medium1_tracktwo_L1TAU12IM_L1TAU60_DR-TAU20ITAU12IAuxDyn.TrigMatchedObjects\n"
     ]
    }
   ],
   "source": [
    "events = physlite_events(tree)"
   ]
  },
  {
   "cell_type": "code",
   "execution_count": 23,
   "metadata": {},
   "outputs": [
    {
     "data": {
      "text/plain": [
       "<Array [[], [], [], [], ... [], [4.81e+03], []] type='42870 * var * float32'>"
      ]
     },
     "execution_count": 23,
     "metadata": {},
     "output_type": "execute_result"
    }
   ],
   "source": [
    "events.Electrons.pt"
   ]
  },
  {
   "cell_type": "markdown",
   "metadata": {},
   "source": [
    "This is the actual analysis part, it runs some object selections on Electrons, Muons, Jets with overlap removal and adds `baseline`, `signal` and `passOR` fields."
   ]
  },
  {
   "cell_type": "code",
   "execution_count": 24,
   "metadata": {},
   "outputs": [
    {
     "name": "stderr",
     "output_type": "stream",
     "text": [
      "/srv/conda/envs/notebook/lib/python3.8/site-packages/awkward/_connect/_numpy.py:160: RuntimeWarning: divide by zero encountered in true_divide\n",
      "  result = getattr(ufunc, method)(\n"
     ]
    }
   ],
   "source": [
    "events_decorated = get_obj_sel(events)"
   ]
  },
  {
   "cell_type": "markdown",
   "metadata": {},
   "source": [
    "In this version i forgot to add the muon mass, so let's add it to do some dilepton invariant mass plots:"
   ]
  },
  {
   "cell_type": "code",
   "execution_count": 25,
   "metadata": {},
   "outputs": [],
   "source": [
    "events_decorated[\"Muons\", \"m\"] = 105.6583715"
   ]
  },
  {
   "cell_type": "code",
   "execution_count": 26,
   "metadata": {},
   "outputs": [],
   "source": [
    "leptons = ak.concatenate([events_decorated.Electrons, events_decorated.Muons], axis=1)\n",
    "leptons = ak.with_parameter(leptons, \"__record__\", \"xAODParticle\")"
   ]
  },
  {
   "cell_type": "code",
   "execution_count": 27,
   "metadata": {},
   "outputs": [],
   "source": [
    "l1, l2 = ak.unzip(ak.combinations(leptons.mask[leptons.signal & leptons.passOR], 2))"
   ]
  },
  {
   "cell_type": "code",
   "execution_count": 28,
   "metadata": {},
   "outputs": [],
   "source": [
    "m = (l1 + l2).mass\n",
    "m = ak.flatten(m, axis=None)\n",
    "m = ak.to_numpy(m)"
   ]
  },
  {
   "cell_type": "markdown",
   "metadata": {},
   "source": [
    "Dilepton invariant mass for signal leptons - the Upsilon and the Z peak are visible already from one file:"
   ]
  },
  {
   "cell_type": "code",
   "execution_count": 29,
   "metadata": {},
   "outputs": [
    {
     "data": {
      "image/png": "[encoded data removed]",
      "text/plain": [
       "<Figure size 432x288 with 1 Axes>"
      ]
     },
     "metadata": {
      "needs_background": "light"
     },
     "output_type": "display_data"
    }
   ],
   "source": [
    "plt.hist(m, bins=200, range=(0, 140000));"
   ]
  },
  {
   "cell_type": "markdown",
   "metadata": {},
   "source": [
    "let's wrap it into a single function that takes the binary data and outputs an arrow buffer for the lepton 4-momenta and the object selection flags:"
   ]
  },
  {
   "cell_type": "code",
   "execution_count": 30,
   "metadata": {},
   "outputs": [],
   "source": [
    "import gc"
   ]
  },
  {
   "cell_type": "code",
   "execution_count": 31,
   "metadata": {},
   "outputs": [],
   "source": [
    "def get_leptons(data, max_chunksize=50000):\n",
    "    with uproot.open(io.BytesIO(data)) as f:\n",
    "        tree = f[\"CollectionTree\"]\n",
    "        entry_start = 0\n",
    "        leptons = []\n",
    "        n = tree.num_entries\n",
    "        for chunksize in subdivide(n, math.ceil(n / max_chunksize)):\n",
    "            entry_stop = entry_start + chunksize\n",
    "            events = physlite_events(tree, entry_start=entry_start, entry_stop=entry_stop)\n",
    "            entry_start = entry_stop\n",
    "            events_decorated = get_obj_sel(events)\n",
    "            events_decorated[\"Muons\", \"m\"] = 105.6583715\n",
    "            leptons.append(\n",
    "                ak.concatenate([events_decorated.Electrons, events_decorated.Muons], axis=1)\n",
    "            )\n",
    "        leptons = ak.concatenate(leptons)\n",
    "        leptons = ak.to_arrow(leptons[[\"pt\", \"eta\", \"phi\", \"m\", \"passOR\", \"baseline\", \"signal\"]])\n",
    "    gc.collect()\n",
    "    return leptons"
   ]
  },
  {
   "cell_type": "code",
   "execution_count": 32,
   "metadata": {},
   "outputs": [
    {
     "name": "stdout",
     "output_type": "stream",
     "text": [
      "Skipping EventInfoAuxDyn.streamTagRobs\n",
      "Skipping EventInfoAuxDyn.streamTagDets\n",
      "Can't interpret PrimaryVerticesAuxDyn.neutralParticleLinks\n",
      "Skipping AnalysisHLT_mu14_ivarloose_tau25_medium1_tracktwo_L1DR-MU10TAU12I_TAU12I-J25AuxDyn.TrigMatchedObjects\n",
      "Skipping AnalysisHLT_e17_lhmedium_nod0_ivarloose_tau25_medium1_tracktwo_L1DR-EM15TAU12I-J25AuxDyn.TrigMatchedObjects\n",
      "Skipping AnalysisHLT_tau35_medium1_tracktwo_tau25_medium1_tracktwo_03dR30_L1DR-TAU20ITAU12I-J25AuxDyn.TrigMatchedObjects\n",
      "Skipping AnalysisHLT_tau35_medium1_tracktwo_tau25_medium1_tracktwo_L1DR-TAU20ITAU12I-J25AuxDyn.TrigMatchedObjects\n",
      "Skipping AnalysisHLT_tau35_medium1_tracktwo_tau25_medium1_tracktwo_tautsf_L1DR-TAU20ITAU12I-J25AuxDyn.TrigMatchedObjects\n",
      "Skipping AnalysisHLT_tau80_medium1_tracktwo_L1TAU60_tau35_medium1_tracktwo_L1TAU12IM_L1TAU60_DR-TAU20ITAU12IAuxDyn.TrigMatchedObjects\n",
      "Skipping EventInfoAuxDyn.streamTagRobs\n",
      "Skipping EventInfoAuxDyn.streamTagDets\n",
      "Can't interpret PrimaryVerticesAuxDyn.neutralParticleLinks\n",
      "Skipping AnalysisHLT_mu14_ivarloose_tau25_medium1_tracktwo_L1DR-MU10TAU12I_TAU12I-J25AuxDyn.TrigMatchedObjects\n",
      "Skipping AnalysisHLT_e17_lhmedium_nod0_ivarloose_tau25_medium1_tracktwo_L1DR-EM15TAU12I-J25AuxDyn.TrigMatchedObjects\n",
      "Skipping AnalysisHLT_tau35_medium1_tracktwo_tau25_medium1_tracktwo_03dR30_L1DR-TAU20ITAU12I-J25AuxDyn.TrigMatchedObjects\n",
      "Skipping AnalysisHLT_tau35_medium1_tracktwo_tau25_medium1_tracktwo_L1DR-TAU20ITAU12I-J25AuxDyn.TrigMatchedObjects\n",
      "Skipping AnalysisHLT_tau35_medium1_tracktwo_tau25_medium1_tracktwo_tautsf_L1DR-TAU20ITAU12I-J25AuxDyn.TrigMatchedObjects\n",
      "Skipping AnalysisHLT_tau80_medium1_tracktwo_L1TAU60_tau35_medium1_tracktwo_L1TAU12IM_L1TAU60_DR-TAU20ITAU12IAuxDyn.TrigMatchedObjects\n",
      "Skipping EventInfoAuxDyn.streamTagRobs\n",
      "Skipping EventInfoAuxDyn.streamTagDets\n",
      "Can't interpret PrimaryVerticesAuxDyn.neutralParticleLinks\n",
      "Skipping AnalysisHLT_mu14_ivarloose_tau25_medium1_tracktwo_L1DR-MU10TAU12I_TAU12I-J25AuxDyn.TrigMatchedObjects\n",
      "Skipping AnalysisHLT_e17_lhmedium_nod0_ivarloose_tau25_medium1_tracktwo_L1DR-EM15TAU12I-J25AuxDyn.TrigMatchedObjects\n",
      "Skipping AnalysisHLT_tau35_medium1_tracktwo_tau25_medium1_tracktwo_03dR30_L1DR-TAU20ITAU12I-J25AuxDyn.TrigMatchedObjects\n",
      "Skipping AnalysisHLT_tau35_medium1_tracktwo_tau25_medium1_tracktwo_L1DR-TAU20ITAU12I-J25AuxDyn.TrigMatchedObjects\n",
      "Skipping AnalysisHLT_tau35_medium1_tracktwo_tau25_medium1_tracktwo_tautsf_L1DR-TAU20ITAU12I-J25AuxDyn.TrigMatchedObjects\n",
      "Skipping AnalysisHLT_tau80_medium1_tracktwo_L1TAU60_tau35_medium1_tracktwo_L1TAU12IM_L1TAU60_DR-TAU20ITAU12IAuxDyn.TrigMatchedObjects\n",
      "CPU times: user 7.74 s, sys: 204 ms, total: 7.95 s\n",
      "Wall time: 7.91 s\n"
     ]
    }
   ],
   "source": [
    "%%time\n",
    "l = ak.from_arrow(get_leptons(data, max_chunksize=20000))"
   ]
  },
  {
   "cell_type": "code",
   "execution_count": 33,
   "metadata": {},
   "outputs": [
    {
     "data": {
      "text/plain": [
       "42870"
      ]
     },
     "execution_count": 33,
     "metadata": {},
     "output_type": "execute_result"
    }
   ],
   "source": [
    "len(l)"
   ]
  },
  {
   "cell_type": "markdown",
   "metadata": {},
   "source": [
    "And then run it on dask on all files:"
   ]
  },
  {
   "cell_type": "code",
   "execution_count": 34,
   "metadata": {},
   "outputs": [],
   "source": [
    "from dask import delayed\n",
    "import dask"
   ]
  },
  {
   "cell_type": "code",
   "execution_count": 35,
   "metadata": {},
   "outputs": [],
   "source": [
    "# local cluster:\n",
    "#from dask.distributed import Client\n",
    "\n",
    "#client = Client(n_workers=8, threads_per_worker=1)\n",
    "#client"
   ]
  },
  {
   "cell_type": "code",
   "execution_count": 36,
   "metadata": {},
   "outputs": [],
   "source": [
    "#client.shutdown()"
   ]
  },
  {
   "cell_type": "code",
   "execution_count": 37,
   "metadata": {},
   "outputs": [],
   "source": [
    "# enter proxy/8787 in field on the left"
   ]
  },
  {
   "cell_type": "code",
   "execution_count": 38,
   "metadata": {},
   "outputs": [],
   "source": [
    "#client.restart()"
   ]
  },
  {
   "cell_type": "code",
   "execution_count": null,
   "metadata": {},
   "outputs": [],
   "source": []
  },
  {
   "cell_type": "code",
   "execution_count": 42,
   "metadata": {},
   "outputs": [],
   "source": [
    "# gateway cluster\n",
    "from dask_gateway import GatewayCluster\n",
    "cluster = GatewayCluster(\n",
    "    worker_cores=2,\n",
    "    worker_memory=8,\n",
    "    image=\"eu.gcr.io/gke-dev-311213/dask-gateway-physlite:20210616\"\n",
    ")"
   ]
  },
  {
   "cell_type": "code",
   "execution_count": 43,
   "metadata": {},
   "outputs": [
    {
     "data": {
      "application/vnd.jupyter.widget-view+json": {
       "model_id": "a1d10ed1a44a430f873d980ffca22a01",
       "version_major": 2,
       "version_minor": 0
      },
      "text/plain": [
       "VBox(children=(HTML(value='<h2>GatewayCluster</h2>'), HBox(children=(HTML(value='\\n<div>\\n<style scoped>\\n    …"
      ]
     },
     "metadata": {},
     "output_type": "display_data"
    }
   ],
   "source": [
    "cluster"
   ]
  },
  {
   "cell_type": "code",
   "execution_count": 168,
   "metadata": {},
   "outputs": [],
   "source": [
    "#cluster.scale(100)\n",
    "cluster.scale(50)\n",
    "#cluster.scale(1)"
   ]
  },
  {
   "cell_type": "code",
   "execution_count": 188,
   "metadata": {},
   "outputs": [],
   "source": [
    "#cluster.shutdown()"
   ]
  },
  {
   "cell_type": "code",
   "execution_count": 49,
   "metadata": {},
   "outputs": [
    {
     "name": "stderr",
     "output_type": "stream",
     "text": [
      "/srv/conda/envs/notebook/lib/python3.8/site-packages/distributed/client.py:1129: VersionMismatchWarning: Mismatched versions found\n",
      "\n",
      "+---------+---------------+---------------+---------------+\n",
      "| Package | client        | scheduler     | workers       |\n",
      "+---------+---------------+---------------+---------------+\n",
      "| numpy   | 1.19.4        | 1.19.2        | 1.19.2        |\n",
      "| python  | 3.8.6.final.0 | 3.8.3.final.0 | 3.8.3.final.0 |\n",
      "+---------+---------------+---------------+---------------+\n",
      "  warnings.warn(version_module.VersionMismatchWarning(msg[0][\"warning\"]))\n"
     ]
    }
   ],
   "source": [
    "client = cluster.get_client()"
   ]
  },
  {
   "cell_type": "code",
   "execution_count": 167,
   "metadata": {},
   "outputs": [
    {
     "data": {
      "text/html": [
       "<table style=\"border: 2px solid white;\">\n",
       "<tr>\n",
       "<td style=\"vertical-align: top; border: 0px solid white\">\n",
       "<h3 style=\"text-align: left;\">Client</h3>\n",
       "<ul style=\"text-align: left; list-style: none; margin: 0; padding: 0;\">\n",
       "  <li><b>Scheduler: </b>gateway://traefik-dhub-dask-gateway.default:80/default.18d07f2e4e854b2eb7da248321d4b718</li>\n",
       "  <li><b>Dashboard: </b><a href='/services/dask-gateway/clusters/default.18d07f2e4e854b2eb7da248321d4b718/status' target='_blank'>/services/dask-gateway/clusters/default.18d07f2e4e854b2eb7da248321d4b718/status</a></li>\n",
       "</ul>\n",
       "</td>\n",
       "<td style=\"vertical-align: top; border: 0px solid white\">\n",
       "<h3 style=\"text-align: left;\">Cluster</h3>\n",
       "<ul style=\"text-align: left; list-style:none; margin: 0; padding: 0;\">\n",
       "  <li><b>Workers: </b>1</li>\n",
       "  <li><b>Cores: </b>2</li>\n",
       "  <li><b>Memory: </b>8.59 GB</li>\n",
       "</ul>\n",
       "</td>\n",
       "</tr>\n",
       "</table>"
      ],
      "text/plain": [
       "<Client: 'tls://10.64.3.20:8786' processes=0 threads=0, memory=0 B>"
      ]
     },
     "execution_count": 167,
     "metadata": {},
     "output_type": "execute_result"
    }
   ],
   "source": [
    "client.restart()"
   ]
  },
  {
   "cell_type": "markdown",
   "metadata": {},
   "source": [
    "build the task graph:"
   ]
  },
  {
   "cell_type": "code",
   "execution_count": 122,
   "metadata": {},
   "outputs": [],
   "source": [
    "from functools import partial"
   ]
  },
  {
   "cell_type": "code",
   "execution_count": 124,
   "metadata": {},
   "outputs": [],
   "source": [
    "fut = client.submit(partial(get_signed_url_worker, rucio_account=\"nihartma\"), upload.data[-1], files[0][\"scope\"], files[0][\"name\"])"
   ]
  },
  {
   "cell_type": "code",
   "execution_count": 126,
   "metadata": {},
   "outputs": [],
   "source": [
    "#fut.result()"
   ]
  },
  {
   "cell_type": "code",
   "execution_count": 169,
   "metadata": {},
   "outputs": [],
   "source": [
    "delayed_leptons = []\n",
    "#for file in files[::10][:20]:\n",
    "for file in files[::10]:\n",
    "    if file[\"bytes\"] > 500000000:\n",
    "        continue\n",
    "    d_url = delayed(partial(get_signed_url_worker, rucio_account=\"nihartma\"))(\n",
    "        upload.data[-1],\n",
    "        file[\"scope\"],\n",
    "        file[\"name\"],\n",
    "    )\n",
    "    d_data = delayed(download)(d_url)\n",
    "    delayed_leptons.append(delayed(get_leptons)(d_data))"
   ]
  },
  {
   "cell_type": "code",
   "execution_count": 171,
   "metadata": {},
   "outputs": [],
   "source": [
    "from dask.distributed import performance_report, wait, fire_and_forget"
   ]
  },
  {
   "cell_type": "markdown",
   "metadata": {},
   "source": [
    "to save task graph:\n",
    "```python\n",
    "with performance_report(filename=\"dask-report-1percent.html\"):\n",
    "    (delayed_leptons,) = dask.persist(delayed_leptons)\n",
    "    wait(delayed_leptons)\n",
    "    #fire_and_forget(dask.compute(delayed_leptons))\n",
    "```"
   ]
  },
  {
   "cell_type": "code",
   "execution_count": 173,
   "metadata": {},
   "outputs": [],
   "source": [
    "with performance_report(filename=\"dask-report-1percent-with-list-replicas.html\"):\n",
    "    (delayed_leptons,) = dask.persist(delayed_leptons)\n",
    "    wait(delayed_leptons)"
   ]
  },
  {
   "cell_type": "code",
   "execution_count": 174,
   "metadata": {},
   "outputs": [],
   "source": [
    "#(delayed_leptons,) = dask.persist(delayed_leptons)"
   ]
  },
  {
   "cell_type": "code",
   "execution_count": 175,
   "metadata": {},
   "outputs": [],
   "source": [
    "def get_mass(leptons, selection=\"all\"):\n",
    "    leptons = ak.from_arrow(leptons)\n",
    "    leptons = ak.with_parameter(leptons, \"__record__\", \"xAODParticle\")\n",
    "    if selection == \"all\":\n",
    "        l1, l2 = ak.unzip(ak.combinations(leptons, 2))\n",
    "    elif selection == \"signal\":\n",
    "        l1, l2 = ak.unzip(ak.combinations(leptons.mask[leptons.signal & leptons.passOR], 2))\n",
    "    elif selection == \"baseline\":\n",
    "        l1, l2 = ak.unzip(ak.combinations(leptons.mask[leptons.baseline & leptons.passOR], 2))\n",
    "    l1, l2 = [ak.with_parameter(i, \"__record__\", \"xAODParticle\") for i in [l1, l2]]\n",
    "    m = (l1 + l2).mass\n",
    "    m = ak.flatten(m, axis=None)\n",
    "    m = ak.to_numpy(m)\n",
    "    return m"
   ]
  },
  {
   "cell_type": "code",
   "execution_count": 176,
   "metadata": {},
   "outputs": [],
   "source": [
    "l = dask.compute(delayed_leptons[0])"
   ]
  },
  {
   "cell_type": "code",
   "execution_count": 178,
   "metadata": {},
   "outputs": [],
   "source": [
    "from dask.distributed import futures_of"
   ]
  },
  {
   "cell_type": "code",
   "execution_count": 179,
   "metadata": {},
   "outputs": [],
   "source": [
    "delayed_leptons_ok = [t for t in delayed_leptons if futures_of(t)[0].status == \"finished\"]"
   ]
  },
  {
   "cell_type": "code",
   "execution_count": 180,
   "metadata": {},
   "outputs": [
    {
     "data": {
      "text/plain": [
       "1668"
      ]
     },
     "execution_count": 180,
     "metadata": {},
     "output_type": "execute_result"
    }
   ],
   "source": [
    "len(delayed_leptons_ok)"
   ]
  },
  {
   "cell_type": "code",
   "execution_count": 181,
   "metadata": {},
   "outputs": [
    {
     "data": {
      "text/plain": [
       "1676"
      ]
     },
     "execution_count": 181,
     "metadata": {},
     "output_type": "execute_result"
    }
   ],
   "source": [
    "len(delayed_leptons)"
   ]
  },
  {
   "cell_type": "code",
   "execution_count": 182,
   "metadata": {},
   "outputs": [],
   "source": [
    "from functools import partial"
   ]
  },
  {
   "cell_type": "code",
   "execution_count": 183,
   "metadata": {},
   "outputs": [],
   "source": [
    "(m_list_all,) = dask.compute([delayed(partial(get_mass, selection=\"all\"))(i) for i in delayed_leptons_ok])"
   ]
  },
  {
   "cell_type": "code",
   "execution_count": 184,
   "metadata": {},
   "outputs": [],
   "source": [
    "(m_list_baseline,) = dask.compute([delayed(partial(get_mass, selection=\"baseline\"))(i) for i in delayed_leptons_ok])"
   ]
  },
  {
   "cell_type": "code",
   "execution_count": 185,
   "metadata": {},
   "outputs": [],
   "source": [
    "GeV = 1000"
   ]
  },
  {
   "cell_type": "code",
   "execution_count": 186,
   "metadata": {},
   "outputs": [
    {
     "name": "stderr",
     "output_type": "stream",
     "text": [
      "<ipython-input-186-0c87b43aa386>:11: UserWarning: Attempted to set non-positive bottom ylim on a log-scaled axis.\n",
      "Invalid limit will be ignored.\n",
      "  plt.ylim(0, 1e7)\n"
     ]
    },
    {
     "data": {
      "image/png": "[encoded data removed]",
      "text/plain": [
       "<Figure size 432x288 with 1 Axes>"
      ]
     },
     "metadata": {
      "needs_background": "light"
     },
     "output_type": "display_data"
    }
   ],
   "source": [
    "opts = dict(\n",
    "    bins=np.geomspace(0.2, 200, 500),\n",
    "    histtype=\"stepfilled\", alpha=0.5\n",
    ")\n",
    "plt.hist(np.concatenate(m_list_all) / GeV, label=\"all\", **opts);\n",
    "plt.hist(np.concatenate(m_list_baseline) / GeV, label=\"after baseline selection\", **opts);\n",
    "plt.yscale(\"log\")\n",
    "plt.xscale(\"log\")\n",
    "plt.xlabel(\"Dilepton mass [GeV]\")\n",
    "plt.legend()\n",
    "plt.ylim(0, 1e7)\n",
    "plt.savefig(\"m2l_baseline_1percent.pdf\")"
   ]
  }
 ],
 "metadata": {
  "kernelspec": {
   "display_name": "Python 3",
   "language": "python",
   "name": "python3"
  },
  "language_info": {
   "codemirror_mode": {
    "name": "ipython",
    "version": 3
   },
   "file_extension": ".py",
   "mimetype": "text/x-python",
   "name": "python",
   "nbconvert_exporter": "python",
   "pygments_lexer": "ipython3",
   "version": "3.8.6"
  },
  "toc": {
   "base_numbering": 1,
   "nav_menu": {},
   "number_sections": true,
   "sideBar": true,
   "skip_h1_title": false,
   "title_cell": "Table of Contents",
   "title_sidebar": "Contents",
   "toc_cell": false,
   "toc_position": {},
   "toc_section_display": true,
   "toc_window_display": false
  }
 },
 "nbformat": 4,
 "nbformat_minor": 4
}
