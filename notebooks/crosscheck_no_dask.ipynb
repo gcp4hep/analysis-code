{
 "cells": [
  {
   "cell_type": "code",
   "execution_count": 110,
   "id": "fe600c3b-5c38-4ad5-a72d-22e2ea339878",
   "metadata": {
    "tags": []
   },
   "outputs": [],
   "source": [
    "import awkward as ak\n",
    "import uproot\n",
    "import vector\n",
    "import matplotlib.pyplot as plt"
   ]
  },
  {
   "cell_type": "code",
   "execution_count": 24,
   "id": "96d22faa-4f81-40ef-82ec-178ca072df35",
   "metadata": {
    "tags": []
   },
   "outputs": [],
   "source": [
    "schema = {\n",
    "    \"Electrons\": [\n",
    "        \"pt\", \"eta\", \"phi\", \"m\"\n",
    "    ],\n",
    "    \"Muons\": [\n",
    "        \"pt\", \"eta\", \"phi\",\n",
    "    ],\n",
    "    \"Jets\": [\n",
    "        \"pt\", \"eta\", \"phi\", \"m\"\n",
    "    ],\n",
    "    \"BTagging_AntiKt4EMPFlow\": [\n",
    "        \"DL1dv01_pb\",\n",
    "    ]\n",
    "}"
   ]
  },
  {
   "cell_type": "code",
   "execution_count": 53,
   "id": "427128cd-880a-4a15-a62c-b342efe5b25e",
   "metadata": {
    "tags": []
   },
   "outputs": [],
   "source": [
    "def from_root(filename, **kwargs):\n",
    "    with uproot.open(filename, **kwargs) as f:\n",
    "        tree = f[\"CollectionTree\"]\n",
    "        events = {}\n",
    "        for objname, fields in schema.items():\n",
    "            base = objname\n",
    "            if objname in [\"Electrons\", \"Muons\", \"Jets\"]:\n",
    "                base = \"Analysis\" + objname\n",
    "            arrays = tree.arrays(\n",
    "                fields,\n",
    "                aliases={field: f\"{base}AuxDyn.{field}\" for field in fields},\n",
    "            )\n",
    "            arrays = ak.zip(dict(zip(arrays.fields, ak.unzip(arrays))))\n",
    "            events[objname] = arrays\n",
    "        return ak.zip(events, depth_limit=1)"
   ]
  },
  {
   "cell_type": "code",
   "execution_count": 34,
   "id": "a86e783f-5ce8-4b2d-9b6a-12e5df1d9c59",
   "metadata": {
    "tags": []
   },
   "outputs": [],
   "source": [
    "%run utils.py"
   ]
  },
  {
   "cell_type": "code",
   "execution_count": 35,
   "id": "c89c5d32-b3a0-4abc-b8f4-e842d3a04dd8",
   "metadata": {
    "tags": []
   },
   "outputs": [],
   "source": [
    "%run fsspec_source.py"
   ]
  },
  {
   "cell_type": "code",
   "execution_count": 74,
   "id": "328da504-197d-48a8-9e67-fc7447739c7c",
   "metadata": {
    "tags": []
   },
   "outputs": [],
   "source": [
    "class RucioFileGCPSource(FSSpecHttpSource):\n",
    "    def __init__(self, file_path, **kwargs):\n",
    "        scope, name = file_path.split(\".\", maxsplit=1)\n",
    "        url = get_signed_url_worker(x509_data, scope, name, rse=rse, ca_cert=False)\n",
    "        super().__init__(url, **kwargs)"
   ]
  },
  {
   "cell_type": "code",
   "execution_count": 36,
   "id": "59342b59-8273-4b02-b87a-f02238cc9e28",
   "metadata": {
    "tags": []
   },
   "outputs": [],
   "source": [
    "with open(\"x509\", \"rb\") as f:\n",
    "    x509_data = f.read()\n",
    "setup_rucio_and_proxy(x509_data, rucio_account=\"nihartma\")"
   ]
  },
  {
   "cell_type": "code",
   "execution_count": 77,
   "id": "3f9a67ce-5ce0-4482-b8bb-f9c16fa3e705",
   "metadata": {
    "tags": []
   },
   "outputs": [],
   "source": [
    "rse = \"GOOGLE-EU_DATADISK\"\n",
    "scope = \"mc21_13p6TeV\"\n",
    "filename = \"DAOD_PHYSLITE.33080408._000001.pool.root.1\""
   ]
  },
  {
   "cell_type": "code",
   "execution_count": 76,
   "id": "c24c0d8b-4ac0-4295-91da-36bb4b5faf75",
   "metadata": {
    "tags": []
   },
   "outputs": [],
   "source": [
    "#url = get_signed_url_worker(x509_data, \"mc21_13p6TeV\", filename, rse=rse, ca_cert=False)"
   ]
  },
  {
   "cell_type": "code",
   "execution_count": 78,
   "id": "c1d23a7a-7fea-4201-af14-6b8978858dbc",
   "metadata": {
    "tags": []
   },
   "outputs": [
    {
     "name": "stderr",
     "output_type": "stream",
     "text": [
      "/srv/conda/envs/notebook/lib/python3.10/site-packages/urllib3/connectionpool.py:1056: InsecureRequestWarning: Unverified HTTPS request is being made to host 'voatlasrucio-server-prod.cern.ch'. Adding certificate verification is strongly advised. See: https://urllib3.readthedocs.io/en/1.26.x/advanced-usage.html#ssl-warnings\n",
      "  warnings.warn(\n"
     ]
    }
   ],
   "source": [
    "events = from_root(f\"{scope}.{filename}\", file_handler=RucioFileGCPSource)"
   ]
  },
  {
   "cell_type": "code",
   "execution_count": 79,
   "id": "2b182b86-d83c-4e84-9e9f-1e3c5b3726c8",
   "metadata": {
    "tags": []
   },
   "outputs": [
    {
     "data": {
      "text/html": [
       "<pre>[{Electrons: [{pt: 5.92e+03, ...}], Muons: [{...}, ...], Jets: [...], ...},\n",
       " {Electrons: [], Muons: [], Jets: [{...}, ..., {...}], ...},\n",
       " {Electrons: [{pt: 1.46e+05, ...}], Muons: [{...}], Jets: [...], ...},\n",
       " {Electrons: [{pt: 4.32e+04, ...}], Muons: [], Jets: [...], ...},\n",
       " {Electrons: [{pt: 3.32e+04, ...}], Muons: [], Jets: [...], ...},\n",
       " {Electrons: [], Muons: [], Jets: [{...}, ..., {...}], ...},\n",
       " {Electrons: [], Muons: [], Jets: [{...}, ..., {...}], ...},\n",
       " {Electrons: [], Muons: [], Jets: [{...}, ..., {...}], ...},\n",
       " {Electrons: [{pt: 9.49e+04, ...}], Muons: [], Jets: [...], ...},\n",
       " {Electrons: [], Muons: [{pt: 5.03e+04, ...}], Jets: [...], ...},\n",
       " ...,\n",
       " {Electrons: [], Muons: [{pt: 8.65e+03, ...}], Jets: [...], ...},\n",
       " {Electrons: [], Muons: [{pt: 1.01e+04, ...}], Jets: [...], ...},\n",
       " {Electrons: [], Muons: [{pt: 4.5e+04, ...}], Jets: [...], ...},\n",
       " {Electrons: [{pt: 3.33e+04, ...}], Muons: [{...}], Jets: [...], ...},\n",
       " {Electrons: [{pt: 5.96e+04, ...}], Muons: [{...}], Jets: [...], ...},\n",
       " {Electrons: [{pt: 3.71e+03, ...}], Muons: [{...}], Jets: [...], ...},\n",
       " {Electrons: [], Muons: [], Jets: [{...}, ..., {...}], ...},\n",
       " {Electrons: [], Muons: [{pt: 6.33e+04, ...}], Jets: [...], ...},\n",
       " {Electrons: [], Muons: [{pt: 1.57e+04, ...}], Jets: [...], ...}]\n",
       "---------------------------------------------------------------------------\n",
       "type: 20000 * {\n",
       "    Electrons: var * {\n",
       "        pt: float32,\n",
       "        eta: float32,\n",
       "        phi: float32,\n",
       "        m: float32\n",
       "    },\n",
       "    Muons: var * {\n",
       "        pt: float32,\n",
       "        eta: float32,\n",
       "        phi: float32\n",
       "    },\n",
       "    Jets: var * {\n",
       "        pt: float32,\n",
       "        eta: float32,\n",
       "        phi: float32,\n",
       "        m: float32\n",
       "    },\n",
       "    BTagging_AntiKt4EMPFlow: var * {\n",
       "        DL1dv01_pb: float32\n",
       "    }\n",
       "}</pre>"
      ],
      "text/plain": [
       "<Array [{Electrons: [{...}], ...}, ..., {...}] type='20000 * {Electrons: va...'>"
      ]
     },
     "execution_count": 79,
     "metadata": {},
     "output_type": "execute_result"
    }
   ],
   "source": [
    "events"
   ]
  },
  {
   "cell_type": "code",
   "execution_count": 114,
   "id": "2c7a70c6-d40b-4478-b196-18951a6f1de6",
   "metadata": {
    "tags": []
   },
   "outputs": [
    {
     "data": {
      "text/html": [
       "<pre>[[5.92e+03],\n",
       " [],\n",
       " [1.46e+05],\n",
       " [4.32e+04],\n",
       " [3.32e+04],\n",
       " [],\n",
       " [],\n",
       " [],\n",
       " [9.49e+04],\n",
       " [],\n",
       " ...,\n",
       " [],\n",
       " [],\n",
       " [],\n",
       " [3.33e+04],\n",
       " [5.96e+04],\n",
       " [3.71e+03],\n",
       " [],\n",
       " [],\n",
       " []]\n",
       "---------------------------\n",
       "type: 20000 * var * float32</pre>"
      ],
      "text/plain": [
       "<Array [[5.92e+03], [], [1.46e+05], ..., [], []] type='20000 * var * float32'>"
      ]
     },
     "execution_count": 114,
     "metadata": {},
     "output_type": "execute_result"
    }
   ],
   "source": [
    "events.Electrons.pt"
   ]
  },
  {
   "cell_type": "code",
   "execution_count": 80,
   "id": "efb341f8-564a-4d42-82ee-d423f665f673",
   "metadata": {
    "tags": []
   },
   "outputs": [],
   "source": [
    "GeV = 1000."
   ]
  },
  {
   "cell_type": "code",
   "execution_count": 81,
   "id": "394c3fca-e417-44f7-bbf2-6a6ab2515b30",
   "metadata": {
    "tags": []
   },
   "outputs": [],
   "source": [
    "def electron_selection(el):\n",
    "    return (el.pt > 30 * GeV) & (abs(el.eta) < 2.47)\n",
    "\n",
    "def muon_selection(mu):\n",
    "    return (mu.pt > 30 * GeV) & (abs(mu.eta) < 2.47)\n",
    "\n",
    "def jet_selection(j):\n",
    "    return (j.pt > 30 * GeV) & (abs(j.eta) < 2.47)\n",
    "\n",
    "def selection(events):\n",
    "    #events = copy.copy(events) # make shallow copy - needs https://github.com/dask-contrib/dask-awkward/pull/324\n",
    "    events = ak.with_field(events, events.Jets, \"Jets\") # workaround\n",
    "\n",
    "    # TODO: overlap removal\n",
    "\n",
    "    # decorations\n",
    "    events[\"Jets\", \"btagging\"] = events.BTagging_AntiKt4EMPFlow # technically this is an ElementLink, but seems in PHYSLITE exactcly one link for each jet\n",
    "    events[\"Jets\", \"is_bjet\"] = events.Jets.btagging.DL1dv01_pb > 0.85 # is this how to select 85% working point?\n",
    "\n",
    "    # object selection\n",
    "    events[\"Electrons\"] = events.Electrons[electron_selection(events.Electrons)]\n",
    "    events[\"Muons\"] = events.Muons[muon_selection(events.Muons)]\n",
    "    events[\"Jets\"] = events.Jets[jet_selection(events.Jets)]\n",
    "\n",
    "    # event selection\n",
    "    events = events[\n",
    "        (ak.num(events.Jets) >= 4) # at least 4 jets\n",
    "        & ((ak.num(events.Electrons) + ak.num(events.Muons)) == 1) # exactly 1 Lepton\n",
    "        & (ak.sum(events.Jets.is_bjet, axis=1) >= 2) # at least 2 bjets\n",
    "    ]\n",
    "    return events"
   ]
  },
  {
   "cell_type": "code",
   "execution_count": 82,
   "id": "1603c69d-1f7b-478f-85ae-a608a167d625",
   "metadata": {
    "tags": []
   },
   "outputs": [],
   "source": [
    "ev_sel = selection(events)"
   ]
  },
  {
   "cell_type": "code",
   "execution_count": 83,
   "id": "fe7f74b8-fa72-4133-bbc4-3b6807b621c5",
   "metadata": {
    "tags": []
   },
   "outputs": [
    {
     "data": {
      "text/html": [
       "<pre>[{BTagging_AntiKt4EMPFlow: [{...}, ..., {...}], Electrons: [], Muons: ..., ...},\n",
       " {BTagging_AntiKt4EMPFlow: [{...}, ..., {...}], Electrons: [], Muons: ..., ...},\n",
       " {BTagging_AntiKt4EMPFlow: [{...}, ..., {...}], Electrons: [], Muons: ..., ...},\n",
       " {BTagging_AntiKt4EMPFlow: [{...}, ..., {...}], Electrons: [{...}], ...},\n",
       " {BTagging_AntiKt4EMPFlow: [{...}, ..., {...}], Electrons: [{...}], ...},\n",
       " {BTagging_AntiKt4EMPFlow: [{...}, ..., {...}], Electrons: [], Muons: ..., ...},\n",
       " {BTagging_AntiKt4EMPFlow: [{...}, ..., {...}], Electrons: [], Muons: ..., ...},\n",
       " {BTagging_AntiKt4EMPFlow: [{...}, ..., {...}], Electrons: [{...}], ...},\n",
       " {BTagging_AntiKt4EMPFlow: [{...}, ..., {...}], Electrons: [], Muons: ..., ...},\n",
       " {BTagging_AntiKt4EMPFlow: [{...}, ..., {...}], Electrons: [{...}], ...},\n",
       " ...,\n",
       " {BTagging_AntiKt4EMPFlow: [{...}, ..., {...}], Electrons: [], Muons: ..., ...},\n",
       " {BTagging_AntiKt4EMPFlow: [{...}, ..., {...}], Electrons: [], Muons: ..., ...},\n",
       " {BTagging_AntiKt4EMPFlow: [{...}, ..., {...}], Electrons: [], Muons: ..., ...},\n",
       " {BTagging_AntiKt4EMPFlow: [{...}, ..., {...}], Electrons: [], Muons: ..., ...},\n",
       " {BTagging_AntiKt4EMPFlow: [{...}, ..., {...}], Electrons: [{...}], ...},\n",
       " {BTagging_AntiKt4EMPFlow: [{...}, ..., {...}], Electrons: [{...}], ...},\n",
       " {BTagging_AntiKt4EMPFlow: [{...}, ..., {...}], Electrons: [{...}], ...},\n",
       " {BTagging_AntiKt4EMPFlow: [{...}, ..., {...}], Electrons: [{...}], ...},\n",
       " {BTagging_AntiKt4EMPFlow: [{...}, ..., {...}], Electrons: [{...}], ...}]\n",
       "--------------------------------------------------------------------------------\n",
       "type: 1316 * {\n",
       "    BTagging_AntiKt4EMPFlow: var * {\n",
       "        DL1dv01_pb: float32\n",
       "    },\n",
       "    Electrons: var * {\n",
       "        pt: float32,\n",
       "        eta: float32,\n",
       "        phi: float32,\n",
       "        m: float32\n",
       "    },\n",
       "    Muons: var * {\n",
       "        pt: float32,\n",
       "        eta: float32,\n",
       "        phi: float32\n",
       "    },\n",
       "    Jets: var * {\n",
       "        pt: float32,\n",
       "        eta: float32,\n",
       "        phi: float32,\n",
       "        m: float32,\n",
       "        btagging: {\n",
       "            DL1dv01_pb: float32\n",
       "        },\n",
       "        is_bjet: bool\n",
       "    }\n",
       "}</pre>"
      ],
      "text/plain": [
       "<Array [{...}, {...}, {...}, ..., {...}, {...}] type='1316 * {BTagging_Anti...'>"
      ]
     },
     "execution_count": 83,
     "metadata": {},
     "output_type": "execute_result"
    }
   ],
   "source": [
    "ev_sel"
   ]
  },
  {
   "cell_type": "code",
   "execution_count": 84,
   "id": "af5704a9-82b4-41dd-a467-4e8ecacda287",
   "metadata": {
    "tags": []
   },
   "outputs": [],
   "source": [
    "def mjjj(jets):\n",
    "    jets = ak.with_field(\n",
    "        jets,\n",
    "        vector.zip({\"pt\": jets.pt, \"eta\": jets.eta, \"phi\": jets.phi, \"m\": jets.m}),\n",
    "        \"p4\"\n",
    "    )\n",
    "    candidates = ak.combinations(jets, 3)\n",
    "    j1, j2, j3 = ak.unzip(candidates)\n",
    "    has_b = (j1.is_bjet + j2.is_bjet + j3.is_bjet) > 0\n",
    "    candidates[\"p4\"] = j1.p4 + j2.p4 + j3.p4\n",
    "    candidates = candidates[has_b]\n",
    "    candidates = candidates[ak.argmax(candidates.p4.pt, axis=1, keepdims=True)]\n",
    "    return ak.flatten(candidates.p4.mass, axis=None)"
   ]
  },
  {
   "cell_type": "code",
   "execution_count": 85,
   "id": "46554bad-da4c-4dd5-8624-34adaebf0182",
   "metadata": {
    "tags": []
   },
   "outputs": [
    {
     "data": {
      "text/html": [
       "<pre>[3.33e+05,\n",
       " 1.19e+05,\n",
       " 5.87e+05,\n",
       " 2.32e+05,\n",
       " 1.78e+05,\n",
       " 3.34e+05,\n",
       " 3.53e+05,\n",
       " 9.77e+04,\n",
       " 2.59e+05,\n",
       " 2.09e+05,\n",
       " ...,\n",
       " 2.39e+05,\n",
       " 1.83e+05,\n",
       " 2.17e+05,\n",
       " 2.53e+05,\n",
       " 2.11e+05,\n",
       " 1.99e+05,\n",
       " 4.22e+05,\n",
       " 1.92e+05,\n",
       " 2.46e+05]\n",
       "--------------------\n",
       "type: 1316 * float32</pre>"
      ],
      "text/plain": [
       "<Array [3.33e+05, 1.19e+05, ..., 1.92e+05, 2.46e+05] type='1316 * float32'>"
      ]
     },
     "execution_count": 85,
     "metadata": {},
     "output_type": "execute_result"
    }
   ],
   "source": [
    "mjjj(ev_sel.Jets)"
   ]
  },
  {
   "cell_type": "code",
   "execution_count": 86,
   "id": "453a44b7-e4d1-4e9c-b02e-2240f86c23dd",
   "metadata": {
    "tags": []
   },
   "outputs": [],
   "source": [
    "import rucio.client\n",
    "rucio_client = rucio.client.Client(ca_cert=\"cern_bundle.pem\")"
   ]
  },
  {
   "cell_type": "code",
   "execution_count": 87,
   "id": "688330d8-b77c-449b-a85e-bb059b1d5b3a",
   "metadata": {
    "tags": []
   },
   "outputs": [],
   "source": [
    "files = list(\n",
    "    rucio_client.list_files(\n",
    "        \"mc21_13p6TeV\", \"mc21_13p6TeV.601229.PhPy8EG_A14_ttbar_hdamp258p75_SingleLep.deriv.DAOD_PHYSLITE.e8453_s3873_r13829_p5631\"\n",
    "    )\n",
    ")"
   ]
  },
  {
   "cell_type": "code",
   "execution_count": 88,
   "id": "6fcbc891-3c2f-4a45-8069-03948cd4897a",
   "metadata": {
    "tags": []
   },
   "outputs": [],
   "source": [
    "from dask_gateway import Gateway\n",
    "gateway = Gateway()\n",
    "clusters = gateway.list_clusters()\n",
    "cluster = gateway.connect(clusters[0].name)\n",
    "client = cluster.get_client()"
   ]
  },
  {
   "cell_type": "code",
   "execution_count": 115,
   "id": "84067d8f-ae77-4d52-9833-98218d3435f7",
   "metadata": {
    "tags": []
   },
   "outputs": [
    {
     "data": {
      "text/html": [
       "<div>\n",
       "    <div style=\"width: 24px; height: 24px; background-color: #e1e1e1; border: 3px solid #9D9D9D; border-radius: 5px; position: absolute;\"> </div>\n",
       "    <div style=\"margin-left: 48px;\">\n",
       "        <h3 style=\"margin-bottom: 0px;\">Client</h3>\n",
       "        <p style=\"color: #9D9D9D; margin-bottom: 0px;\">Client-8f3e1211-4c21-11ee-8fb7-ca1c1287ba17</p>\n",
       "        <table style=\"width: 100%; text-align: left;\">\n",
       "\n",
       "        <tr>\n",
       "        \n",
       "            <td style=\"text-align: left;\"><strong>Connection method:</strong> Cluster object</td>\n",
       "            <td style=\"text-align: left;\"><strong>Cluster type:</strong> dask_gateway.GatewayCluster</td>\n",
       "        \n",
       "        </tr>\n",
       "\n",
       "        \n",
       "            <tr>\n",
       "                <td style=\"text-align: left;\">\n",
       "                    <strong>Dashboard: </strong> <a href=\"/services/dask-gateway/clusters/default.ba03ebe4ddb04d31aedb1ec7f8402e1d/status\" target=\"_blank\">/services/dask-gateway/clusters/default.ba03ebe4ddb04d31aedb1ec7f8402e1d/status</a>\n",
       "                </td>\n",
       "                <td style=\"text-align: left;\"></td>\n",
       "            </tr>\n",
       "        \n",
       "\n",
       "        </table>\n",
       "\n",
       "        \n",
       "            <button style=\"margin-bottom: 12px;\" data-commandlinker-command=\"dask:populate-and-launch-layout\" data-commandlinker-args='{\"url\": \"/services/dask-gateway/clusters/default.ba03ebe4ddb04d31aedb1ec7f8402e1d/status\" }'>\n",
       "                Launch dashboard in JupyterLab\n",
       "            </button>\n",
       "        \n",
       "\n",
       "        \n",
       "            <details>\n",
       "            <summary style=\"margin-bottom: 20px;\"><h3 style=\"display: inline;\">Cluster Info</h3></summary>\n",
       "            <div style='background-color: #f2f2f2; display: inline-block; padding: 10px; border: 1px solid #999999;'>\n",
       "  <h3>GatewayCluster</h3>\n",
       "  <ul>\n",
       "    <li><b>Name: </b>default.ba03ebe4ddb04d31aedb1ec7f8402e1d\n",
       "    <li><b>Dashboard: </b><a href='/services/dask-gateway/clusters/default.ba03ebe4ddb04d31aedb1ec7f8402e1d/status' target='_blank'>/services/dask-gateway/clusters/default.ba03ebe4ddb04d31aedb1ec7f8402e1d/status</a>\n",
       "  </ul>\n",
       "</div>\n",
       "\n",
       "            </details>\n",
       "        \n",
       "\n",
       "    </div>\n",
       "</div>"
      ],
      "text/plain": [
       "<Client: 'tls://10.64.1.100:8786' processes=77 threads=77, memory=269.50 GiB>"
      ]
     },
     "execution_count": 115,
     "metadata": {},
     "output_type": "execute_result"
    }
   ],
   "source": [
    "client.restart()"
   ]
  },
  {
   "cell_type": "code",
   "execution_count": 101,
   "id": "951b1722-1708-4b44-82bb-71d0721b2392",
   "metadata": {
    "tags": []
   },
   "outputs": [],
   "source": [
    "def per_file(filename):\n",
    "    events = from_root(filename, file_handler=RucioFileGCPSource)\n",
    "    events = selection(events)\n",
    "    return mjjj(events.Jets)"
   ]
  },
  {
   "cell_type": "code",
   "execution_count": 116,
   "id": "69f13b3c-7cbb-4e6b-8607-3446b101946a",
   "metadata": {
    "tags": []
   },
   "outputs": [],
   "source": [
    "futures = [client.submit(per_file, f\"{file['scope']}.{file['name']}\") for file in files]"
   ]
  },
  {
   "cell_type": "code",
   "execution_count": 106,
   "id": "f3089845-a1e5-417d-a330-dd41d53408aa",
   "metadata": {
    "tags": []
   },
   "outputs": [
    {
     "data": {
      "text/plain": [
       "'finished'"
      ]
     },
     "execution_count": 106,
     "metadata": {},
     "output_type": "execute_result"
    }
   ],
   "source": [
    "futures[0].status"
   ]
  },
  {
   "cell_type": "code",
   "execution_count": 107,
   "id": "3267e438-a83b-49bf-be13-54aef25e9679",
   "metadata": {
    "tags": []
   },
   "outputs": [],
   "source": [
    "array_ttbar = ak.concatenate([fut.result() for fut in futures if fut.status == \"finished\"])"
   ]
  },
  {
   "cell_type": "code",
   "execution_count": 113,
   "id": "b10d3ebf-3188-4264-871d-8a1333249d71",
   "metadata": {
    "tags": []
   },
   "outputs": [
    {
     "data": {
      "image/png": "[encoded data removed]",
      "text/plain": [
       "<Figure size 640x480 with 1 Axes>"
      ]
     },
     "metadata": {},
     "output_type": "display_data"
    }
   ],
   "source": [
    "plt.hist(array_ttbar.to_numpy() / GeV, bins=100, range=(0, 500));"
   ]
  }
 ],
 "metadata": {
  "kernelspec": {
   "display_name": "Python 3 (ipykernel)",
   "language": "python",
   "name": "python3"
  },
  "language_info": {
   "codemirror_mode": {
    "name": "ipython",
    "version": 3
   },
   "file_extension": ".py",
   "mimetype": "text/x-python",
   "name": "python",
   "nbconvert_exporter": "python",
   "pygments_lexer": "ipython3",
   "version": "3.10.12"
  }
 },
 "nbformat": 4,
 "nbformat_minor": 5
}
