{
 "cells": [
  {
   "cell_type": "code",
   "execution_count": 31,
   "metadata": {},
   "outputs": [],
   "source": [
    "import rucio.client\n",
    "import fsspec\n",
    "import requests\n",
    "from utils import get_signed_url, setup_rucio_and_proxy\n",
    "import aiohttp\n",
    "import asyncio\n",
    "import uproot\n",
    "import time\n",
    "import matplotlib.pyplot as plt\n",
    "import numpy as np"
   ]
  },
  {
   "cell_type": "code",
   "execution_count": 5,
   "metadata": {},
   "outputs": [
    {
     "data": {
      "application/vnd.jupyter.widget-view+json": {
       "model_id": "bc86a7383035463a9413f7f0153930c5",
       "version_major": 2,
       "version_minor": 0
      },
      "text/plain": [
       "FileUpload(value={}, description='Upload')"
      ]
     },
     "metadata": {},
     "output_type": "display_data"
    }
   ],
   "source": [
    "from ipywidgets import FileUpload\n",
    "upload = FileUpload()\n",
    "display(upload)"
   ]
  },
  {
   "cell_type": "code",
   "execution_count": 6,
   "metadata": {},
   "outputs": [],
   "source": [
    "setup_rucio_and_proxy(upload.data[-1])\n",
    "rucio_client = rucio.client.Client()"
   ]
  },
  {
   "cell_type": "code",
   "execution_count": 7,
   "metadata": {},
   "outputs": [],
   "source": [
    "url = get_signed_url(rucio_client, \"data17_13TeV\", \"DAOD_PHYSLITE.22958105._000331.pool.root.1\")"
   ]
  },
  {
   "cell_type": "code",
   "execution_count": 9,
   "metadata": {},
   "outputs": [
    {
     "name": "stdout",
     "output_type": "stream",
     "text": [
      "CPU times: user 798 ms, sys: 835 ms, total: 1.63 s\n",
      "Wall time: 2.13 s\n"
     ]
    }
   ],
   "source": [
    "%%time\n",
    "res = requests.get(url, stream=True)\n",
    "total_size = 0\n",
    "for chunk in res.iter_content(1024 * 1024):\n",
    "    total_size += len(chunk)"
   ]
  },
  {
   "cell_type": "code",
   "execution_count": 10,
   "metadata": {},
   "outputs": [
    {
     "name": "stdout",
     "output_type": "stream",
     "text": [
      "CPU times: user 1.63 s, sys: 2.06 s, total: 3.69 s\n",
      "Wall time: 3.88 s\n"
     ]
    }
   ],
   "source": [
    "%%time\n",
    "bs = 1024 * 1024\n",
    "with fsspec.open(url, mode=\"rb\", cache_type=\"readahead\", block_size=bs) as f:\n",
    "    data = f.read(total_size)"
   ]
  },
  {
   "cell_type": "code",
   "execution_count": 12,
   "metadata": {},
   "outputs": [],
   "source": [
    "async def get_chunk(session, seek, n):\n",
    "    start = seek\n",
    "    stop = start + n\n",
    "    async with session.get(url, headers={\"Range\": f\"bytes={start}-{stop - 1}\"}) as response:\n",
    "        return await response.read()"
   ]
  },
  {
   "cell_type": "code",
   "execution_count": 13,
   "metadata": {},
   "outputs": [],
   "source": [
    "async def get_chunks(n_connections, ranges):\n",
    "    conn = aiohttp.TCPConnector(limit=n_connections)\n",
    "    async with aiohttp.ClientSession(connector=conn) as session:\n",
    "        return await asyncio.gather(*[get_chunk(session, seek, n) for seek, n in sorted(ranges)])"
   ]
  },
  {
   "cell_type": "code",
   "execution_count": 14,
   "metadata": {},
   "outputs": [],
   "source": [
    "preload_columns = [\n",
    "    'AnalysisElectronsAuxDyn.DFCommonElectronsLHLooseBL',\n",
    "    'AnalysisElectronsAuxDyn.DFCommonElectronsLHTight',\n",
    "    'AnalysisElectronsAuxDyn.eta',\n",
    "    'AnalysisElectronsAuxDyn.phi',\n",
    "    'AnalysisElectronsAuxDyn.pt',\n",
    "    'AnalysisElectronsAuxDyn.ptvarcone20_TightTTVA_pt1000',\n",
    "    'AnalysisElectronsAuxDyn.topoetcone20',\n",
    "    'AnalysisElectronsAuxDyn.trackParticleLinks',\n",
    "    'AnalysisJetsAuxDyn.GhostTrack',\n",
    "    'AnalysisJetsAuxDyn.Jvt',\n",
    "    'AnalysisJetsAuxDyn.NumTrkPt500',\n",
    "    'AnalysisJetsAuxDyn.SumPtTrkPt500',\n",
    "    'AnalysisJetsAuxDyn.eta',\n",
    "    'AnalysisJetsAuxDyn.phi',\n",
    "    'AnalysisJetsAuxDyn.pt',\n",
    "    'AnalysisMuonsAuxDyn.DFCommonGoodMuon',\n",
    "    'AnalysisMuonsAuxDyn.combinedTrackParticleLink.m_persIndex',\n",
    "    'AnalysisMuonsAuxDyn.combinedTrackParticleLink.m_persKey',\n",
    "    'AnalysisMuonsAuxDyn.eta',\n",
    "    'AnalysisMuonsAuxDyn.inDetTrackParticleLink.m_persIndex',\n",
    "    'AnalysisMuonsAuxDyn.inDetTrackParticleLink.m_persKey',\n",
    "    'AnalysisMuonsAuxDyn.phi',\n",
    "    'AnalysisMuonsAuxDyn.pt',\n",
    "    'AnalysisMuonsAuxDyn.ptvarcone30',\n",
    "    'AnalysisMuonsAuxDyn.topoetcone20',\n",
    "    'AnalysisMuonsAuxDyn.topoetcone40',\n",
    "    'CombinedMuonTrackParticlesAuxDyn.phi',\n",
    "    'CombinedMuonTrackParticlesAuxDyn.qOverP',\n",
    "    'CombinedMuonTrackParticlesAuxDyn.theta',\n",
    "    'PrimaryVerticesAuxDyn.trackParticleLinks',\n",
    "]"
   ]
  },
  {
   "cell_type": "code",
   "execution_count": 15,
   "metadata": {},
   "outputs": [],
   "source": [
    "def get_ranges(tree, branches):\n",
    "    ranges = set()\n",
    "    for branch_name in branches:\n",
    "        branch = tree[branch_name]\n",
    "        basket_bytes = branch.member(\"fBasketBytes\")\n",
    "        basket_seek = branch.member(\"fBasketSeek\")\n",
    "        ranges.update(list(zip(basket_seek, basket_bytes))[:-1])\n",
    "    return ranges"
   ]
  },
  {
   "cell_type": "code",
   "execution_count": 17,
   "metadata": {},
   "outputs": [],
   "source": [
    "uproot_file = uproot.open(url, http_handler=uproot.MultithreadedHTTPSource)"
   ]
  },
  {
   "cell_type": "code",
   "execution_count": 19,
   "metadata": {},
   "outputs": [],
   "source": [
    "tree = uproot_file[\"CollectionTree\"]"
   ]
  },
  {
   "cell_type": "code",
   "execution_count": 20,
   "metadata": {},
   "outputs": [],
   "source": [
    "ranges = get_ranges(tree, preload_columns)"
   ]
  },
  {
   "cell_type": "code",
   "execution_count": 22,
   "metadata": {},
   "outputs": [
    {
     "name": "stdout",
     "output_type": "stream",
     "text": [
      "5\n",
      "39.827852964401245\n",
      "10\n",
      "24.27333927154541\n",
      "50\n",
      "5.711964845657349\n",
      "100\n",
      "4.061799764633179\n",
      "500\n",
      "4.646911859512329\n"
     ]
    }
   ],
   "source": [
    "times = []\n",
    "n_list = [5, 10, 50, 100, 500]\n",
    "for n in n_list:\n",
    "    print(n)\n",
    "    t = time.time()\n",
    "    # note: notebook cells run in an asyncio loop\n",
    "    res = await get_chunks(n, sorted(ranges))\n",
    "    times.append(time.time() - t)\n",
    "    print(times[-1])"
   ]
  },
  {
   "cell_type": "code",
   "execution_count": 26,
   "metadata": {},
   "outputs": [],
   "source": [
    "t_download = time.time()\n",
    "res = requests.get(url, stream=True)\n",
    "total_size = 0\n",
    "data = []\n",
    "for chunk in res.iter_content(1024 * 1024):\n",
    "    total_size += len(chunk)\n",
    "    data.append(chunk)\n",
    "data = b\"\".join(data)\n",
    "t_download = time.time() - t_download"
   ]
  },
  {
   "cell_type": "code",
   "execution_count": 27,
   "metadata": {},
   "outputs": [
    {
     "data": {
      "text/plain": [
       "2.4516408443450928"
      ]
     },
     "execution_count": 27,
     "metadata": {},
     "output_type": "execute_result"
    }
   ],
   "source": [
    "t_download"
   ]
  },
  {
   "cell_type": "code",
   "execution_count": 32,
   "metadata": {},
   "outputs": [
    {
     "data": {
      "text/plain": [
       "(53906194, 6008)"
      ]
     },
     "execution_count": 32,
     "metadata": {},
     "output_type": "execute_result"
    }
   ],
   "source": [
    "total_size_ranges = np.array(list(ranges))[:, 1].sum()\n",
    "total_size_ranges, len(ranges)"
   ]
  },
  {
   "cell_type": "code",
   "execution_count": 33,
   "metadata": {},
   "outputs": [
    {
     "data": {
      "image/png": "[encoded data removed]",
      "text/plain": [
       "<Figure size 432x288 with 1 Axes>"
      ]
     },
     "metadata": {
      "needs_background": "light"
     },
     "output_type": "display_data"
    }
   ],
   "source": [
    "plt.plot(n_list, times, \"o-\", label=\"Range requests\")\n",
    "plt.axhline(t_download, linestyle=\"--\", label=\"Download full file\")\n",
    "plt.ylim(0, 40)\n",
    "plt.xlabel(\"Size of connection pool\")\n",
    "plt.ylabel(\"Time [s]\")\n",
    "plt.xscale(\"log\")\n",
    "plt.xticks([5, 10, 50, 100, 500], labels=[5, 10, 50, 100, 500])\n",
    "plt.legend()\n",
    "plt.title(f\"{len(ranges)} scattered chunks of total size {total_size_ranges / 1024 / 1024:.0f}M in {len(data) / 1024 / 1024:.0f}M file\")\n",
    "plt.savefig(\"range_vs_download.pdf\")"
   ]
  }
 ],
 "metadata": {
  "kernelspec": {
   "display_name": "Python 3",
   "language": "python",
   "name": "python3"
  },
  "language_info": {
   "codemirror_mode": {
    "name": "ipython",
    "version": 3
   },
   "file_extension": ".py",
   "mimetype": "text/x-python",
   "name": "python",
   "nbconvert_exporter": "python",
   "pygments_lexer": "ipython3",
   "version": "3.8.6"
  }
 },
 "nbformat": 4,
 "nbformat_minor": 4
}
