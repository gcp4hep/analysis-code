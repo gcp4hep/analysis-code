{
 "cells": [
  {
   "cell_type": "code",
   "execution_count": 1,
   "id": "e101e77e-b2aa-4bef-8728-aa3b6ec50064",
   "metadata": {},
   "outputs": [],
   "source": [
    "%run utils.py"
   ]
  },
  {
   "cell_type": "code",
   "execution_count": 2,
   "id": "596bbcc7-d562-4781-9ff4-1933dc766050",
   "metadata": {},
   "outputs": [
    {
     "data": {
      "application/vnd.jupyter.widget-view+json": {
       "model_id": "cfbdef6b42a9407c9f1e4f0d453d1611",
       "version_major": 2,
       "version_minor": 0
      },
      "text/plain": [
       "FileUpload(value={}, description='Upload')"
      ]
     },
     "metadata": {},
     "output_type": "display_data"
    }
   ],
   "source": [
    "from ipywidgets import FileUpload\n",
    "upload = FileUpload()\n",
    "upload"
   ]
  },
  {
   "cell_type": "code",
   "execution_count": 3,
   "id": "9145f2e6-1534-4a92-922a-a722d054305c",
   "metadata": {},
   "outputs": [],
   "source": [
    "setup_rucio_and_proxy(upload.data[-1])\n",
    "import rucio.client\n",
    "import awkward as ak\n",
    "import fsspec\n",
    "from coffea.nanoevents.methods import vector\n",
    "import matplotlib.pyplot as plt\n",
    "import pyarrow.parquet as pq\n",
    "import dask\n",
    "from dask import delayed\n",
    "from dask.distributed import futures_of, wait\n",
    "import numpy as np\n",
    "from functools import partial\n",
    "import time\n",
    "ak.behavior.update(vector.behavior)"
   ]
  },
  {
   "cell_type": "code",
   "execution_count": 4,
   "id": "696cc10a-fbe6-40a3-9893-39652c1d582e",
   "metadata": {},
   "outputs": [],
   "source": [
    "rucio_client = rucio.client.Client()"
   ]
  },
  {
   "cell_type": "code",
   "execution_count": 5,
   "id": "609a9902-e3fb-4416-915b-488101c48fde",
   "metadata": {},
   "outputs": [],
   "source": [
    "files = list(rucio_client.list_files(\"user.nihartma\", \"user.nihartma.physlite_to_parquet_gcp.data17_13TeV.periodK.grp17_v01_p4309_v3_output.parquet\"))"
   ]
  },
  {
   "cell_type": "code",
   "execution_count": 7,
   "id": "4e3359c7-404e-495f-b781-d64746936a24",
   "metadata": {},
   "outputs": [],
   "source": [
    "url = get_signed_url(rucio_client, \"user.nihartma\", files[0][\"name\"])"
   ]
  },
  {
   "cell_type": "code",
   "execution_count": 9,
   "id": "6c512dcc-5d2f-43dc-8f2a-9096e8348e7d",
   "metadata": {},
   "outputs": [],
   "source": [
    "def get_m2mu(url, row_groups=None):\n",
    "    ak.behavior.update(vector.behavior)\n",
    "    with fsspec.open(url, cache_type=\"none\") as f:\n",
    "        events = ak.from_parquet(f, lazy=True, row_groups=row_groups)\n",
    "        p4 = ak.zip({k: events.Muons[k] for k in [\"pt\", \"eta\", \"phi\"]}, with_name=\"PtEtaPhiMLorentzVector\")\n",
    "        p4[\"mass\"] = 105.6583715\n",
    "        mu1, mu2 = ak.unzip(ak.combinations(p4, 2))\n",
    "        return ak.to_numpy(ak.flatten((mu1 + mu2).mass))"
   ]
  },
  {
   "cell_type": "code",
   "execution_count": 12,
   "id": "c30c73f2-2a49-4e1d-b092-55373af754c2",
   "metadata": {},
   "outputs": [
    {
     "data": {
      "text/plain": [
       "array([18371.81093796, 81543.43982601,  4559.72004804, ...,\n",
       "       31847.3718676 , 89183.23359825, 89263.42472361])"
      ]
     },
     "execution_count": 12,
     "metadata": {},
     "output_type": "execute_result"
    }
   ],
   "source": [
    "get_m2mu(url, 10)"
   ]
  },
  {
   "cell_type": "code",
   "execution_count": 13,
   "id": "aeae1a6b-34eb-409d-875e-1072b6beab80",
   "metadata": {},
   "outputs": [],
   "source": [
    "def get_num_row_groups(url):\n",
    "    with fsspec.open(url, cache_type=\"none\") as f:\n",
    "        return pq.ParquetFile(f).num_row_groups"
   ]
  },
  {
   "cell_type": "code",
   "execution_count": 14,
   "id": "24d3322e-da65-4bf1-982b-d397917f9b45",
   "metadata": {},
   "outputs": [
    {
     "data": {
      "text/plain": [
       "46"
      ]
     },
     "execution_count": 14,
     "metadata": {},
     "output_type": "execute_result"
    }
   ],
   "source": [
    "get_num_row_groups(url)"
   ]
  },
  {
   "cell_type": "code",
   "execution_count": 15,
   "id": "e6d12201-960e-4190-b3b5-d447007ea4ba",
   "metadata": {},
   "outputs": [],
   "source": [
    "from dask_gateway import GatewayCluster, Gateway\n",
    "cluster = GatewayCluster(\n",
    "    worker_cores=1,\n",
    "    worker_memory=3.5,\n",
    "    image=\"eu.gcr.io/gke-dev-311213/jupyter-physlite:20210709\"\n",
    ")"
   ]
  },
  {
   "cell_type": "code",
   "execution_count": 18,
   "id": "73c40fda-5697-452c-ae27-00f13e8f4b74",
   "metadata": {},
   "outputs": [
    {
     "data": {
      "application/vnd.jupyter.widget-view+json": {
       "model_id": "691d0714431a408c9c0ac2e9cb228205",
       "version_major": 2,
       "version_minor": 0
      },
      "text/plain": [
       "VBox(children=(HTML(value='<h2>GatewayCluster</h2>'), HBox(children=(HTML(value='\\n<div>\\n<style scoped>\\n    …"
      ]
     },
     "metadata": {},
     "output_type": "display_data"
    }
   ],
   "source": [
    "cluster"
   ]
  },
  {
   "cell_type": "code",
   "execution_count": 17,
   "id": "d046bc6d-0bdd-40d2-8c83-19acb16c0149",
   "metadata": {},
   "outputs": [],
   "source": [
    "cluster.scale(8)"
   ]
  },
  {
   "cell_type": "code",
   "execution_count": 19,
   "id": "fd625e4e-894d-4821-a849-5306f728c637",
   "metadata": {},
   "outputs": [],
   "source": [
    "client = cluster.get_client()"
   ]
  },
  {
   "cell_type": "code",
   "execution_count": 21,
   "id": "19f3e9be-0afd-4822-9100-d1818dac1221",
   "metadata": {},
   "outputs": [],
   "source": [
    "partial_url = partial(get_signed_url_worker, upload.data[-1])"
   ]
  },
  {
   "cell_type": "code",
   "execution_count": 35,
   "id": "3dc9c512-b322-47d6-8cff-3092872345b5",
   "metadata": {},
   "outputs": [],
   "source": [
    "fut_url = client.submit(partial_url, files[0][\"scope\"], files[0][\"name\"])"
   ]
  },
  {
   "cell_type": "code",
   "execution_count": 37,
   "id": "38cd5dca-467d-4983-bcfc-62431b17e30d",
   "metadata": {},
   "outputs": [],
   "source": [
    "fut_m2mu = client.submit(get_m2mu, fut_url, row_groups=0)"
   ]
  },
  {
   "cell_type": "code",
   "execution_count": 38,
   "id": "eef6129e-3dff-452a-9fe7-ada7fc229126",
   "metadata": {},
   "outputs": [
    {
     "data": {
      "text/plain": [
       "array([92185.70863117, 21123.2786062 ,   979.60181011, ...,\n",
       "       90155.91709156, 88999.88223924,   437.860825  ])"
      ]
     },
     "execution_count": 38,
     "metadata": {},
     "output_type": "execute_result"
    }
   ],
   "source": [
    "fut_m2mu.result()"
   ]
  },
  {
   "cell_type": "code",
   "execution_count": 31,
   "id": "752df902-dac0-4e4e-b352-4af519db41d7",
   "metadata": {},
   "outputs": [],
   "source": [
    "tasks = []\n",
    "for file in files:\n",
    "    d_url = delayed(partial_url)(file[\"scope\"], file[\"name\"])\n",
    "    tasks.append(delayed(get_num_row_groups)(d_url))"
   ]
  },
  {
   "cell_type": "code",
   "execution_count": 32,
   "id": "004eac4d-917a-4b34-b32c-212255a70212",
   "metadata": {},
   "outputs": [],
   "source": [
    "num_row_groups_list = dask.compute(*tasks)"
   ]
  },
  {
   "cell_type": "code",
   "execution_count": 90,
   "id": "0992c5f5-a97a-4aa1-9e91-af1c8eb35548",
   "metadata": {},
   "outputs": [],
   "source": [
    "def submit():\n",
    "    futures = []\n",
    "    for file, num_row_groups in list(zip(files, num_row_groups_list)):\n",
    "        fut_url = client.submit(partial_url, file[\"scope\"], file[\"name\"])\n",
    "        sub_tasks = []\n",
    "        for row_groups in np.array_split(range(num_row_groups), 5):\n",
    "            if len(row_groups) > 0:\n",
    "                sub_tasks.append(client.submit(get_m2mu, fut_url, row_groups=list(row_groups)))\n",
    "        futures.append(client.submit(np.concatenate, sub_tasks))\n",
    "    return futures"
   ]
  },
  {
   "cell_type": "code",
   "execution_count": 91,
   "id": "2e2fed21-c08e-4d6b-b961-d91f95b7d0a8",
   "metadata": {},
   "outputs": [],
   "source": [
    "def run(ncores):\n",
    "    client.restart()\n",
    "    cluster.scale(ncores)\n",
    "    current_cores = None\n",
    "    print(\"Waiting for cluster to scale\")\n",
    "    start = time.time()\n",
    "    while current_cores != ncores:\n",
    "        current_cores = sum(client.ncores().values())\n",
    "        time.sleep(1)\n",
    "    print(f\"Cluster ready! Took {time.time() - start} s to wait\")\n",
    "    start = time.time()\n",
    "    futures = submit()\n",
    "    wait(futures)\n",
    "    return time.time() - start"
   ]
  },
  {
   "cell_type": "code",
   "execution_count": 92,
   "id": "82b01fde-78b5-4d0e-82a0-d7f1568a4e59",
   "metadata": {},
   "outputs": [],
   "source": [
    "#%%time\n",
    "#run(16)"
   ]
  },
  {
   "cell_type": "code",
   "execution_count": 93,
   "id": "34317580-3a1b-4235-adb4-6f2486dd77fd",
   "metadata": {},
   "outputs": [],
   "source": [
    "#client.restart()\n",
    "#cluster.scale(0)"
   ]
  },
  {
   "cell_type": "code",
   "execution_count": 94,
   "id": "012db035-0839-4377-8434-0d20dc5e02e5",
   "metadata": {},
   "outputs": [
    {
     "name": "stdout",
     "output_type": "stream",
     "text": [
      "Running for 64 cores\n",
      "Waiting for cluster to scale\n",
      "Cluster ready! Took 121.43381929397583 s to wait\n",
      "178.7678301334381\n",
      "Running for 128 cores\n",
      "Waiting for cluster to scale\n",
      "Cluster ready! Took 120.92330503463745 s to wait\n",
      "87.1512861251831\n",
      "Running for 256 cores\n",
      "Waiting for cluster to scale\n",
      "Cluster ready! Took 120.88288187980652 s to wait\n",
      "53.368602991104126\n",
      "Running for 384 cores\n",
      "Waiting for cluster to scale\n",
      "Cluster ready! Took 131.55643963813782 s to wait\n",
      "56.732357025146484\n",
      "Running for 512 cores\n",
      "Waiting for cluster to scale\n",
      "Cluster ready! Took 131.43946599960327 s to wait\n",
      "51.79574680328369\n",
      "Running for 768 cores\n",
      "Waiting for cluster to scale\n",
      "Cluster ready! Took 121.20251441001892 s to wait\n",
      "61.22903251647949\n",
      "Running for 1024 cores\n",
      "Waiting for cluster to scale\n",
      "Cluster ready! Took 133.9719786643982 s to wait\n",
      "86.73563718795776\n"
     ]
    },
    {
     "name": "stderr",
     "output_type": "stream",
     "text": [
      "distributed.client - ERROR - Restart timed out after 20.00 seconds\n"
     ]
    }
   ],
   "source": [
    "ncores_list = [64, 128, 256, 384, 512, 768, 1024]\n",
    "times = []\n",
    "for ncores in ncores_list:\n",
    "    print(f\"Running for {ncores} cores\")\n",
    "    times.append(run(ncores))\n",
    "    print(times[-1])\n",
    "client.restart()\n",
    "cluster.scale(0)"
   ]
  },
  {
   "cell_type": "code",
   "execution_count": 96,
   "id": "a1ba8464-475a-46f4-a057-97e28888f22c",
   "metadata": {},
   "outputs": [
    {
     "data": {
      "image/png": "[encoded data removed]",
      "text/plain": [
       "<Figure size 864x288 with 2 Axes>"
      ]
     },
     "metadata": {
      "needs_background": "light"
     },
     "output_type": "display_data"
    }
   ],
   "source": [
    "fig, axs = plt.subplots(ncols=2, figsize=(12, 4))\n",
    "axs[0].plot(ncores_list, times, \"o-\")\n",
    "axs[0].set_xlabel(\"Number of cores\")\n",
    "axs[0].set_ylabel(\"Time [s]\")\n",
    "axs[0].grid()\n",
    "axs[1].plot(ncores_list, times[0] / np.array(times), \"o-\")\n",
    "axs[1].plot(ncores_list, np.array(ncores_list) / ncores_list[0], \"--\", color=\"black\")\n",
    "axs[1].set_xlabel(\"Number of cores\")\n",
    "axs[1].set_ylabel(\"Speedup\")\n",
    "axs[1].grid()\n",
    "fig.savefig(\"scaling_test_m2mu_parquet_futures.pdf\")"
   ]
  },
  {
   "cell_type": "code",
   "execution_count": 97,
   "id": "0040f72a-c6a8-4317-8648-5bf78a682f88",
   "metadata": {},
   "outputs": [],
   "source": [
    "cluster.shutdown()"
   ]
  }
 ],
 "metadata": {
  "kernelspec": {
   "display_name": "Python 3 (ipykernel)",
   "language": "python",
   "name": "python3"
  },
  "language_info": {
   "codemirror_mode": {
    "name": "ipython",
    "version": 3
   },
   "file_extension": ".py",
   "mimetype": "text/x-python",
   "name": "python",
   "nbconvert_exporter": "python",
   "pygments_lexer": "ipython3",
   "version": "3.8.10"
  }
 },
 "nbformat": 4,
 "nbformat_minor": 5
}
