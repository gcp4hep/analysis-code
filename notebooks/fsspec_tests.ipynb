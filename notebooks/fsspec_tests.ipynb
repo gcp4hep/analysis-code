{
 "cells": [
  {
   "cell_type": "code",
   "execution_count": 6,
   "id": "2183a44a-9715-4fc9-b088-28ad1b9b4aad",
   "metadata": {
    "tags": []
   },
   "outputs": [],
   "source": [
    "import fsspec\n",
    "\n",
    "import rucio.client"
   ]
  },
  {
   "cell_type": "code",
   "execution_count": 3,
   "id": "cf3c3f6b-7086-46a4-8196-8b9917d775c9",
   "metadata": {
    "tags": []
   },
   "outputs": [],
   "source": [
    "%run utils_new.py"
   ]
  },
  {
   "cell_type": "code",
   "execution_count": 5,
   "id": "abf96fa1-4128-42f9-ac00-d1391ce0f55c",
   "metadata": {
    "tags": []
   },
   "outputs": [],
   "source": [
    "with open(\"x509\", \"rb\") as f:\n",
    "    setup_rucio_and_proxy(x509_data=f.read())"
   ]
  },
  {
   "cell_type": "code",
   "execution_count": 15,
   "id": "a0111048-e4b0-4c7d-ae4c-b1194bf1d5cd",
   "metadata": {
    "tags": []
   },
   "outputs": [],
   "source": [
    "rucio_client = rucio.client.Client(ca_cert=\"cern_bundle.pem\")"
   ]
  },
  {
   "cell_type": "code",
   "execution_count": 28,
   "id": "45452825-836e-4275-9029-d39c3e2c3b9c",
   "metadata": {
    "tags": []
   },
   "outputs": [],
   "source": [
    "rse = \"GOOGLE-EU_DATADISK\"\n",
    "filename = \"DAOD_PHYSLITE.33080408._000001.pool.root.1\""
   ]
  },
  {
   "cell_type": "code",
   "execution_count": 53,
   "id": "06abb999-360d-4fd3-a02b-e2281ecce200",
   "metadata": {
    "tags": []
   },
   "outputs": [],
   "source": [
    "url = get_signed_url(\"mc21_13p6TeV\", filename, rse=rse, ca_cert=\"cern_bundle.pem\")"
   ]
  },
  {
   "cell_type": "code",
   "execution_count": 31,
   "id": "7b72e0df-6750-49a9-be74-a72c09a7b0fc",
   "metadata": {
    "tags": []
   },
   "outputs": [],
   "source": [
    "fo = fsspec.open(url)"
   ]
  },
  {
   "cell_type": "code",
   "execution_count": 37,
   "id": "85ac2c60-87a5-4495-a5a7-3ebf720e7ca8",
   "metadata": {
    "tags": []
   },
   "outputs": [],
   "source": [
    "with fo as f:\n",
    "    data = f.read(10)"
   ]
  },
  {
   "cell_type": "code",
   "execution_count": 38,
   "id": "91e24395-3c89-4e0c-95b0-0dcf3b504e8e",
   "metadata": {
    "tags": []
   },
   "outputs": [
    {
     "data": {
      "text/plain": [
       "b'root\\x00\\x00\\xf4\\x90\\x00\\x00'"
      ]
     },
     "execution_count": 38,
     "metadata": {},
     "output_type": "execute_result"
    }
   ],
   "source": [
    "data"
   ]
  },
  {
   "cell_type": "code",
   "execution_count": 41,
   "id": "cf0a639d-eb69-4a73-8182-89b231536424",
   "metadata": {
    "tags": []
   },
   "outputs": [],
   "source": [
    "f = fo.open()"
   ]
  },
  {
   "cell_type": "code",
   "execution_count": 47,
   "id": "e3f65562-7066-47de-bb1a-9bc8cb1dad63",
   "metadata": {
    "tags": []
   },
   "outputs": [
    {
     "data": {
      "text/plain": [
       "[<InvalidURL .>, <InvalidURL .>]"
      ]
     },
     "execution_count": 47,
     "metadata": {},
     "output_type": "execute_result"
    }
   ],
   "source": [
    "f.fs.cat_ranges([\".\", \".\"], [0, 10], [10, 20])"
   ]
  },
  {
   "cell_type": "code",
   "execution_count": 51,
   "id": "cb941518-15ea-40a3-b573-2fd7ab8b8255",
   "metadata": {
    "tags": []
   },
   "outputs": [],
   "source": [
    "fs = fsspec.filesystem(\"http\")"
   ]
  },
  {
   "cell_type": "code",
   "execution_count": 107,
   "id": "d57404ad-370f-4002-bf4c-f5f22d323701",
   "metadata": {
    "tags": []
   },
   "outputs": [
    {
     "data": {
      "text/plain": [
       "{}"
      ]
     },
     "execution_count": 107,
     "metadata": {},
     "output_type": "execute_result"
    }
   ],
   "source": [
    "fs.client_kwargs"
   ]
  },
  {
   "cell_type": "code",
   "execution_count": 54,
   "id": "60006066-3e0d-491e-9aa9-906501f15546",
   "metadata": {
    "tags": []
   },
   "outputs": [
    {
     "data": {
      "text/plain": [
       "[b'root\\x00\\x00\\xf4\\x90\\x00\\x00', b'\\x00d\\x13\\xcf\\xdb\\xa9\\x134\\xe0\\x9e']"
      ]
     },
     "execution_count": 54,
     "metadata": {},
     "output_type": "execute_result"
    }
   ],
   "source": [
    "fs.cat_ranges([url, url], [0, 10], [10, 20])"
   ]
  },
  {
   "cell_type": "code",
   "execution_count": 55,
   "id": "b5c74bae-7ad9-489f-a48e-68cc412300cf",
   "metadata": {
    "tags": []
   },
   "outputs": [],
   "source": [
    "import uproot"
   ]
  },
  {
   "cell_type": "code",
   "execution_count": 57,
   "id": "9b67c8be-ba9f-46f0-8ce8-2e995447f771",
   "metadata": {
    "tags": []
   },
   "outputs": [
    {
     "data": {
      "text/plain": [
       "b'root\\x00\\x00\\xf4\\x90\\x00\\x00'"
      ]
     },
     "execution_count": 57,
     "metadata": {},
     "output_type": "execute_result"
    }
   ],
   "source": [
    "fs.cat_file(url, 0, 10)"
   ]
  },
  {
   "cell_type": "code",
   "execution_count": 58,
   "id": "fb333e75-856e-41d4-b83d-f0740058e5f0",
   "metadata": {
    "tags": []
   },
   "outputs": [],
   "source": [
    "import uproot"
   ]
  },
  {
   "cell_type": "code",
   "execution_count": 149,
   "id": "412c201e-e0c4-441b-a165-d5a964b53c97",
   "metadata": {
    "tags": []
   },
   "outputs": [],
   "source": [
    "class FSSpecHttpSource(uproot.source.chunk.Source):\n",
    "    def __init__(self, file_path, **options):\n",
    "        self._file_path = file_path\n",
    "        # will by default use aiohttp with TCPConnection pool of size 100\n",
    "        # could also play with block_size and cache_type\n",
    "        self._fs = fsspec.filesystem(\"http\", block_size=0, cache_type=\"none\")\n",
    "        \n",
    "    @property\n",
    "    def closed(self):\n",
    "        return False # we're opening all the time?\n",
    "    \n",
    "    def _make_chunk(self, start, stop, content):\n",
    "        future = uproot.source.futures.TrivialFuture(content)\n",
    "        return uproot.source.chunk.Chunk(self, start, stop, future)\n",
    "    \n",
    "    def chunk(self, start, stop):\n",
    "        return self._make_chunk(start, stop, self._fs.cat_file(self._file_path, start, stop))\n",
    "    \n",
    "    def chunks(self, ranges, notifications):\n",
    "        starts = []\n",
    "        stops = []\n",
    "        for start, stop in ranges:\n",
    "            starts.append(start)\n",
    "            stops.append(stop)\n",
    "        contents = self._fs.cat_ranges(\n",
    "            [self._file_path] * len(ranges), starts, stops\n",
    "        )\n",
    "        chunks = []\n",
    "        for content, (start, stop) in zip(contents, ranges):\n",
    "            chunk = self._make_chunk(start, stop, content)\n",
    "            if notifications is not None:\n",
    "                notifications.put(chunk)\n",
    "            chunks.append(chunk)\n",
    "        return chunks"
   ]
  },
  {
   "cell_type": "code",
   "execution_count": 150,
   "id": "2d34eccc-a25e-4ef1-9aa6-9966701a26b7",
   "metadata": {
    "tags": []
   },
   "outputs": [],
   "source": [
    "f = uproot.open(url,\n",
    "                http_handler=FSSpecHttpSource\n",
    "               )"
   ]
  },
  {
   "cell_type": "code",
   "execution_count": 151,
   "id": "a3487caa-1b16-4389-af66-3642b44660bb",
   "metadata": {
    "tags": []
   },
   "outputs": [],
   "source": [
    "#f[\"CollectionTree\"][\"AnalysisJetsAuxDyn.pt\"].array()"
   ]
  },
  {
   "cell_type": "code",
   "execution_count": 152,
   "id": "24ea909b-5385-4c35-b718-843356e251b9",
   "metadata": {
    "tags": []
   },
   "outputs": [],
   "source": [
    "tree = f[\"CollectionTree\"]"
   ]
  },
  {
   "cell_type": "code",
   "execution_count": 153,
   "id": "ddabba4f-60a5-4aa0-a7e4-be29ccde5b2b",
   "metadata": {
    "tags": []
   },
   "outputs": [],
   "source": [
    "import re"
   ]
  },
  {
   "cell_type": "code",
   "execution_count": 154,
   "id": "ade91b37-dc8e-4d0a-9d30-1b5114c451c1",
   "metadata": {
    "tags": []
   },
   "outputs": [],
   "source": [
    "filter_typename=\"/((std::)*vector<){0,1}(u*int|float|double)/\""
   ]
  },
  {
   "cell_type": "code",
   "execution_count": 155,
   "id": "0be07495-baef-4d61-922f-d431ccb2a157",
   "metadata": {
    "tags": []
   },
   "outputs": [],
   "source": [
    "#tree.show(filter_typename=filter_typename, filter_name=\"AnalysisElectrons*\")"
   ]
  },
  {
   "cell_type": "code",
   "execution_count": 157,
   "id": "be149938-969b-418c-aa87-1383cf810f3e",
   "metadata": {
    "tags": []
   },
   "outputs": [
    {
     "name": "stdout",
     "output_type": "stream",
     "text": [
      "CPU times: user 1.54 s, sys: 45.8 ms, total: 1.58 s\n",
      "Wall time: 1.77 s\n"
     ]
    }
   ],
   "source": [
    "%%time\n",
    "arrays = tree.arrays(filter_typename=filter_typename, filter_name=\"AnalysisElectrons*\")"
   ]
  },
  {
   "cell_type": "code",
   "execution_count": 110,
   "id": "c8e96f8b-126d-4379-9be2-159c66ed459e",
   "metadata": {
    "tags": []
   },
   "outputs": [
    {
     "data": {
      "text/plain": [
       "305.6893033981323"
      ]
     },
     "execution_count": 110,
     "metadata": {},
     "output_type": "execute_result"
    }
   ],
   "source": [
    "arrays.nbytes / 1024 / 1024"
   ]
  },
  {
   "cell_type": "code",
   "execution_count": 158,
   "id": "8419a32b-1410-476d-a812-e48b3ba774a0",
   "metadata": {
    "tags": []
   },
   "outputs": [
    {
     "data": {
      "text/html": [
       "<pre>[{&#x27;AnalysisElectronsAuxDyn.ambiguityLink.m_persKey&#x27;: [0], ...},\n",
       " {&#x27;AnalysisElectronsAuxDyn.ambiguityLink.m_persKey&#x27;: [], ...},\n",
       " {&#x27;AnalysisElectronsAuxDyn.ambiguityLink.m_persKey&#x27;: [0], ...},\n",
       " {&#x27;AnalysisElectronsAuxDyn.ambiguityLink.m_persKey&#x27;: [0], ...},\n",
       " {&#x27;AnalysisElectronsAuxDyn.ambiguityLink.m_persKey&#x27;: [0], ...},\n",
       " {&#x27;AnalysisElectronsAuxDyn.ambiguityLink.m_persKey&#x27;: [], ...},\n",
       " {&#x27;AnalysisElectronsAuxDyn.ambiguityLink.m_persKey&#x27;: [], ...},\n",
       " {&#x27;AnalysisElectronsAuxDyn.ambiguityLink.m_persKey&#x27;: [], ...},\n",
       " {&#x27;AnalysisElectronsAuxDyn.ambiguityLink.m_persKey&#x27;: [0], ...},\n",
       " {&#x27;AnalysisElectronsAuxDyn.ambiguityLink.m_persKey&#x27;: [], ...},\n",
       " ...,\n",
       " {&#x27;AnalysisElectronsAuxDyn.ambiguityLink.m_persKey&#x27;: [], ...},\n",
       " {&#x27;AnalysisElectronsAuxDyn.ambiguityLink.m_persKey&#x27;: [], ...},\n",
       " {&#x27;AnalysisElectronsAuxDyn.ambiguityLink.m_persKey&#x27;: [], ...},\n",
       " {&#x27;AnalysisElectronsAuxDyn.ambiguityLink.m_persKey&#x27;: [0], ...},\n",
       " {&#x27;AnalysisElectronsAuxDyn.ambiguityLink.m_persKey&#x27;: [0], ...},\n",
       " {&#x27;AnalysisElectronsAuxDyn.ambiguityLink.m_persKey&#x27;: [0], ...},\n",
       " {&#x27;AnalysisElectronsAuxDyn.ambiguityLink.m_persKey&#x27;: [], ...},\n",
       " {&#x27;AnalysisElectronsAuxDyn.ambiguityLink.m_persKey&#x27;: [], ...},\n",
       " {&#x27;AnalysisElectronsAuxDyn.ambiguityLink.m_persKey&#x27;: [], ...}]\n",
       "-----------------------------------------------------------------------------------------------------\n",
       "type: 20000 * {\n",
       "    &quot;AnalysisElectronsAuxDyn.ambiguityLink.m_persKey&quot;: var * uint32,\n",
       "    &quot;AnalysisElectronsAuxDyn.ambiguityLink.m_persIndex&quot;: var * uint32,\n",
       "    &quot;AnalysisElectronsAuxDyn.pt&quot;: var * float32,\n",
       "    &quot;AnalysisElectronsAuxDyn.eta&quot;: var * float32,\n",
       "    &quot;AnalysisElectronsAuxDyn.phi&quot;: var * float32,\n",
       "    &quot;AnalysisElectronsAuxDyn.m&quot;: var * float32,\n",
       "    &quot;AnalysisElectronsAuxDyn.charge&quot;: var * float32,\n",
       "    &quot;AnalysisElectronsAuxDyn.topoetcone20&quot;: var * float32,\n",
       "    &quot;AnalysisElectronsAuxDyn.truthType&quot;: var * int32,\n",
       "    &quot;AnalysisElectronsAuxDyn.truthOrigin&quot;: var * int32,\n",
       "    &quot;AnalysisElectronsAuxDyn.truthParticleLink.m_persKey&quot;: var * uint32,\n",
       "    &quot;AnalysisElectronsAuxDyn.truthParticleLink.m_persIndex&quot;: var * uint32,\n",
       "    &quot;AnalysisElectronsAuxDyn.neflowisol20&quot;: var * float32,\n",
       "    &quot;AnalysisElectronsAuxDyn.DFCommonElectronsLHLoose&quot;: var * int8,\n",
       "    &quot;AnalysisElectronsAuxDyn.TruthLink.m_persKey&quot;: var * uint32,\n",
       "    &quot;AnalysisElectronsAuxDyn.TruthLink.m_persIndex&quot;: var * uint32,\n",
       "    &quot;AnalysisElectronsAuxDyn.author&quot;: var * uint16,\n",
       "    &quot;AnalysisElectronsAuxDyn.OQ&quot;: var * uint32,\n",
       "    &quot;AnalysisElectronsAuxDyn.ambiguityType&quot;: var * uint8,\n",
       "    &quot;AnalysisElectronsAuxDyn.ptcone20_Nonprompt_All_MaxWeightTTVALooseCone_pt500&quot;: var * float32,\n",
       "    &quot;AnalysisElectronsAuxDyn.ptvarcone30_Nonprompt_All_MaxWeightTTVALooseCone_pt500&quot;: var * float32,\n",
       "    &quot;AnalysisElectronsAuxDyn.ptcone20_Nonprompt_All_MaxWeightTTVALooseCone_pt1000&quot;: var * float32,\n",
       "    &quot;AnalysisElectronsAuxDyn.ptvarcone30_Nonprompt_All_MaxWeightTTVALooseCone_pt1000&quot;: var * float32,\n",
       "    &quot;AnalysisElectronsAuxDyn.DFCommonElectronsLHVeryLoose&quot;: var * int8,\n",
       "    &quot;AnalysisElectronsAuxDyn.DFCommonElectronsLHVeryLooseIsEMValue&quot;: var * uint32,\n",
       "    &quot;AnalysisElectronsAuxDyn.DFCommonElectronsLHLooseIsEMValue&quot;: var * uint32,\n",
       "    &quot;AnalysisElectronsAuxDyn.DFCommonElectronsLHLooseBL&quot;: var * int8,\n",
       "    &quot;AnalysisElectronsAuxDyn.DFCommonElectronsLHLooseBLIsEMValue&quot;: var * uint32,\n",
       "    &quot;AnalysisElectronsAuxDyn.DFCommonElectronsLHMedium&quot;: var * int8,\n",
       "    &quot;AnalysisElectronsAuxDyn.DFCommonElectronsLHMediumIsEMValue&quot;: var * uint32,\n",
       "    &quot;AnalysisElectronsAuxDyn.DFCommonElectronsLHTight&quot;: var * int8,\n",
       "    &quot;AnalysisElectronsAuxDyn.DFCommonElectronsLHTightIsEMValue&quot;: var * uint32,\n",
       "    &quot;AnalysisElectronsAuxDyn.DFCommonElectronsECIDS&quot;: var * int8,\n",
       "    &quot;AnalysisElectronsAuxDyn.DFCommonElectronsECIDSResult&quot;: var * float64,\n",
       "    &quot;AnalysisElectronsAuxDyn.truthPdgId&quot;: var * int32,\n",
       "    &quot;AnalysisElectronsAuxDyn.firstEgMotherTruthType&quot;: var * int32,\n",
       "    &quot;AnalysisElectronsAuxDyn.firstEgMotherTruthOrigin&quot;: var * int32,\n",
       "    &quot;AnalysisElectronsAuxDyn.firstEgMotherPdgId&quot;: var * int32,\n",
       "    &quot;AnalysisElectronsAuxDyn.firstEgMotherTruthParticleLink.m_persKey&quot;: var * uint32,\n",
       "    &quot;AnalysisElectronsAuxDyn.firstEgMotherTruthParticleLink.m_persIndex&quot;: var * uint32\n",
       "}</pre>"
      ],
      "text/plain": [
       "<Array [{...}, {...}, {...}, ..., {...}, {...}] type='20000 * {\"AnalysisEle...'>"
      ]
     },
     "execution_count": 158,
     "metadata": {},
     "output_type": "execute_result"
    }
   ],
   "source": [
    "arrays"
   ]
  },
  {
   "cell_type": "code",
   "execution_count": null,
   "id": "cec56fc1-7e83-4081-9683-44afa4d5b007",
   "metadata": {},
   "outputs": [],
   "source": []
  }
 ],
 "metadata": {
  "kernelspec": {
   "display_name": "Python 3 (ipykernel)",
   "language": "python",
   "name": "python3"
  },
  "language_info": {
   "codemirror_mode": {
    "name": "ipython",
    "version": 3
   },
   "file_extension": ".py",
   "mimetype": "text/x-python",
   "name": "python",
   "nbconvert_exporter": "python",
   "pygments_lexer": "ipython3",
   "version": "3.10.12"
  }
 },
 "nbformat": 4,
 "nbformat_minor": 5
}
