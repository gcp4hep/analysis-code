{
 "cells": [
  {
   "cell_type": "code",
   "execution_count": 1,
   "id": "frank-mainland",
   "metadata": {},
   "outputs": [],
   "source": [
    "%matplotlib inline"
   ]
  },
  {
   "cell_type": "code",
   "execution_count": 2,
   "id": "rubber-lancaster",
   "metadata": {},
   "outputs": [],
   "source": [
    "import awkward as ak\n",
    "import vector\n",
    "import numpy as np\n",
    "from hist import Hist\n",
    "import matplotlib.pyplot as plt\n",
    "from particle import Particle"
   ]
  },
  {
   "cell_type": "code",
   "execution_count": 3,
   "id": "constant-booth",
   "metadata": {},
   "outputs": [],
   "source": [
    "mz = Particle.from_string(\"Z\").mass"
   ]
  },
  {
   "cell_type": "code",
   "execution_count": 4,
   "id": "sticky-worcester",
   "metadata": {},
   "outputs": [],
   "source": [
    "GeV = 1000"
   ]
  },
  {
   "cell_type": "code",
   "execution_count": 5,
   "id": "upset-eugene",
   "metadata": {},
   "outputs": [],
   "source": [
    "filename = \"leptons_100percent.parquet\""
   ]
  },
  {
   "cell_type": "code",
   "execution_count": 6,
   "id": "deadly-pilot",
   "metadata": {},
   "outputs": [],
   "source": [
    "array = ak.from_parquet(filename)"
   ]
  },
  {
   "cell_type": "code",
   "execution_count": 7,
   "id": "organic-barrel",
   "metadata": {},
   "outputs": [
    {
     "data": {
      "text/plain": [
       "2979511"
      ]
     },
     "execution_count": 7,
     "metadata": {},
     "output_type": "execute_result"
    }
   ],
   "source": [
    "len(array)"
   ]
  },
  {
   "cell_type": "code",
   "execution_count": 8,
   "id": "alpine-graham",
   "metadata": {},
   "outputs": [],
   "source": [
    "def get_leptons(array):\n",
    "    array[\"Electrons\", \"flavor\"] = 0\n",
    "    array[\"Muons\", \"flavor\"] = 1\n",
    "    return ak.concatenate([array.Electrons, array.Muons], axis=1)"
   ]
  },
  {
   "cell_type": "code",
   "execution_count": 9,
   "id": "valuable-shelter",
   "metadata": {},
   "outputs": [],
   "source": [
    "leptons = get_leptons(array)"
   ]
  },
  {
   "cell_type": "code",
   "execution_count": 10,
   "id": "ideal-reporter",
   "metadata": {},
   "outputs": [],
   "source": [
    "leptons = leptons[leptons.p4.pt >= 7 * GeV]"
   ]
  },
  {
   "cell_type": "code",
   "execution_count": 11,
   "id": "greek-station",
   "metadata": {},
   "outputs": [],
   "source": [
    "def get_4lep_candidates(leptons):\n",
    "    comb = ak.combinations(leptons, 4)\n",
    "    comb = comb[ak.num(comb) > 0]\n",
    "    return ak.concatenate([c[:, :, np.newaxis] for c in ak.unzip(comb)], axis=2)"
   ]
  },
  {
   "cell_type": "code",
   "execution_count": 12,
   "id": "distinct-bargain",
   "metadata": {},
   "outputs": [],
   "source": [
    "candidates = get_4lep_candidates(leptons)"
   ]
  },
  {
   "cell_type": "code",
   "execution_count": 13,
   "id": "subject-proof",
   "metadata": {},
   "outputs": [
    {
     "data": {
      "text/plain": [
       "126085"
      ]
     },
     "execution_count": 13,
     "metadata": {},
     "output_type": "execute_result"
    }
   ],
   "source": [
    "len(candidates)"
   ]
  },
  {
   "cell_type": "code",
   "execution_count": 14,
   "id": "familiar-mount",
   "metadata": {},
   "outputs": [],
   "source": [
    "def filter_sfoc(candidates):\n",
    "    flavsum = ak.sum(candidates.flavor, axis=2)\n",
    "    return candidates[\n",
    "        # total charge 0\n",
    "        (ak.sum(candidates.charge, axis=2) == 0)\n",
    "        # total charge 0 for each ee, mumu\n",
    "        & (ak.sum(candidates[candidates.flavor == 0].charge, axis=2) == 0)\n",
    "        & (ak.sum(candidates[candidates.flavor == 1].charge, axis=2) == 0)\n",
    "        # eeee, mumumumu, eemumu\n",
    "        & (flavsum != 1)\n",
    "        & (flavsum != 3)\n",
    "    ]"
   ]
  },
  {
   "cell_type": "code",
   "execution_count": 15,
   "id": "standard-coaching",
   "metadata": {},
   "outputs": [],
   "source": [
    "candidates = filter_sfoc(candidates)"
   ]
  },
  {
   "cell_type": "code",
   "execution_count": 16,
   "id": "brown-avatar",
   "metadata": {},
   "outputs": [],
   "source": [
    "candidates = candidates[ak.num(candidates) != 0]"
   ]
  },
  {
   "cell_type": "code",
   "execution_count": 17,
   "id": "present-peninsula",
   "metadata": {},
   "outputs": [
    {
     "data": {
      "text/plain": [
       "85876"
      ]
     },
     "execution_count": 17,
     "metadata": {},
     "output_type": "execute_result"
    }
   ],
   "source": [
    "len(candidates)"
   ]
  },
  {
   "cell_type": "code",
   "execution_count": 18,
   "id": "automatic-dynamics",
   "metadata": {},
   "outputs": [],
   "source": [
    "def mass(combinations):\n",
    "    return sum([vector.awk(c) for c in ak.unzip(combinations)[1:]], vector.awk(combinations.slot0)).mass"
   ]
  },
  {
   "cell_type": "code",
   "execution_count": 19,
   "id": "material-vessel",
   "metadata": {},
   "outputs": [],
   "source": [
    "m4 = mass(ak.zip([candidates.p4[:, :, i] for i in range(4)]))"
   ]
  },
  {
   "cell_type": "code",
   "execution_count": 20,
   "id": "worthy-european",
   "metadata": {},
   "outputs": [],
   "source": [
    "m4 = ak.flatten(m4)\n",
    "# alternative: just one candidate per event\n",
    "# m4 = m4[:, 0]"
   ]
  },
  {
   "cell_type": "code",
   "execution_count": 21,
   "id": "balanced-perception",
   "metadata": {},
   "outputs": [
    {
     "data": {
      "text/plain": [
       "89561"
      ]
     },
     "execution_count": 21,
     "metadata": {},
     "output_type": "execute_result"
    }
   ],
   "source": [
    "len(m4)"
   ]
  },
  {
   "cell_type": "code",
   "execution_count": 22,
   "id": "neutral-infection",
   "metadata": {},
   "outputs": [
    {
     "data": {
      "image/png": "[encoded data removed]",
      "text/plain": [
       "<Figure size 432x288 with 1 Axes>"
      ]
     },
     "metadata": {
      "needs_background": "light"
     },
     "output_type": "display_data"
    }
   ],
   "source": [
    "h = Hist.new.Reg(50, 60, 160).Int64()\n",
    "h.fill(m4 / GeV)\n",
    "h.plot(histtype=\"errorbar\", color=\"black\")\n",
    "plt.xlabel(\"4-lepton SFOC invariant mass [GeV]\")\n",
    "plt.ylabel(\"# Candidates\")\n",
    "plt.savefig(\"m4l_wide.pdf\")"
   ]
  },
  {
   "cell_type": "code",
   "execution_count": 23,
   "id": "treated-battle",
   "metadata": {},
   "outputs": [
    {
     "data": {
      "image/png": "[encoded data removed]",
      "text/plain": [
       "<Figure size 432x288 with 1 Axes>"
      ]
     },
     "metadata": {
      "needs_background": "light"
     },
     "output_type": "display_data"
    }
   ],
   "source": [
    "h = Hist.new.Reg(20, 105, 160).Int64()\n",
    "h.fill(m4 / GeV)\n",
    "h.plot(histtype=\"errorbar\", color=\"black\")\n",
    "plt.xlabel(\"4-lepton SFOC invariant mass [GeV]\")\n",
    "plt.ylabel(\"# Candidates\")\n",
    "plt.savefig(\"m4l_zoom.pdf\")"
   ]
  }
 ],
 "metadata": {
  "kernelspec": {
   "display_name": "Python 3",
   "language": "python",
   "name": "python3"
  },
  "language_info": {
   "codemirror_mode": {
    "name": "ipython",
    "version": 3
   },
   "file_extension": ".py",
   "mimetype": "text/x-python",
   "name": "python",
   "nbconvert_exporter": "python",
   "pygments_lexer": "ipython3",
   "version": "3.9.6"
  },
  "toc": {
   "base_numbering": 1,
   "nav_menu": {},
   "number_sections": true,
   "sideBar": true,
   "skip_h1_title": false,
   "title_cell": "Table of Contents",
   "title_sidebar": "Contents",
   "toc_cell": false,
   "toc_position": {},
   "toc_section_display": true,
   "toc_window_display": false
  }
 },
 "nbformat": 4,
 "nbformat_minor": 5
}
