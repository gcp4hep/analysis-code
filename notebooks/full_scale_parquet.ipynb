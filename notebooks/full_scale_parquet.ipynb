{
 "cells": [
  {
   "cell_type": "code",
   "execution_count": 1,
   "id": "d8013095-5271-4fb4-b655-2c07e0999105",
   "metadata": {},
   "outputs": [
    {
     "data": {
      "application/vnd.jupyter.widget-view+json": {
       "model_id": "1460eca870ad43a0a049d078f1f63d2b",
       "version_major": 2,
       "version_minor": 0
      },
      "text/plain": [
       "FileUpload(value={}, description='Upload')"
      ]
     },
     "metadata": {},
     "output_type": "display_data"
    }
   ],
   "source": [
    "from ipywidgets import FileUpload\n",
    "upload = FileUpload()\n",
    "upload"
   ]
  },
  {
   "cell_type": "code",
   "execution_count": 2,
   "id": "e02f9b4c-7523-4a5a-ab3b-4efab1d2e208",
   "metadata": {},
   "outputs": [],
   "source": [
    "RUCIO_ACCOUNT=\"nihartma\""
   ]
  },
  {
   "cell_type": "code",
   "execution_count": 3,
   "id": "7b6283a9-2f3a-44b5-baa0-fc82e928524a",
   "metadata": {},
   "outputs": [],
   "source": [
    "import time\n",
    "import os\n",
    "from pathlib import Path\n",
    "import json\n",
    "import gc\n",
    "import pyarrow.parquet as pq\n",
    "import fsspec\n",
    "import awkward as ak\n",
    "import matplotlib.pyplot as plt\n",
    "import numpy as np\n",
    "import vector\n",
    "from tqdm.auto import tqdm\n",
    "from physlite_experiments.physlite_events import Factory\n",
    "from physlite_experiments.analysis_example import get_obj_sel\n",
    "from utils_new import setup_rucio_and_proxy, get_signed_url, SetupRucioAndProxyWorker\n",
    "from rucio.client import Client"
   ]
  },
  {
   "cell_type": "code",
   "execution_count": 4,
   "id": "c1e3a0e9-f48d-4300-a9aa-e016ad956760",
   "metadata": {},
   "outputs": [],
   "source": [
    "x509_path = Path(\"x509up\")\n",
    "if not x509_path.exists():\n",
    "    x509_data = upload.data[-1]\n",
    "    with x509_path.open(\"wb\") as f:\n",
    "        f.write(x509_data)\n",
    "else:\n",
    "    with x509_path.open(\"rb\") as f:\n",
    "        x509_data = f.read()"
   ]
  },
  {
   "cell_type": "code",
   "execution_count": 5,
   "id": "bfed28bc-cbd0-4c04-b80c-8ab1fbe18251",
   "metadata": {},
   "outputs": [],
   "source": [
    "setup_rucio_and_proxy(x509_data, rucio_account=RUCIO_ACCOUNT)"
   ]
  },
  {
   "cell_type": "code",
   "execution_count": 6,
   "id": "2c1ed1c3-b72e-46c7-ae8f-ac2a5c873617",
   "metadata": {},
   "outputs": [],
   "source": [
    "rucio_client = Client(ca_cert=False)"
   ]
  },
  {
   "cell_type": "code",
   "execution_count": 7,
   "id": "3478c9eb-5b23-4e60-a4b4-24d7acb57d5c",
   "metadata": {},
   "outputs": [
    {
     "name": "stderr",
     "output_type": "stream",
     "text": [
      "/srv/conda/envs/notebook/lib/python3.9/site-packages/urllib3/connectionpool.py:1013: InsecureRequestWarning: Unverified HTTPS request is being made to host 'voatlasrucio-server-prod.cern.ch'. Adding certificate verification is strongly advised. See: https://urllib3.readthedocs.io/en/latest/advanced-usage.html#ssl-warnings\n",
      "  warnings.warn(\n",
      "/srv/conda/envs/notebook/lib/python3.9/site-packages/urllib3/connectionpool.py:1013: InsecureRequestWarning: Unverified HTTPS request is being made to host 'voatlasrucio-auth-prod.cern.ch'. Adding certificate verification is strongly advised. See: https://urllib3.readthedocs.io/en/latest/advanced-usage.html#ssl-warnings\n",
      "  warnings.warn(\n",
      "/srv/conda/envs/notebook/lib/python3.9/site-packages/urllib3/connectionpool.py:1013: InsecureRequestWarning: Unverified HTTPS request is being made to host 'voatlasrucio-server-prod.cern.ch'. Adding certificate verification is strongly advised. See: https://urllib3.readthedocs.io/en/latest/advanced-usage.html#ssl-warnings\n",
      "  warnings.warn(\n"
     ]
    }
   ],
   "source": [
    "files = list(rucio_client.list_files(\"user.nihartma\", \"user.nihartma.physlite_to_parquet_gcp_100p_2021-11-17_1605_output.parquet\"))"
   ]
  },
  {
   "cell_type": "code",
   "execution_count": 8,
   "id": "a2683ddf-2f7c-44f5-994a-e677640e7d20",
   "metadata": {},
   "outputs": [
    {
     "data": {
      "text/plain": [
       "63.21627996741336"
      ]
     },
     "execution_count": 8,
     "metadata": {},
     "output_type": "execute_result"
    }
   ],
   "source": [
    "# Total TiB\n",
    "sum(file[\"bytes\"] for file in files) / 1024 ** 4"
   ]
  },
  {
   "cell_type": "code",
   "execution_count": 9,
   "id": "a11050df-0c47-4986-bd81-e966308358e9",
   "metadata": {},
   "outputs": [
    {
     "data": {
      "text/plain": [
       "12.639190495945513"
      ]
     },
     "execution_count": 9,
     "metadata": {},
     "output_type": "execute_result"
    }
   ],
   "source": [
    "files[0][\"bytes\"] / 1024 ** 3"
   ]
  },
  {
   "cell_type": "code",
   "execution_count": 10,
   "id": "ec075589-b0b8-4cde-9131-b20749e5d816",
   "metadata": {},
   "outputs": [
    {
     "name": "stderr",
     "output_type": "stream",
     "text": [
      "/srv/conda/envs/notebook/lib/python3.9/site-packages/urllib3/connectionpool.py:1013: InsecureRequestWarning: Unverified HTTPS request is being made to host 'voatlasrucio-server-prod.cern.ch'. Adding certificate verification is strongly advised. See: https://urllib3.readthedocs.io/en/latest/advanced-usage.html#ssl-warnings\n",
      "  warnings.warn(\n"
     ]
    }
   ],
   "source": [
    "url = get_signed_url(files[0][\"scope\"], files[0][\"name\"], ca_cert=False)"
   ]
  },
  {
   "cell_type": "code",
   "execution_count": 11,
   "id": "1ea61dbc-7abb-4173-8333-da7bbc33f4cc",
   "metadata": {},
   "outputs": [],
   "source": [
    "class MonitoredFile:\n",
    "    \"\"\"\n",
    "    Monitor accessed ranges\n",
    "    \"\"\"\n",
    "    \n",
    "    def __init__(self, f):\n",
    "        self.f = f\n",
    "        self.read_ranges = []\n",
    "    \n",
    "    def read(self, n):\n",
    "        self.read_ranges.append((time.time_ns(), self.f.tell(), n))\n",
    "        return self.f.read(n)\n",
    "    \n",
    "    def seek(self, *args):\n",
    "        return self.f.seek(*args)\n",
    "    \n",
    "    def tell(self):\n",
    "        return self.f.tell()\n",
    "    \n",
    "    @property\n",
    "    def closed(self):\n",
    "        return self.f.closed"
   ]
  },
  {
   "cell_type": "code",
   "execution_count": 12,
   "id": "b078946e-1985-4220-a15c-72c67ee3ddd0",
   "metadata": {},
   "outputs": [
    {
     "name": "stdout",
     "output_type": "stream",
     "text": [
      "64\n",
      "[(1648561347464135244, 13571161921, 65536), (1648561347617532257, 13568046847, 3180602)]\n"
     ]
    }
   ],
   "source": [
    "with fsspec.open(url, cache_type=\"none\") as f:\n",
    "    f = MonitoredFile(f)\n",
    "    print(pq.ParquetFile(f).num_row_groups)\n",
    "    print(f.read_ranges)"
   ]
  },
  {
   "cell_type": "code",
   "execution_count": 13,
   "id": "ff957628-d6c2-4b3b-b011-e215cd3f7be4",
   "metadata": {},
   "outputs": [],
   "source": [
    "def dunder_to_dot(events, collection):\n",
    "    for k in events[collection].fields:\n",
    "        if \"__\" in k:\n",
    "            events[collection, k.replace(\"__\", \".\")] = events[collection, k]\n",
    "    return events"
   ]
  },
  {
   "cell_type": "code",
   "execution_count": 14,
   "id": "465fc6ca-10e2-407a-b1a8-b103fe38023f",
   "metadata": {},
   "outputs": [],
   "source": [
    "def run_analysis(events):\n",
    "    events = get_obj_sel(events)\n",
    "    info = {\n",
    "        collection: {\n",
    "            flag : ak.count_nonzero(events[collection][flag])\n",
    "            for flag in [\"baseline\", \"passOR\", \"signal\"]\n",
    "        } for collection in [\"Electrons\", \"Muons\", \"Jets\"]\n",
    "    }\n",
    "    events[\"Muons\", \"m\"] = 105.6583715 # muon mass was not stored yet\n",
    "    leptons = ak.packed(\n",
    "        events[\n",
    "            [\"Electrons\", \"Muons\"],\n",
    "            [\"pt\", \"eta\", \"phi\", \"passOR\", \"signal\", \"baseline\", \"m\"]\n",
    "        ]\n",
    "    )\n",
    "    return {\"info\": info, \"leptons\": ak.to_arrow(leptons)}"
   ]
  },
  {
   "cell_type": "code",
   "execution_count": 15,
   "id": "6db3969a-3a01-44a0-b629-14c36db398ba",
   "metadata": {},
   "outputs": [
    {
     "name": "stderr",
     "output_type": "stream",
     "text": [
      "/srv/conda/envs/notebook/lib/python3.9/site-packages/awkward/_connect/_numpy.py:195: RuntimeWarning: divide by zero encountered in true_divide\n",
      "  result = getattr(ufunc, method)(\n"
     ]
    },
    {
     "name": "stdout",
     "output_type": "stream",
     "text": [
      "CPU times: user 1.81 s, sys: 205 ms, total: 2.02 s\n",
      "Wall time: 6.47 s\n"
     ]
    }
   ],
   "source": [
    "%%time\n",
    "with fsspec.open(url,\n",
    "                 cache_type=\"none\"\n",
    "                ) as f:\n",
    "    f = MonitoredFile(f)\n",
    "    events = Factory.from_parquet(f, row_groups=0).events\n",
    "    events = dunder_to_dot(events, \"Muons\")\n",
    "    res = run_analysis(events)\n",
    "    read_ranges = np.array(f.read_ranges)"
   ]
  },
  {
   "cell_type": "code",
   "execution_count": 16,
   "id": "03c99a5e-03b8-4ea9-bd58-8a2cc6fd7e12",
   "metadata": {},
   "outputs": [],
   "source": [
    "def plot_io(read_ranges):\n",
    "    h, e = np.histogram(read_ranges[:, 0], weights=read_ranges[:, 2], bins=10)\n",
    "    plt.stairs(h / (e[1:] - e[:-1]) * 1e9, e.astype(\"datetime64[ns]\"))\n",
    "    plt.xticks(rotation=45);\n",
    "    plt.ylabel(\"bytes per second\")"
   ]
  },
  {
   "cell_type": "code",
   "execution_count": 17,
   "id": "49bcb0b0-bcfd-47d5-800f-6a508ef7d650",
   "metadata": {},
   "outputs": [
    {
     "data": {
      "image/png": "[encoded data removed]",
      "text/plain": [
       "<Figure size 432x288 with 1 Axes>"
      ]
     },
     "metadata": {
      "needs_background": "light"
     },
     "output_type": "display_data"
    }
   ],
   "source": [
    "plot_io(read_ranges)"
   ]
  },
  {
   "cell_type": "code",
   "execution_count": 18,
   "id": "1053ecc5-c4ae-45fd-adc7-396e7e626fcc",
   "metadata": {},
   "outputs": [],
   "source": [
    "def get_num_row_groups(file):\n",
    "    from utils_new import get_signed_url\n",
    "    with fsspec.open(get_signed_url(file[\"scope\"], file[\"name\"], ca_cert=False), cache_type=\"none\") as f:\n",
    "        return pq.ParquetFile(f).num_row_groups"
   ]
  },
  {
   "cell_type": "markdown",
   "id": "766aea81-6112-4852-a1f3-45032b0dc5e3",
   "metadata": {},
   "source": [
    "Start cluster with [`manage_cluster.ipynb`](manage_cluster.ipynb)"
   ]
  },
  {
   "cell_type": "code",
   "execution_count": 19,
   "id": "813b181a-bae9-4f23-a5bf-136fafccce93",
   "metadata": {},
   "outputs": [
    {
     "name": "stderr",
     "output_type": "stream",
     "text": [
      "/srv/conda/envs/notebook/lib/python3.9/site-packages/dask_gateway/client.py:21: FutureWarning: format_bytes is deprecated and will be removed in a future release. Please use dask.utils.format_bytes instead.\n",
      "  from distributed.utils import LoopRunner, format_bytes\n"
     ]
    },
    {
     "data": {
      "text/plain": [
       "[ClusterReport<name=default.4f094720562241ea879715f47dd12f0d, status=RUNNING>]"
      ]
     },
     "execution_count": 19,
     "metadata": {},
     "output_type": "execute_result"
    }
   ],
   "source": [
    "from dask_gateway import Gateway\n",
    "gateway = Gateway()\n",
    "clusters = gateway.list_clusters()\n",
    "clusters"
   ]
  },
  {
   "cell_type": "code",
   "execution_count": 20,
   "id": "e4edb8bd-8ab8-4b67-aa68-bddbedc94598",
   "metadata": {},
   "outputs": [],
   "source": [
    "cluster = gateway.connect(clusters[0].name)\n",
    "client = cluster.get_client()"
   ]
  },
  {
   "cell_type": "code",
   "execution_count": 21,
   "id": "8fc2c035-a069-42c6-b334-6ef036be6a65",
   "metadata": {},
   "outputs": [
    {
     "data": {
      "application/vnd.jupyter.widget-view+json": {
       "model_id": "0f172a997c124c67aea28172a5ba40f1",
       "version_major": 2,
       "version_minor": 0
      },
      "text/plain": [
       "VBox(children=(HTML(value='<h2>GatewayCluster</h2>'), HBox(children=(HTML(value='\\n<div>\\n<style scoped>\\n    …"
      ]
     },
     "metadata": {},
     "output_type": "display_data"
    }
   ],
   "source": [
    "cluster"
   ]
  },
  {
   "cell_type": "code",
   "execution_count": 72,
   "id": "10924ab0-3f6d-42d1-b607-c07b1bfcf431",
   "metadata": {},
   "outputs": [
    {
     "data": {
      "text/plain": [
       "{'tls://10.64.1.2:40831': {'status': 'OK'},\n",
       " 'tls://10.64.1.3:40391': {'status': 'OK'},\n",
       " 'tls://10.64.1.4:40187': {'status': 'OK'},\n",
       " 'tls://10.64.1.5:34193': {'status': 'OK'},\n",
       " 'tls://10.64.1.6:36641': {'status': 'OK'},\n",
       " 'tls://10.64.1.7:34879': {'status': 'OK'},\n",
       " 'tls://10.64.1.8:45909': {'status': 'OK'},\n",
       " 'tls://10.64.2.2:40637': {'status': 'OK'},\n",
       " 'tls://10.64.2.3:46771': {'status': 'OK'},\n",
       " 'tls://10.64.3.2:36877': {'status': 'OK'},\n",
       " 'tls://10.64.3.3:35497': {'status': 'OK'},\n",
       " 'tls://10.64.3.4:46249': {'status': 'OK'},\n",
       " 'tls://10.64.3.5:43353': {'status': 'OK'},\n",
       " 'tls://10.64.3.6:37611': {'status': 'OK'},\n",
       " 'tls://10.64.3.7:33757': {'status': 'OK'},\n",
       " 'tls://10.64.3.8:46745': {'status': 'OK'}}"
      ]
     },
     "execution_count": 72,
     "metadata": {},
     "output_type": "execute_result"
    }
   ],
   "source": [
    "from distributed.diagnostics.plugin import UploadFile\n",
    "from distributed import progress\n",
    "client.register_worker_plugin(UploadFile(\"utils_new.py\"))\n",
    "client.register_worker_plugin(SetupRucioAndProxyWorker(os.environ[\"X509_USER_PROXY\"], rucio_account=RUCIO_ACCOUNT))"
   ]
  },
  {
   "cell_type": "code",
   "execution_count": 23,
   "id": "298e4411-46b4-4b17-a8f2-921b3acdcddb",
   "metadata": {},
   "outputs": [],
   "source": [
    "fut = client.submit(get_num_row_groups, files[0])"
   ]
  },
  {
   "cell_type": "code",
   "execution_count": 24,
   "id": "a3f9598a-2cda-4176-ab2d-f40b80353fe9",
   "metadata": {},
   "outputs": [
    {
     "data": {
      "text/plain": [
       "64"
      ]
     },
     "execution_count": 24,
     "metadata": {},
     "output_type": "execute_result"
    }
   ],
   "source": [
    "fut.result()"
   ]
  },
  {
   "cell_type": "code",
   "execution_count": 29,
   "id": "babcc414-2087-44f7-b63d-e3d39fe04883",
   "metadata": {},
   "outputs": [],
   "source": [
    "def split(l, n):\n",
    "    \"split list into chunks roughly of length n\"\n",
    "    import math\n",
    "    npart = math.ceil(len(l) / n)\n",
    "    return [list(i) for i in np.array_split(np.array(l, dtype=object), npart)]"
   ]
  },
  {
   "cell_type": "code",
   "execution_count": 30,
   "id": "d1dade3d-af8b-448b-979a-7772213ee707",
   "metadata": {},
   "outputs": [],
   "source": [
    "if not Path(\"files.json\").exists():\n",
    "    futs = client.map(get_num_row_groups, files)\n",
    "    num_row_groups = client.gather(futs)\n",
    "    for file, file_rg in zip(files, num_row_groups):\n",
    "        file[\"num_row_groups\"] = file_rg\n",
    "    with open(\"files.json\", \"w\") as f:\n",
    "        json.dump(files, f)"
   ]
  },
  {
   "cell_type": "code",
   "execution_count": 31,
   "id": "c5de10cd-8a02-4d00-a768-59b2810c7f96",
   "metadata": {},
   "outputs": [],
   "source": [
    "with open(\"files.json\") as f:\n",
    "    files = json.load(f)"
   ]
  },
  {
   "cell_type": "markdown",
   "id": "97b585ee-e2aa-4d08-8f15-be60171bc9e6",
   "metadata": {},
   "source": [
    "Parallelize over files first, row groups second"
   ]
  },
  {
   "cell_type": "code",
   "execution_count": 32,
   "id": "db53584c-5f08-405d-8787-3be88df4d3e1",
   "metadata": {},
   "outputs": [],
   "source": [
    "job_params = []\n",
    "for file in files:\n",
    "    for i in split(list(range(file[\"num_row_groups\"])), 5):\n",
    "        job_params.append((file, i))\n",
    "job_params = sorted(job_params, key=lambda x: x[1][0])"
   ]
  },
  {
   "cell_type": "code",
   "execution_count": 33,
   "id": "fdb9dfc2-18c9-45b5-84f0-b8eb47bdb85f",
   "metadata": {},
   "outputs": [
    {
     "data": {
      "text/plain": [
       "63873"
      ]
     },
     "execution_count": 33,
     "metadata": {},
     "output_type": "execute_result"
    }
   ],
   "source": [
    "len(job_params)"
   ]
  },
  {
   "cell_type": "code",
   "execution_count": 34,
   "id": "4275c4a0-c371-4992-9d13-ae56f9cb4926",
   "metadata": {},
   "outputs": [],
   "source": [
    "def job_url(file):\n",
    "    from utils_new import get_signed_url\n",
    "    return get_signed_url(file[\"scope\"], file[\"name\"], ca_cert=False)"
   ]
  },
  {
   "cell_type": "code",
   "execution_count": 35,
   "id": "47d797b4-b370-40b6-be09-b62af078c0c4",
   "metadata": {},
   "outputs": [],
   "source": [
    "def merge_info(infos):\n",
    "    info = {\n",
    "        collection: {\n",
    "            flag: 0\n",
    "            for flag in [\"baseline\", \"passOR\", \"signal\"]\n",
    "        } for collection in [\"Electrons\", \"Muons\", \"Jets\"]\n",
    "    }\n",
    "    for result in infos:\n",
    "        for collection, flags in result.items():\n",
    "            for flag, count in flags.items():\n",
    "                info[collection][flag] += count\n",
    "    return info"
   ]
  },
  {
   "cell_type": "code",
   "execution_count": null,
   "id": "6e918e43-9d82-44e3-90c6-b14ef54f64bc",
   "metadata": {},
   "outputs": [],
   "source": []
  },
  {
   "cell_type": "code",
   "execution_count": 36,
   "id": "9da1f750-0c49-4b9d-84ed-4b7250376aba",
   "metadata": {},
   "outputs": [],
   "source": [
    "def job(url, row_groups):\n",
    "    start = time.time_ns()\n",
    "    with fsspec.open(url, cache_type=\"none\") as f:\n",
    "        f = MonitoredFile(f)\n",
    "        infos = []\n",
    "        leptons = []\n",
    "        nevents = 0\n",
    "        for row_group in row_groups:\n",
    "            events = Factory.from_parquet(f, row_groups=row_group).events\n",
    "            events = dunder_to_dot(events, \"Muons\")\n",
    "            res = run_analysis(events)\n",
    "            infos.append(res[\"info\"])\n",
    "            leptons.append(ak.from_arrow(res[\"leptons\"]))\n",
    "            nevents += len(events)\n",
    "            del events\n",
    "            gc.collect()\n",
    "    stop = time.time_ns()\n",
    "    out = {\"info\": {}, \"leptons\": ak.to_arrow(ak.concatenate(leptons))}\n",
    "    out[\"counts\"] = merge_info(infos)\n",
    "    out[\"info\"][\"start\"] = start\n",
    "    out[\"info\"][\"stop\"] = stop\n",
    "    out[\"info\"][\"time\"] = stop - start\n",
    "    out[\"info\"][\"read_ranges\"] = np.array(f.read_ranges)\n",
    "    out[\"info\"][\"nevents\"] = nevents\n",
    "    return out"
   ]
  },
  {
   "cell_type": "code",
   "execution_count": 37,
   "id": "6cce57c2-94c2-42f9-9b7e-3f211a8e01fd",
   "metadata": {},
   "outputs": [],
   "source": [
    "fut_url = client.submit(job_url, files[0])\n",
    "fut = client.submit(job, fut_url, [0, 1])"
   ]
  },
  {
   "cell_type": "code",
   "execution_count": 38,
   "id": "fdb74152-b2cc-4b11-b782-86c22b96411a",
   "metadata": {},
   "outputs": [],
   "source": [
    "res = fut.result()\n",
    "leptons = ak.from_arrow(res[\"leptons\"])\n",
    "info = res[\"info\"]"
   ]
  },
  {
   "cell_type": "code",
   "execution_count": 39,
   "id": "184ee1d9-53e3-41cd-aaee-d096c9f65a84",
   "metadata": {},
   "outputs": [
    {
     "data": {
      "image/png": "[encoded data removed]",
      "text/plain": [
       "<Figure size 432x288 with 1 Axes>"
      ]
     },
     "metadata": {
      "needs_background": "light"
     },
     "output_type": "display_data"
    }
   ],
   "source": [
    "plot_io(info[\"read_ranges\"])"
   ]
  },
  {
   "cell_type": "code",
   "execution_count": 40,
   "id": "12c8c857-a780-4d29-8677-7f0dcfc11562",
   "metadata": {},
   "outputs": [
    {
     "data": {
      "text/plain": [
       "9661.415735850816"
      ]
     },
     "execution_count": 40,
     "metadata": {},
     "output_type": "execute_result"
    }
   ],
   "source": [
    "info[\"nevents\"] / info[\"time\"] * 1e9"
   ]
  },
  {
   "cell_type": "code",
   "execution_count": 41,
   "id": "a2104887-89b6-496e-98eb-a12d3426f027",
   "metadata": {},
   "outputs": [
    {
     "data": {
      "text/plain": [
       "<Array [[], [], [], [], ... [], [], [4.14e+04]] type='130576 * option[var * floa...'>"
      ]
     },
     "execution_count": 41,
     "metadata": {},
     "output_type": "execute_result"
    }
   ],
   "source": [
    "leptons.Electrons.pt"
   ]
  },
  {
   "cell_type": "code",
   "execution_count": null,
   "id": "30c6da98-7e13-4fbd-83da-c2eede5cc65f",
   "metadata": {},
   "outputs": [],
   "source": []
  },
  {
   "cell_type": "code",
   "execution_count": 42,
   "id": "a405cba0-951e-4594-9b7a-05c1914a98eb",
   "metadata": {},
   "outputs": [],
   "source": [
    "def job_combined(file, row_groups):\n",
    "    url = job_url(file)\n",
    "    return job(url, row_groups)"
   ]
  },
  {
   "cell_type": "code",
   "execution_count": null,
   "id": "31cdc4bd-e245-4f4c-abdb-1526244f9317",
   "metadata": {},
   "outputs": [],
   "source": []
  },
  {
   "cell_type": "markdown",
   "id": "f9fe11d3-2b6e-4992-a2c3-30fddfdd447c",
   "metadata": {},
   "source": [
    "old variant: url job as dependency:\n",
    "```python\n",
    "futs = []\n",
    "futs_url = {}\n",
    "for file, row_group in job_params[:len(job_params)]:\n",
    "#for file, row_group in job_params[:10]:\n",
    "    if file[\"name\"] not in futs_url:\n",
    "        futs_url[file[\"name\"]] = client.submit(job_url, file)\n",
    "    fut_url = futs_url[file[\"name\"]]\n",
    "    futs.append(client.submit(job, fut_url, row_group))\n",
    "```\n",
    "\n",
    "alternative: combined where each job fetches url (better for huge clusters?)"
   ]
  },
  {
   "cell_type": "code",
   "execution_count": 73,
   "id": "64740b9b-bf29-4f8f-af6e-27d41bc8b0e9",
   "metadata": {},
   "outputs": [],
   "source": [
    "futs = []\n",
    "for file, row_group in job_params[:len(job_params)]:\n",
    "#for file, row_group in job_params[:32]:\n",
    "    futs.append(client.submit(job_combined, file, row_group))"
   ]
  },
  {
   "cell_type": "code",
   "execution_count": 45,
   "id": "05c2c5f6-8d4d-4c0b-91f7-ebb4c5010ca3",
   "metadata": {},
   "outputs": [
    {
     "data": {
      "text/plain": [
       "[]"
      ]
     },
     "execution_count": 45,
     "metadata": {},
     "output_type": "execute_result"
    }
   ],
   "source": [
    "[fut for fut in futs if not fut.status in [\"pending\", \"finished\"]]"
   ]
  },
  {
   "cell_type": "code",
   "execution_count": 175,
   "id": "9cfe92dc-cfe8-420d-aa32-cf7bc357c776",
   "metadata": {},
   "outputs": [],
   "source": [
    "unfinished = [fut for fut in futs if not fut.status in [\"finished\"]]"
   ]
  },
  {
   "cell_type": "code",
   "execution_count": 176,
   "id": "7c92e1f7-f5c7-4b20-96ac-512d9c799cf0",
   "metadata": {},
   "outputs": [],
   "source": [
    "finished = [fut for fut in futs if fut.status == \"finished\"]"
   ]
  },
  {
   "cell_type": "code",
   "execution_count": 177,
   "id": "29a0899f-2b32-4fe3-b068-c30b91b25134",
   "metadata": {},
   "outputs": [
    {
     "data": {
      "text/plain": [
       "63873"
      ]
     },
     "execution_count": 177,
     "metadata": {},
     "output_type": "execute_result"
    }
   ],
   "source": [
    "len(finished)"
   ]
  },
  {
   "cell_type": "code",
   "execution_count": 178,
   "id": "13616ffa-6e93-488e-b212-b5f44c3dfe74",
   "metadata": {},
   "outputs": [
    {
     "data": {
      "text/plain": [
       "0"
      ]
     },
     "execution_count": 178,
     "metadata": {},
     "output_type": "execute_result"
    }
   ],
   "source": [
    "len(unfinished)"
   ]
  },
  {
   "cell_type": "code",
   "execution_count": 179,
   "id": "071adfb0-0a3d-4516-9546-eafb0b0ab7ac",
   "metadata": {},
   "outputs": [],
   "source": [
    "#client.cancel(unfinished)"
   ]
  },
  {
   "cell_type": "code",
   "execution_count": 180,
   "id": "6f79bbd8-cc2f-400f-80a1-169c5f4bb682",
   "metadata": {},
   "outputs": [],
   "source": [
    "read_ranges_fut = client.map(lambda x: x[\"info\"][\"read_ranges\"], finished)"
   ]
  },
  {
   "cell_type": "code",
   "execution_count": 184,
   "id": "28ce080e-f7f6-4db0-bcd2-adb0b8d6debc",
   "metadata": {},
   "outputs": [
    {
     "data": {
      "text/plain": [
       "[]"
      ]
     },
     "execution_count": 184,
     "metadata": {},
     "output_type": "execute_result"
    }
   ],
   "source": [
    "[fut for fut in read_ranges_fut if fut.status != \"finished\"]"
   ]
  },
  {
   "cell_type": "code",
   "execution_count": 181,
   "id": "c891b518-c866-474a-9695-b93477222b22",
   "metadata": {},
   "outputs": [],
   "source": [
    "#[fut for fut in read_ranges_fut if fut.status == \"finished\"]"
   ]
  },
  {
   "cell_type": "code",
   "execution_count": 185,
   "id": "399af7af-6faf-4eac-80d8-c38251269202",
   "metadata": {},
   "outputs": [],
   "source": [
    "read_ranges = np.concatenate(client.gather([fut for fut in read_ranges_fut if fut.status == \"finished\"]))"
   ]
  },
  {
   "cell_type": "code",
   "execution_count": 187,
   "id": "8818e77c-9777-455f-8125-f52694331b9b",
   "metadata": {},
   "outputs": [
    {
     "data": {
      "image/png": "[encoded data removed]",
      "text/plain": [
       "<Figure size 432x288 with 1 Axes>"
      ]
     },
     "metadata": {
      "needs_background": "light"
     },
     "output_type": "display_data"
    }
   ],
   "source": [
    "plot_io(read_ranges)\n",
    "plt.savefig(\"bytes_per_second_parquet_100p_4kcores.pdf\")"
   ]
  },
  {
   "cell_type": "code",
   "execution_count": 188,
   "id": "14782555-f725-4c67-8574-919055b066e2",
   "metadata": {},
   "outputs": [
    {
     "data": {
      "text/plain": [
       "5003"
      ]
     },
     "execution_count": 188,
     "metadata": {},
     "output_type": "execute_result"
    }
   ],
   "source": [
    "len(files)"
   ]
  },
  {
   "cell_type": "code",
   "execution_count": 189,
   "id": "e866ee51-54af-4ef0-a44f-f041c77bbea7",
   "metadata": {},
   "outputs": [],
   "source": [
    "events_stat_fut = client.map(lambda x: (x[\"info\"][\"time\"], x[\"info\"][\"stop\"], x[\"info\"][\"nevents\"]), finished)"
   ]
  },
  {
   "cell_type": "code",
   "execution_count": 190,
   "id": "da6229df-8862-41ed-8b09-172249e43863",
   "metadata": {},
   "outputs": [
    {
     "data": {
      "text/plain": [
       "[]"
      ]
     },
     "execution_count": 190,
     "metadata": {},
     "output_type": "execute_result"
    }
   ],
   "source": [
    "[fut for fut in events_stat_fut if fut.status != \"finished\"]"
   ]
  },
  {
   "cell_type": "code",
   "execution_count": 191,
   "id": "9df37ab3-ed8a-4f47-9c27-99d64994e066",
   "metadata": {},
   "outputs": [],
   "source": [
    "#events_stat = np.array(client.gather(client.map(lambda x: (x[\"info\"][\"time\"], x[\"info\"][\"nevents\"]), futs)))\n",
    "events_stat = np.array(client.gather([fut for fut in events_stat_fut if fut.status == \"finished\"]))"
   ]
  },
  {
   "cell_type": "code",
   "execution_count": 206,
   "id": "0a847201-e184-42c2-8fb6-e95f60859b40",
   "metadata": {},
   "outputs": [
    {
     "data": {
      "image/png": "[encoded data removed]",
      "text/plain": [
       "<Figure size 432x288 with 1 Axes>"
      ]
     },
     "metadata": {
      "needs_background": "light"
     },
     "output_type": "display_data"
    }
   ],
   "source": [
    "# maybe sth wrong here ...\n",
    "h, e = np.histogram(events_stat[:, 1], weights=events_stat[:, 2], bins=10)\n",
    "plt.stairs(h / (e[1:] - e[:-1]) * 1e9, e.astype(\"datetime64[ns]\"))\n",
    "plt.xticks(rotation=45);\n",
    "plt.ylabel(\"Events per second\")\n",
    "plt.savefig(\"events_pers_second_parquet_100p_4kcores.pdf\")"
   ]
  },
  {
   "cell_type": "code",
   "execution_count": 193,
   "id": "e5207764-147d-4555-95fb-5307c5761fbb",
   "metadata": {},
   "outputs": [
    {
     "data": {
      "text/plain": [
       "6633.973204906122"
      ]
     },
     "execution_count": 193,
     "metadata": {},
     "output_type": "execute_result"
    }
   ],
   "source": [
    "(events_stat[:, 2] / events_stat[:, 0] * 1e9).mean()"
   ]
  },
  {
   "cell_type": "code",
   "execution_count": 194,
   "id": "3ae51ec1-f942-4f7b-992e-66a660eaeffb",
   "metadata": {},
   "outputs": [
    {
     "data": {
      "text/plain": [
       "17221879.08301719"
      ]
     },
     "execution_count": 194,
     "metadata": {},
     "output_type": "execute_result"
    }
   ],
   "source": [
    "events_stat[:, 2].sum() / (events_stat[:, 1].max() - events_stat[:, 1].min()) * 1e9"
   ]
  },
  {
   "cell_type": "code",
   "execution_count": null,
   "id": "a1bd683d-1239-4c4c-b201-071798a7eaa2",
   "metadata": {},
   "outputs": [],
   "source": []
  },
  {
   "cell_type": "code",
   "execution_count": 195,
   "id": "7f1d49b5-3da8-42c4-9573-81189fe686b9",
   "metadata": {},
   "outputs": [],
   "source": [
    "def dilepton_mass(leptons):\n",
    "    import vector\n",
    "    vector.register_awkward()\n",
    "    leptons = ak.from_arrow(leptons)\n",
    "    leptons = ak.concatenate([leptons.Electrons, leptons.Muons], axis=1)\n",
    "    leptons[\"p4\"] = vector.awk(leptons[[\"pt\", \"eta\", \"phi\", \"m\"]])\n",
    "    lep1, lep2 = ak.unzip(ak.combinations(leptons.p4, 2))\n",
    "    return ak.flatten((lep1 + lep2).m).to_numpy()"
   ]
  },
  {
   "cell_type": "code",
   "execution_count": 196,
   "id": "d58f4bbc-7dfa-47bd-83d2-1d1696436b03",
   "metadata": {},
   "outputs": [
    {
     "data": {
      "text/plain": [
       "array([ 3134.70868481,  6957.97388927,  3131.97635851, ...,\n",
       "       18232.78574739,  3030.84950198,  8177.91152904])"
      ]
     },
     "execution_count": 196,
     "metadata": {},
     "output_type": "execute_result"
    }
   ],
   "source": [
    "dilepton_mass(futs[0].result()[\"leptons\"])"
   ]
  },
  {
   "cell_type": "code",
   "execution_count": 197,
   "id": "cce14a10-7f35-4180-8de4-941b4ec55f7a",
   "metadata": {},
   "outputs": [],
   "source": [
    "lepton_futs = client.map(lambda res: res[\"leptons\"], finished)"
   ]
  },
  {
   "cell_type": "code",
   "execution_count": 198,
   "id": "21938738-3259-4c8d-aeb2-7859f12ada38",
   "metadata": {},
   "outputs": [],
   "source": [
    "mass_futs = client.map(dilepton_mass, lepton_futs)"
   ]
  },
  {
   "cell_type": "code",
   "execution_count": 199,
   "id": "45f234a0-7b06-49fa-bf50-da81bda5211e",
   "metadata": {},
   "outputs": [],
   "source": [
    "bins = np.geomspace(300, 150000, 500)"
   ]
  },
  {
   "cell_type": "code",
   "execution_count": 200,
   "id": "8bd62ecc-aca1-4474-936b-bd8813088017",
   "metadata": {},
   "outputs": [],
   "source": [
    "def histogram(mass):\n",
    "    hist, _ = np.histogram(mass, bins=bins)\n",
    "    return hist"
   ]
  },
  {
   "cell_type": "code",
   "execution_count": 201,
   "id": "d7d09b79-bf4a-4f9c-899e-6acbcde8b3d5",
   "metadata": {},
   "outputs": [
    {
     "data": {
      "text/plain": [
       "array([ 3134.70868481,  6957.97388927,  3131.97635851, ...,\n",
       "       18232.78574739,  3030.84950198,  8177.91152904])"
      ]
     },
     "execution_count": 201,
     "metadata": {},
     "output_type": "execute_result"
    }
   ],
   "source": [
    "mass_futs[0].result()"
   ]
  },
  {
   "cell_type": "code",
   "execution_count": 202,
   "id": "567777f0-7497-4607-afe8-dc79593517a6",
   "metadata": {},
   "outputs": [
    {
     "data": {
      "text/plain": [
       "[]"
      ]
     },
     "execution_count": 202,
     "metadata": {},
     "output_type": "execute_result"
    }
   ],
   "source": [
    "[fut for fut in mass_futs if fut.status != \"finished\"]"
   ]
  },
  {
   "cell_type": "code",
   "execution_count": 203,
   "id": "75eeea2f-9828-46bd-9a0b-2aa331ec4a7d",
   "metadata": {},
   "outputs": [],
   "source": [
    "hist = sum(client.gather(client.map(histogram, mass_futs)))"
   ]
  },
  {
   "cell_type": "code",
   "execution_count": 204,
   "id": "7778d4c7-3e80-4b0c-ab3b-31dbdb68f4ce",
   "metadata": {},
   "outputs": [
    {
     "data": {
      "image/png": "[encoded data removed]",
      "text/plain": [
       "<Figure size 432x288 with 1 Axes>"
      ]
     },
     "metadata": {
      "needs_background": "light"
     },
     "output_type": "display_data"
    }
   ],
   "source": [
    "# still the plot for 10%\n",
    "plt.stairs(hist, bins, fill=True)\n",
    "plt.xscale(\"log\")\n",
    "plt.yscale(\"log\")"
   ]
  },
  {
   "cell_type": "code",
   "execution_count": null,
   "id": "24a5772e-9f67-4023-bdc5-5e0989210477",
   "metadata": {},
   "outputs": [],
   "source": []
  },
  {
   "cell_type": "code",
   "execution_count": 205,
   "id": "a096114d-25cb-4052-a1f1-669597d3b463",
   "metadata": {},
   "outputs": [],
   "source": [
    "cluster.shutdown()"
   ]
  },
  {
   "cell_type": "code",
   "execution_count": null,
   "id": "316fe2ab-04a9-41f9-98d6-1f5858124e73",
   "metadata": {},
   "outputs": [],
   "source": []
  }
 ],
 "metadata": {
  "kernelspec": {
   "display_name": "Python 3 (ipykernel)",
   "language": "python",
   "name": "python3"
  },
  "language_info": {
   "codemirror_mode": {
    "name": "ipython",
    "version": 3
   },
   "file_extension": ".py",
   "mimetype": "text/x-python",
   "name": "python",
   "nbconvert_exporter": "python",
   "pygments_lexer": "ipython3",
   "version": "3.9.10"
  }
 },
 "nbformat": 4,
 "nbformat_minor": 5
}
