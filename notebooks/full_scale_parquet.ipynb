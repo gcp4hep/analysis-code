{
 "cells": [
  {
   "cell_type": "code",
   "execution_count": 7,
   "id": "d8013095-5271-4fb4-b655-2c07e0999105",
   "metadata": {},
   "outputs": [
    {
     "data": {
      "application/vnd.jupyter.widget-view+json": {
       "model_id": "19b668335c52424a89cb88655bd9fd14",
       "version_major": 2,
       "version_minor": 0
      },
      "text/plain": [
       "FileUpload(value={}, description='Upload')"
      ]
     },
     "metadata": {},
     "output_type": "display_data"
    }
   ],
   "source": [
    "from ipywidgets import FileUpload\n",
    "upload = FileUpload()\n",
    "upload"
   ]
  },
  {
   "cell_type": "code",
   "execution_count": 8,
   "id": "e02f9b4c-7523-4a5a-ab3b-4efab1d2e208",
   "metadata": {},
   "outputs": [],
   "source": [
    "RUCIO_ACCOUNT=\"nihartma\""
   ]
  },
  {
   "cell_type": "code",
   "execution_count": 9,
   "id": "7b6283a9-2f3a-44b5-baa0-fc82e928524a",
   "metadata": {},
   "outputs": [],
   "source": [
    "import time\n",
    "import os\n",
    "from pathlib import Path\n",
    "import json\n",
    "import gc\n",
    "import pyarrow.parquet as pq\n",
    "import fsspec\n",
    "import awkward as ak\n",
    "import matplotlib.pyplot as plt\n",
    "import numpy as np\n",
    "import vector\n",
    "from tqdm.auto import tqdm\n",
    "from physlite_experiments.physlite_events import Factory\n",
    "from physlite_experiments.analysis_example import get_obj_sel\n",
    "from utils_new import setup_rucio_and_proxy, get_signed_url, SetupRucioAndProxyWorker\n",
    "from rucio.client import Client"
   ]
  },
  {
   "cell_type": "code",
   "execution_count": 13,
   "id": "c1e3a0e9-f48d-4300-a9aa-e016ad956760",
   "metadata": {},
   "outputs": [],
   "source": [
    "x509_path = Path(\"x509up\")\n",
    "if not x509_path.exists():\n",
    "    x509_data = upload.data[-1]\n",
    "    with x509_path.open(\"wb\") as f:\n",
    "        f.write(x509_data)\n",
    "else:\n",
    "    with x509_path.open(\"rb\") as f:\n",
    "        x509_data = f.read()"
   ]
  },
  {
   "cell_type": "code",
   "execution_count": 14,
   "id": "bfed28bc-cbd0-4c04-b80c-8ab1fbe18251",
   "metadata": {},
   "outputs": [],
   "source": [
    "setup_rucio_and_proxy(x509_data, rucio_account=RUCIO_ACCOUNT)"
   ]
  },
  {
   "cell_type": "code",
   "execution_count": 15,
   "id": "2c1ed1c3-b72e-46c7-ae8f-ac2a5c873617",
   "metadata": {},
   "outputs": [],
   "source": [
    "rucio_client = Client(ca_cert=False)"
   ]
  },
  {
   "cell_type": "code",
   "execution_count": 16,
   "id": "3478c9eb-5b23-4e60-a4b4-24d7acb57d5c",
   "metadata": {},
   "outputs": [
    {
     "name": "stderr",
     "output_type": "stream",
     "text": [
      "/srv/conda/envs/notebook/lib/python3.9/site-packages/urllib3/connectionpool.py:1013: InsecureRequestWarning: Unverified HTTPS request is being made to host 'voatlasrucio-server-prod.cern.ch'. Adding certificate verification is strongly advised. See: https://urllib3.readthedocs.io/en/latest/advanced-usage.html#ssl-warnings\n",
      "  warnings.warn(\n",
      "/srv/conda/envs/notebook/lib/python3.9/site-packages/urllib3/connectionpool.py:1013: InsecureRequestWarning: Unverified HTTPS request is being made to host 'voatlasrucio-auth-prod.cern.ch'. Adding certificate verification is strongly advised. See: https://urllib3.readthedocs.io/en/latest/advanced-usage.html#ssl-warnings\n",
      "  warnings.warn(\n",
      "/srv/conda/envs/notebook/lib/python3.9/site-packages/urllib3/connectionpool.py:1013: InsecureRequestWarning: Unverified HTTPS request is being made to host 'voatlasrucio-server-prod.cern.ch'. Adding certificate verification is strongly advised. See: https://urllib3.readthedocs.io/en/latest/advanced-usage.html#ssl-warnings\n",
      "  warnings.warn(\n"
     ]
    }
   ],
   "source": [
    "files = list(rucio_client.list_files(\"user.nihartma\", \"user.nihartma.physlite_to_parquet_gcp_100p_2021-11-17_1605_output.parquet\"))"
   ]
  },
  {
   "cell_type": "code",
   "execution_count": 17,
   "id": "a2683ddf-2f7c-44f5-994a-e677640e7d20",
   "metadata": {},
   "outputs": [
    {
     "data": {
      "text/plain": [
       "63.21627996741336"
      ]
     },
     "execution_count": 17,
     "metadata": {},
     "output_type": "execute_result"
    }
   ],
   "source": [
    "# Total TiB\n",
    "sum(file[\"bytes\"] for file in files) / 1024 ** 4"
   ]
  },
  {
   "cell_type": "code",
   "execution_count": 8,
   "id": "a11050df-0c47-4986-bd81-e966308358e9",
   "metadata": {},
   "outputs": [
    {
     "data": {
      "text/plain": [
       "12.639190495945513"
      ]
     },
     "execution_count": 8,
     "metadata": {},
     "output_type": "execute_result"
    }
   ],
   "source": [
    "files[0][\"bytes\"] / 1024 ** 3"
   ]
  },
  {
   "cell_type": "code",
   "execution_count": 18,
   "id": "ec075589-b0b8-4cde-9131-b20749e5d816",
   "metadata": {},
   "outputs": [
    {
     "name": "stderr",
     "output_type": "stream",
     "text": [
      "/srv/conda/envs/notebook/lib/python3.9/site-packages/urllib3/connectionpool.py:1013: InsecureRequestWarning: Unverified HTTPS request is being made to host 'voatlasrucio-server-prod.cern.ch'. Adding certificate verification is strongly advised. See: https://urllib3.readthedocs.io/en/latest/advanced-usage.html#ssl-warnings\n",
      "  warnings.warn(\n"
     ]
    }
   ],
   "source": [
    "url = get_signed_url(files[0][\"scope\"], files[0][\"name\"], ca_cert=False)"
   ]
  },
  {
   "cell_type": "code",
   "execution_count": 212,
   "id": "1ea61dbc-7abb-4173-8333-da7bbc33f4cc",
   "metadata": {},
   "outputs": [],
   "source": [
    "class MonitoredFile:\n",
    "    \"\"\"\n",
    "    Monitor accessed ranges\n",
    "    \"\"\"\n",
    "    \n",
    "    def __init__(self, f):\n",
    "        self.f = f\n",
    "        self.read_ranges = []\n",
    "    \n",
    "    def read(self, n):\n",
    "        self.read_ranges.append((time.time_ns(), self.f.tell(), n))\n",
    "        return self.f.read(n)\n",
    "    \n",
    "    def seek(self, *args):\n",
    "        return self.f.seek(*args)\n",
    "    \n",
    "    def tell(self):\n",
    "        return self.f.tell()\n",
    "    \n",
    "    @property\n",
    "    def closed(self):\n",
    "        return self.f.closed"
   ]
  },
  {
   "cell_type": "code",
   "execution_count": 138,
   "id": "b078946e-1985-4220-a15c-72c67ee3ddd0",
   "metadata": {},
   "outputs": [
    {
     "name": "stdout",
     "output_type": "stream",
     "text": [
      "64\n",
      "[(1648212092751982527, 13571161921, 65536), (1648212092827793575, 13568046847, 3180602)]\n"
     ]
    }
   ],
   "source": [
    "with fsspec.open(url, cache_type=\"none\") as f:\n",
    "    f = MonitoredFile(f)\n",
    "    print(pq.ParquetFile(f).num_row_groups)\n",
    "    print(f.read_ranges)"
   ]
  },
  {
   "cell_type": "code",
   "execution_count": 139,
   "id": "ff957628-d6c2-4b3b-b011-e215cd3f7be4",
   "metadata": {},
   "outputs": [],
   "source": [
    "def dunder_to_dot(events, collection):\n",
    "    for k in events[collection].fields:\n",
    "        if \"__\" in k:\n",
    "            events[collection, k.replace(\"__\", \".\")] = events[collection, k]\n",
    "    return events"
   ]
  },
  {
   "cell_type": "code",
   "execution_count": 140,
   "id": "465fc6ca-10e2-407a-b1a8-b103fe38023f",
   "metadata": {},
   "outputs": [],
   "source": [
    "def run_analysis(events):\n",
    "    events = get_obj_sel(events)\n",
    "    info = {\n",
    "        collection: {\n",
    "            flag : ak.count_nonzero(events[collection][flag])\n",
    "            for flag in [\"baseline\", \"passOR\", \"signal\"]\n",
    "        } for collection in [\"Electrons\", \"Muons\", \"Jets\"]\n",
    "    }\n",
    "    events[\"Muons\", \"m\"] = 105.6583715 # muon mass was not stored yet\n",
    "    leptons = ak.packed(\n",
    "        events[\n",
    "            [\"Electrons\", \"Muons\"],\n",
    "            [\"pt\", \"eta\", \"phi\", \"passOR\", \"signal\", \"baseline\", \"m\"]\n",
    "        ]\n",
    "    )\n",
    "    return {\"info\": info, \"leptons\": ak.to_arrow(leptons)}"
   ]
  },
  {
   "cell_type": "code",
   "execution_count": 141,
   "id": "6db3969a-3a01-44a0-b629-14c36db398ba",
   "metadata": {},
   "outputs": [
    {
     "name": "stderr",
     "output_type": "stream",
     "text": [
      "/srv/conda/envs/notebook/lib/python3.9/site-packages/awkward/_connect/_numpy.py:195: RuntimeWarning: divide by zero encountered in true_divide\n",
      "  result = getattr(ufunc, method)(\n"
     ]
    },
    {
     "name": "stdout",
     "output_type": "stream",
     "text": [
      "CPU times: user 1.75 s, sys: 112 ms, total: 1.86 s\n",
      "Wall time: 6.42 s\n"
     ]
    }
   ],
   "source": [
    "%%time\n",
    "with fsspec.open(url,\n",
    "                 cache_type=\"none\"\n",
    "                ) as f:\n",
    "    f = MonitoredFile(f)\n",
    "    events = Factory.from_parquet(f, row_groups=0).events\n",
    "    events = dunder_to_dot(events, \"Muons\")\n",
    "    res = run_analysis(events)\n",
    "    read_ranges = np.array(f.read_ranges)"
   ]
  },
  {
   "cell_type": "code",
   "execution_count": 173,
   "id": "03c99a5e-03b8-4ea9-bd58-8a2cc6fd7e12",
   "metadata": {},
   "outputs": [],
   "source": [
    "def plot_io(read_ranges):\n",
    "    h, e = np.histogram(read_ranges[:, 0], weights=read_ranges[:, 2], bins=10)\n",
    "    plt.stairs(h / (e[1:] - e[:-1]) * 1e9, e.astype(\"datetime64[ns]\"))\n",
    "    plt.xticks(rotation=45);\n",
    "    plt.ylabel(\"bytes per second\")"
   ]
  },
  {
   "cell_type": "code",
   "execution_count": 174,
   "id": "49bcb0b0-bcfd-47d5-800f-6a508ef7d650",
   "metadata": {},
   "outputs": [
    {
     "data": {
      "image/png": "[encoded data removed]",
      "text/plain": [
       "<Figure size 432x288 with 1 Axes>"
      ]
     },
     "metadata": {
      "needs_background": "light"
     },
     "output_type": "display_data"
    }
   ],
   "source": [
    "plot_io(read_ranges)"
   ]
  },
  {
   "cell_type": "code",
   "execution_count": 152,
   "id": "1053ecc5-c4ae-45fd-adc7-396e7e626fcc",
   "metadata": {},
   "outputs": [],
   "source": [
    "def get_num_row_groups(file):\n",
    "    from utils_new import get_signed_url\n",
    "    with fsspec.open(get_signed_url(file[\"scope\"], file[\"name\"], ca_cert=False), cache_type=\"none\") as f:\n",
    "        return pq.ParquetFile(f).num_row_groups"
   ]
  },
  {
   "cell_type": "markdown",
   "id": "766aea81-6112-4852-a1f3-45032b0dc5e3",
   "metadata": {},
   "source": [
    "Start cluster with [`manage_cluster.ipynb`](manage_cluster.ipynb)"
   ]
  },
  {
   "cell_type": "code",
   "execution_count": 155,
   "id": "813b181a-bae9-4f23-a5bf-136fafccce93",
   "metadata": {},
   "outputs": [
    {
     "data": {
      "text/plain": [
       "[ClusterReport<name=default.2f4428b821be4072bd8e9187e570b050, status=RUNNING>]"
      ]
     },
     "execution_count": 155,
     "metadata": {},
     "output_type": "execute_result"
    }
   ],
   "source": [
    "from dask_gateway import Gateway\n",
    "gateway = Gateway()\n",
    "clusters = gateway.list_clusters()\n",
    "clusters"
   ]
  },
  {
   "cell_type": "code",
   "execution_count": 156,
   "id": "e4edb8bd-8ab8-4b67-aa68-bddbedc94598",
   "metadata": {},
   "outputs": [],
   "source": [
    "cluster = gateway.connect(clusters[0].name)\n",
    "client = cluster.get_client()"
   ]
  },
  {
   "cell_type": "code",
   "execution_count": 157,
   "id": "f046da4a-266c-43df-b53f-5904ec4b6f24",
   "metadata": {},
   "outputs": [
    {
     "data": {
      "application/vnd.jupyter.widget-view+json": {
       "model_id": "c709d36d3f3e45b08e73f666e1175897",
       "version_major": 2,
       "version_minor": 0
      },
      "text/plain": [
       "VBox(children=(HTML(value='<h2>GatewayCluster</h2>'), HBox(children=(HTML(value='\\n<div>\\n<style scoped>\\n    …"
      ]
     },
     "metadata": {},
     "output_type": "display_data"
    }
   ],
   "source": [
    "cluster"
   ]
  },
  {
   "cell_type": "code",
   "execution_count": 160,
   "id": "10924ab0-3f6d-42d1-b607-c07b1bfcf431",
   "metadata": {},
   "outputs": [
    {
     "data": {
      "text/plain": [
       "{'tls://10.64.1.2:40983': {'status': 'OK'},\n",
       " 'tls://10.64.2.2:40393': {'status': 'OK'},\n",
       " 'tls://10.64.2.3:41613': {'status': 'OK'},\n",
       " 'tls://10.64.2.4:35861': {'status': 'OK'},\n",
       " 'tls://10.64.2.5:36021': {'status': 'OK'},\n",
       " 'tls://10.64.2.6:35521': {'status': 'OK'},\n",
       " 'tls://10.64.2.7:39521': {'status': 'OK'},\n",
       " 'tls://10.64.2.8:41563': {'status': 'OK'}}"
      ]
     },
     "execution_count": 160,
     "metadata": {},
     "output_type": "execute_result"
    }
   ],
   "source": [
    "from distributed.diagnostics.plugin import UploadFile\n",
    "client.register_worker_plugin(UploadFile(\"utils_new.py\"))\n",
    "client.register_worker_plugin(SetupRucioAndProxyWorker(os.environ[\"X509_USER_PROXY\"], rucio_account=RUCIO_ACCOUNT))"
   ]
  },
  {
   "cell_type": "code",
   "execution_count": 161,
   "id": "298e4411-46b4-4b17-a8f2-921b3acdcddb",
   "metadata": {},
   "outputs": [],
   "source": [
    "fut = client.submit(get_num_row_groups, files[0])"
   ]
  },
  {
   "cell_type": "code",
   "execution_count": 162,
   "id": "a3f9598a-2cda-4176-ab2d-f40b80353fe9",
   "metadata": {},
   "outputs": [
    {
     "data": {
      "text/plain": [
       "64"
      ]
     },
     "execution_count": 162,
     "metadata": {},
     "output_type": "execute_result"
    }
   ],
   "source": [
    "fut.result()"
   ]
  },
  {
   "cell_type": "code",
   "execution_count": 163,
   "id": "d1dade3d-af8b-448b-979a-7772213ee707",
   "metadata": {},
   "outputs": [],
   "source": [
    "if not Path(\"files.json\").exists():\n",
    "    futs = client.map(get_num_row_groups, files)\n",
    "    num_row_groups = client.gather(futs)\n",
    "    for file, file_rg in zip(files, num_row_groups):\n",
    "        file[\"num_row_groups\"] = file_rg\n",
    "    with open(\"files.json\", \"w\") as f:\n",
    "        json.dump(files, f)"
   ]
  },
  {
   "cell_type": "code",
   "execution_count": 164,
   "id": "c5de10cd-8a02-4d00-a768-59b2810c7f96",
   "metadata": {},
   "outputs": [],
   "source": [
    "with open(\"files.json\") as f:\n",
    "    files = json.load(f)"
   ]
  },
  {
   "cell_type": "markdown",
   "id": "97b585ee-e2aa-4d08-8f15-be60171bc9e6",
   "metadata": {},
   "source": [
    "Parallelize over files first, row groups second"
   ]
  },
  {
   "cell_type": "code",
   "execution_count": 165,
   "id": "db53584c-5f08-405d-8787-3be88df4d3e1",
   "metadata": {},
   "outputs": [],
   "source": [
    "job_params = []\n",
    "for file in files:\n",
    "    for i in range(file[\"num_row_groups\"]):\n",
    "        job_params.append((file, i))\n",
    "job_params = sorted(job_params, key=lambda x: x[1])"
   ]
  },
  {
   "cell_type": "code",
   "execution_count": 166,
   "id": "fdb9dfc2-18c9-45b5-84f0-b8eb47bdb85f",
   "metadata": {},
   "outputs": [
    {
     "data": {
      "text/plain": [
       "309723"
      ]
     },
     "execution_count": 166,
     "metadata": {},
     "output_type": "execute_result"
    }
   ],
   "source": [
    "len(job_params)"
   ]
  },
  {
   "cell_type": "code",
   "execution_count": 167,
   "id": "4275c4a0-c371-4992-9d13-ae56f9cb4926",
   "metadata": {},
   "outputs": [],
   "source": [
    "def job_url(file):\n",
    "    from utils_new import get_signed_url\n",
    "    return get_signed_url(file[\"scope\"], file[\"name\"], ca_cert=False)"
   ]
  },
  {
   "cell_type": "code",
   "execution_count": 221,
   "id": "9da1f750-0c49-4b9d-84ed-4b7250376aba",
   "metadata": {},
   "outputs": [],
   "source": [
    "def job(url, row_group):\n",
    "    start = time.time_ns()\n",
    "    with fsspec.open(url, cache_type=\"none\") as f:\n",
    "        f = MonitoredFile(f)\n",
    "        events = Factory.from_parquet(f, row_groups=row_group).events\n",
    "        events = dunder_to_dot(events, \"Muons\")\n",
    "        res = run_analysis(events)\n",
    "    stop = time.time_ns()\n",
    "    res[\"info\"][\"start\"] = start\n",
    "    res[\"info\"][\"stop\"] = stop\n",
    "    res[\"info\"][\"time\"] = stop - start\n",
    "    res[\"info\"][\"read_ranges\"] = np.array(f.read_ranges)\n",
    "    res[\"info\"][\"nevents\"] = len(events)\n",
    "    gc.collect()\n",
    "    return res"
   ]
  },
  {
   "cell_type": "code",
   "execution_count": 222,
   "id": "6cce57c2-94c2-42f9-9b7e-3f211a8e01fd",
   "metadata": {},
   "outputs": [],
   "source": [
    "fut_url = client.submit(job_url, files[0])\n",
    "fut = client.submit(job, fut_url, 0)"
   ]
  },
  {
   "cell_type": "code",
   "execution_count": 223,
   "id": "8cdbd7e2-ba54-40b0-aab3-3302178fb0ac",
   "metadata": {},
   "outputs": [],
   "source": [
    "res = fut.result()\n",
    "leptons = ak.from_arrow(res[\"leptons\"])\n",
    "info = res[\"info\"]"
   ]
  },
  {
   "cell_type": "code",
   "execution_count": 224,
   "id": "184ee1d9-53e3-41cd-aaee-d096c9f65a84",
   "metadata": {},
   "outputs": [
    {
     "data": {
      "image/png": "[encoded data removed]",
      "text/plain": [
       "<Figure size 432x288 with 1 Axes>"
      ]
     },
     "metadata": {
      "needs_background": "light"
     },
     "output_type": "display_data"
    }
   ],
   "source": [
    "plot_io(info[\"read_ranges\"])"
   ]
  },
  {
   "cell_type": "code",
   "execution_count": 225,
   "id": "12c8c857-a780-4d29-8677-7f0dcfc11562",
   "metadata": {},
   "outputs": [
    {
     "data": {
      "text/plain": [
       "1.1057125533832196e-05"
      ]
     },
     "execution_count": 225,
     "metadata": {},
     "output_type": "execute_result"
    }
   ],
   "source": [
    "info[\"nevents\"] / info[\"time\"]"
   ]
  },
  {
   "cell_type": "code",
   "execution_count": 208,
   "id": "a2104887-89b6-496e-98eb-a12d3426f027",
   "metadata": {},
   "outputs": [
    {
     "data": {
      "text/plain": [
       "<Array [[], [], [], [], ... [], [], [], []] type='65288 * option[var * float32]'>"
      ]
     },
     "execution_count": 208,
     "metadata": {},
     "output_type": "execute_result"
    }
   ],
   "source": [
    "leptons.Electrons.pt"
   ]
  },
  {
   "cell_type": "code",
   "execution_count": 302,
   "id": "d0653ac3-5a96-4265-a93a-24533b90b200",
   "metadata": {},
   "outputs": [],
   "source": [
    "futs = []\n",
    "futs_url = {}\n",
    "for file, row_group in job_params[:len(job_params) // 10]:\n",
    "    if file[\"name\"] not in futs_url:\n",
    "        futs_url[file[\"name\"]] = client.submit(job_url, file)\n",
    "    fut_url = futs_url[file[\"name\"]]\n",
    "    futs.append(client.submit(job, fut_url, row_group))"
   ]
  },
  {
   "cell_type": "code",
   "execution_count": 309,
   "id": "399af7af-6faf-4eac-80d8-c38251269202",
   "metadata": {},
   "outputs": [],
   "source": [
    "read_ranges = np.concatenate(client.gather(client.map(lambda x: x[\"info\"][\"read_ranges\"], futs)))"
   ]
  },
  {
   "cell_type": "code",
   "execution_count": 316,
   "id": "8818e77c-9777-455f-8125-f52694331b9b",
   "metadata": {},
   "outputs": [
    {
     "data": {
      "image/png": "[encoded data removed]",
      "text/plain": [
       "<Figure size 432x288 with 1 Axes>"
      ]
     },
     "metadata": {
      "needs_background": "light"
     },
     "output_type": "display_data"
    }
   ],
   "source": [
    "plot_io(read_ranges)\n",
    "#plt.savefig(\"bytes_per_second_parquet_10p_256cores.pdf\")"
   ]
  },
  {
   "cell_type": "code",
   "execution_count": 314,
   "id": "9df37ab3-ed8a-4f47-9c27-99d64994e066",
   "metadata": {},
   "outputs": [],
   "source": [
    "events_stat = np.array(client.gather(client.map(lambda x: (x[\"info\"][\"stop\"], x[\"info\"][\"nevents\"]), futs)))"
   ]
  },
  {
   "cell_type": "code",
   "execution_count": 319,
   "id": "0a847201-e184-42c2-8fb6-e95f60859b40",
   "metadata": {},
   "outputs": [
    {
     "data": {
      "text/plain": [
       "Text(0, 0.5, 'Events per second')"
      ]
     },
     "execution_count": 319,
     "metadata": {},
     "output_type": "execute_result"
    },
    {
     "data": {
      "image/png": "[encoded data removed]",
      "text/plain": [
       "<Figure size 432x288 with 1 Axes>"
      ]
     },
     "metadata": {
      "needs_background": "light"
     },
     "output_type": "display_data"
    }
   ],
   "source": [
    "h, e = np.histogram(events_stat[:, 0], weights=events_stat[:, 1], bins=10)\n",
    "plt.stairs(h / (e[1:] - e[:-1]) * 1e9, e.astype(\"datetime64[ns]\"))\n",
    "plt.xticks(rotation=45);\n",
    "plt.ylabel(\"Events per second\")\n",
    "#plt.savefig(\"events_pers_second_parquet_10p_256cores.pdf\")"
   ]
  },
  {
   "cell_type": "code",
   "execution_count": 320,
   "id": "7f1d49b5-3da8-42c4-9573-81189fe686b9",
   "metadata": {},
   "outputs": [],
   "source": [
    "def dilepton_mass(leptons):\n",
    "    import vector\n",
    "    vector.register_awkward()\n",
    "    leptons = ak.from_arrow(leptons)\n",
    "    leptons = ak.concatenate([leptons.Electrons, leptons.Muons], axis=1)\n",
    "    leptons[\"p4\"] = vector.awk(leptons[[\"pt\", \"eta\", \"phi\", \"m\"]])\n",
    "    lep1, lep2 = ak.unzip(ak.combinations(leptons.p4, 2))\n",
    "    return ak.flatten((lep1 + lep2).m).to_numpy()"
   ]
  },
  {
   "cell_type": "code",
   "execution_count": 321,
   "id": "d58f4bbc-7dfa-47bd-83d2-1d1696436b03",
   "metadata": {},
   "outputs": [
    {
     "data": {
      "text/plain": [
       "array([ 3134.70868481,  6957.97388927,  3131.97635851, ...,\n",
       "         267.28614915,  3190.52976524, 90632.47675608])"
      ]
     },
     "execution_count": 321,
     "metadata": {},
     "output_type": "execute_result"
    }
   ],
   "source": [
    "dilepton_mass(futs[0].result()[\"leptons\"])"
   ]
  },
  {
   "cell_type": "code",
   "execution_count": 322,
   "id": "cce14a10-7f35-4180-8de4-941b4ec55f7a",
   "metadata": {},
   "outputs": [],
   "source": [
    "lepton_futs = client.map(lambda res: res[\"leptons\"], futs)"
   ]
  },
  {
   "cell_type": "code",
   "execution_count": 323,
   "id": "21938738-3259-4c8d-aeb2-7859f12ada38",
   "metadata": {},
   "outputs": [],
   "source": [
    "mass_futs = client.map(dilepton_mass, lepton_futs)"
   ]
  },
  {
   "cell_type": "code",
   "execution_count": 324,
   "id": "45f234a0-7b06-49fa-bf50-da81bda5211e",
   "metadata": {},
   "outputs": [],
   "source": [
    "bins = np.geomspace(300, 150000, 500)"
   ]
  },
  {
   "cell_type": "code",
   "execution_count": 337,
   "id": "8bd62ecc-aca1-4474-936b-bd8813088017",
   "metadata": {},
   "outputs": [],
   "source": [
    "def histogram(mass):\n",
    "    hist, _ = np.histogram(mass, bins=bins)\n",
    "    return hist"
   ]
  },
  {
   "cell_type": "code",
   "execution_count": 338,
   "id": "d7d09b79-bf4a-4f9c-899e-6acbcde8b3d5",
   "metadata": {},
   "outputs": [
    {
     "data": {
      "text/plain": [
       "array([ 3134.70868481,  6957.97388927,  3131.97635851, ...,\n",
       "         267.28614915,  3190.52976524, 90632.47675608])"
      ]
     },
     "execution_count": 338,
     "metadata": {},
     "output_type": "execute_result"
    }
   ],
   "source": [
    "mass_futs[0].result()"
   ]
  },
  {
   "cell_type": "code",
   "execution_count": 339,
   "id": "567777f0-7497-4607-afe8-dc79593517a6",
   "metadata": {},
   "outputs": [],
   "source": [
    "#[fut for fut in futs if not fut.status == \"finished\"][0].retry()"
   ]
  },
  {
   "cell_type": "code",
   "execution_count": 341,
   "id": "75eeea2f-9828-46bd-9a0b-2aa331ec4a7d",
   "metadata": {},
   "outputs": [],
   "source": [
    "hist = sum(client.gather(client.map(histogram, mass_futs)))"
   ]
  },
  {
   "cell_type": "code",
   "execution_count": 346,
   "id": "7778d4c7-3e80-4b0c-ab3b-31dbdb68f4ce",
   "metadata": {},
   "outputs": [
    {
     "data": {
      "image/png": "[encoded data removed]",
      "text/plain": [
       "<Figure size 432x288 with 1 Axes>"
      ]
     },
     "metadata": {
      "needs_background": "light"
     },
     "output_type": "display_data"
    }
   ],
   "source": [
    "plt.stairs(hist, bins, fill=True)\n",
    "plt.xscale(\"log\")\n",
    "plt.yscale(\"log\")"
   ]
  },
  {
   "cell_type": "code",
   "execution_count": 348,
   "id": "a096114d-25cb-4052-a1f1-669597d3b463",
   "metadata": {},
   "outputs": [],
   "source": [
    "cluster.shutdown()"
   ]
  }
 ],
 "metadata": {
  "kernelspec": {
   "display_name": "Python 3 (ipykernel)",
   "language": "python",
   "name": "python3"
  },
  "language_info": {
   "codemirror_mode": {
    "name": "ipython",
    "version": 3
   },
   "file_extension": ".py",
   "mimetype": "text/x-python",
   "name": "python",
   "nbconvert_exporter": "python",
   "pygments_lexer": "ipython3",
   "version": "3.9.10"
  }
 },
 "nbformat": 4,
 "nbformat_minor": 5
}
