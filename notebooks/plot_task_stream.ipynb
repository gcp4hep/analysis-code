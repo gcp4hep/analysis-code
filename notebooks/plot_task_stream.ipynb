{
 "cells": [
  {
   "cell_type": "code",
   "execution_count": 22,
   "metadata": {},
   "outputs": [],
   "source": [
    "from dask_gateway import Gateway\n",
    "\n",
    "gateway = Gateway()\n",
    "clusters = gateway.list_clusters()"
   ]
  },
  {
   "cell_type": "code",
   "execution_count": 2,
   "metadata": {},
   "outputs": [
    {
     "data": {
      "text/plain": [
       "[ClusterReport<name=default.f493bf0b36d743769f703d30d1327562, status=RUNNING>]"
      ]
     },
     "execution_count": 2,
     "metadata": {},
     "output_type": "execute_result"
    }
   ],
   "source": [
    "clusters"
   ]
  },
  {
   "cell_type": "code",
   "execution_count": 3,
   "metadata": {},
   "outputs": [],
   "source": [
    "cluster = gateway.connect(clusters[0].name)"
   ]
  },
  {
   "cell_type": "code",
   "execution_count": 4,
   "metadata": {},
   "outputs": [],
   "source": [
    "client = cluster.get_client()"
   ]
  },
  {
   "cell_type": "code",
   "execution_count": 5,
   "metadata": {},
   "outputs": [
    {
     "data": {
      "text/plain": [
       "{'worker': 'tls://10.64.3.2:37747',\n",
       " 'status': 'OK',\n",
       " 'nbytes': 751119,\n",
       " 'thread': 139846210082560,\n",
       " 'type': b'\\x80\\x04\\x95\\x16\\x00\\x00\\x00\\x00\\x00\\x00\\x00\\x8c\\x08builtins\\x94\\x8c\\x05tuple\\x94\\x93\\x94.',\n",
       " 'typename': 'builtins.tuple',\n",
       " 'metadata': {},\n",
       " 'startstops': ({'action': 'deserialize',\n",
       "   'start': 1626180378.592766,\n",
       "   'stop': 1626180379.1841636},\n",
       "  {'action': 'compute',\n",
       "   'start': 1626180379.200714,\n",
       "   'stop': 1626180393.1571658}),\n",
       " 'key': 'run_task-6fb7a0de3d2171636d386dedcf8b8e87'}"
      ]
     },
     "execution_count": 5,
     "metadata": {},
     "output_type": "execute_result"
    }
   ],
   "source": [
    "client.get_task_stream()[0]"
   ]
  },
  {
   "cell_type": "code",
   "execution_count": 16,
   "metadata": {},
   "outputs": [],
   "source": [
    "ts = client.get_task_stream()"
   ]
  },
  {
   "cell_type": "code",
   "execution_count": 17,
   "metadata": {},
   "outputs": [
    {
     "data": {
      "text/plain": [
       "35952"
      ]
     },
     "execution_count": 17,
     "metadata": {},
     "output_type": "execute_result"
    }
   ],
   "source": [
    "len(ts)"
   ]
  },
  {
   "cell_type": "markdown",
   "metadata": {},
   "source": [
    "Alternative to plot from json task stream:"
   ]
  },
  {
   "cell_type": "code",
   "execution_count": 18,
   "metadata": {},
   "outputs": [],
   "source": [
    "from distributed.dashboard.components.scheduler import task_stream_figure\n",
    "from distributed.diagnostics.task_stream import rectangles\n",
    "from bokeh.plotting import show, output_file, save\n",
    "from bokeh.io import output_notebook"
   ]
  },
  {
   "cell_type": "code",
   "execution_count": 21,
   "metadata": {},
   "outputs": [
    {
     "data": {
      "text/plain": [
       "'/home/jovyan/analysis-code/notebooks/test.html'"
      ]
     },
     "execution_count": 21,
     "metadata": {},
     "output_type": "execute_result"
    }
   ],
   "source": [
    "filename = \"test.html\"\n",
    "last = max([t[\"startstops\"][0][\"stop\"] for t in ts])\n",
    "rects = rectangles([t for t in ts if t[\"startstops\"][0][\"start\"] > last - 1500])\n",
    "#rects = rectangles(ts)\n",
    "source, figure = task_stream_figure(sizing_mode=\"stretch_both\", min_height=500)\n",
    "source.data.update(rects)\n",
    "output_file(filename=filename, title=\"Dask Task Stream\")\n",
    "save(figure, filename=filename)"
   ]
  }
 ],
 "metadata": {
  "kernelspec": {
   "display_name": "Python 3 (ipykernel)",
   "language": "python",
   "name": "python3"
  },
  "language_info": {
   "codemirror_mode": {
    "name": "ipython",
    "version": 3
   },
   "file_extension": ".py",
   "mimetype": "text/x-python",
   "name": "python",
   "nbconvert_exporter": "python",
   "pygments_lexer": "ipython3",
   "version": "3.8.10"
  }
 },
 "nbformat": 4,
 "nbformat_minor": 4
}
