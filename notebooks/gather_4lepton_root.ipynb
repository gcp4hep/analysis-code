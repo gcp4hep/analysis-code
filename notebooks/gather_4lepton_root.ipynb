{
 "cells": [
  {
   "cell_type": "code",
   "execution_count": 1,
   "metadata": {},
   "outputs": [],
   "source": [
    "%run utils.py"
   ]
  },
  {
   "cell_type": "code",
   "execution_count": 2,
   "metadata": {},
   "outputs": [
    {
     "data": {
      "application/vnd.jupyter.widget-view+json": {
       "model_id": "8c78b1d2ff49474180ea4832b519c64b",
       "version_major": 2,
       "version_minor": 0
      },
      "text/plain": [
       "FileUpload(value={}, description='Upload')"
      ]
     },
     "metadata": {},
     "output_type": "display_data"
    }
   ],
   "source": [
    "from ipywidgets import FileUpload\n",
    "upload = FileUpload()\n",
    "upload"
   ]
  },
  {
   "cell_type": "code",
   "execution_count": 3,
   "metadata": {},
   "outputs": [],
   "source": [
    "setup_rucio_and_proxy(upload.data[-1])"
   ]
  },
  {
   "cell_type": "code",
   "execution_count": 4,
   "metadata": {},
   "outputs": [],
   "source": [
    "from functools import partial\n",
    "import dask\n",
    "from dask import delayed\n",
    "import rucio.client\n",
    "import awkward as ak\n",
    "import numpy as np\n",
    "import matplotlib.pyplot as plt\n",
    "import uproot\n",
    "import numba\n",
    "import vector\n",
    "from tqdm.auto import tqdm\n",
    "from dask.distributed import futures_of\n",
    "from physlite_experiments.physlite_events import physlite_events\n",
    "from physlite_experiments.io import AIOHTTPSource"
   ]
  },
  {
   "cell_type": "code",
   "execution_count": 6,
   "metadata": {},
   "outputs": [
    {
     "name": "stderr",
     "output_type": "stream",
     "text": [
      "/srv/conda/envs/notebook/lib/python3.9/site-packages/urllib3/connectionpool.py:1013: InsecureRequestWarning: Unverified HTTPS request is being made to host 'voatlasrucio-auth-prod.cern.ch'. Adding certificate verification is strongly advised. See: https://urllib3.readthedocs.io/en/latest/advanced-usage.html#ssl-warnings\n",
      "  warnings.warn(\n"
     ]
    }
   ],
   "source": [
    "rucio_client = rucio.client.Client(ca_cert=False)"
   ]
  },
  {
   "cell_type": "code",
   "execution_count": 7,
   "metadata": {},
   "outputs": [],
   "source": [
    "#files = list(rucio_client.list_files(\"data17_13TeV\", \"data17_13TeV.periodK.physics_Main.PhysCont.DAOD_PHYSLITE.grp17_v01_p4309\"))"
   ]
  },
  {
   "cell_type": "code",
   "execution_count": 8,
   "metadata": {},
   "outputs": [
    {
     "name": "stderr",
     "output_type": "stream",
     "text": [
      "/srv/conda/envs/notebook/lib/python3.9/site-packages/urllib3/connectionpool.py:1013: InsecureRequestWarning: Unverified HTTPS request is being made to host 'voatlasrucio-server-prod.cern.ch'. Adding certificate verification is strongly advised. See: https://urllib3.readthedocs.io/en/latest/advanced-usage.html#ssl-warnings\n",
      "  warnings.warn(\n"
     ]
    },
    {
     "data": {
      "application/vnd.jupyter.widget-view+json": {
       "model_id": "3e050f6e80df46fbb906972fcedf050f",
       "version_major": 2,
       "version_minor": 0
      },
      "text/plain": [
       "0it [00:00, ?it/s]"
      ]
     },
     "metadata": {},
     "output_type": "display_data"
    }
   ],
   "source": [
    "files = []\n",
    "for file in tqdm(rucio_client.list_files(\n",
    "    \"user.nihartma\",\n",
    "    \"user.nihartma.data_13TeV.all.DAOD_PHYSLITE.grp15_v01_p4309\"\n",
    ")):\n",
    "    files.append(file)"
   ]
  },
  {
   "cell_type": "code",
   "execution_count": 9,
   "metadata": {},
   "outputs": [],
   "source": [
    "import os"
   ]
  },
  {
   "cell_type": "code",
   "execution_count": 10,
   "metadata": {},
   "outputs": [
    {
     "data": {
      "text/plain": [
       "['X509_USER_PROXY']"
      ]
     },
     "execution_count": 10,
     "metadata": {},
     "output_type": "execute_result"
    }
   ],
   "source": [
    "[k for k in os.environ if \"x509\" in k.lower()]"
   ]
  },
  {
   "cell_type": "code",
   "execution_count": 11,
   "metadata": {},
   "outputs": [
    {
     "data": {
      "text/plain": [
       "'eu.gcr.io/gke-dev-311213/jupyter-physlite:preprod'"
      ]
     },
     "execution_count": 11,
     "metadata": {},
     "output_type": "execute_result"
    }
   ],
   "source": [
    "os.environ[\"JUPYTER_IMAGE\"]"
   ]
  },
  {
   "cell_type": "code",
   "execution_count": 12,
   "metadata": {},
   "outputs": [],
   "source": [
    "class Source(AIOHTTPSource):\n",
    "    def __init__(self, *args, **kwargs):\n",
    "        super().__init__(*args, tcp_connection_limit=100, **kwargs)"
   ]
  },
  {
   "cell_type": "code",
   "execution_count": 15,
   "metadata": {},
   "outputs": [],
   "source": [
    "def get_4leptons(url):\n",
    "    with uproot.open(url, http_handler=Source) as f:\n",
    "        tree = f[\"CollectionTree\"]\n",
    "        events = physlite_events(tree)\n",
    "        print(len(events))\n",
    "        array = ak.zip(\n",
    "            {\n",
    "                \"Electrons\": ak.zip(\n",
    "                    {\n",
    "                        \"p4\": ak.zip({k: events.Electrons[k] for k in [\"pt\", \"eta\", \"phi\", \"m\"]}),\n",
    "                        \"charge\": events.Electrons[\"charge\"]\n",
    "                    }\n",
    "                ),\n",
    "                \"Muons\": ak.zip(\n",
    "                    {\n",
    "                        \"p4\": ak.zip({k: events.Muons[k] for k in [\"pt\", \"eta\", \"phi\"]}),\n",
    "                        \"charge\": events.Muons[\"charge\"]\n",
    "                    }\n",
    "                )\n",
    "            },\n",
    "            depth_limit=1\n",
    "        )\n",
    "        array[\"Muons\", \"p4\", \"m\"] = 105.6583715\n",
    "        array = array[\n",
    "            ((ak.num(array.Electrons) >= 2) & (ak.num(array.Muons) >= 2))\n",
    "            | (ak.num(array.Electrons) >= 4)\n",
    "            | (ak.num(array.Muons) >= 4)\n",
    "        ]\n",
    "        return ak.to_arrow(array)"
   ]
  },
  {
   "cell_type": "code",
   "execution_count": 16,
   "metadata": {},
   "outputs": [],
   "source": [
    "def get_p4(url):\n",
    "    with uproot.open(url, http_handler=Source) as f:\n",
    "        tree = f[\"CollectionTree\"]\n",
    "        events = physlite_events(tree)\n",
    "        print(len(events))\n",
    "        p4 = ak.zip({k: events.Muons[k] for k in [\"pt\", \"eta\", \"phi\", \"charge\"]}, with_name=\"PtEtaPhiMLorentzVector\")\n",
    "        p4[\"mass\"] = 105.6583715\n",
    "        p4 = p4[ak.num(p4) >= 4]\n",
    "        return ak.to_arrow(p4)"
   ]
  },
  {
   "cell_type": "code",
   "execution_count": 17,
   "metadata": {},
   "outputs": [],
   "source": [
    "def get_m4mu(url):\n",
    "    p4 = ak.with_name(ak.from_arrow(get_p4(url)), \"PtEtaPhiMLorentzVector\")\n",
    "    combinations = ak.unzip(ak.combinations(p4, 4))\n",
    "    charge_sum = ak.sum(ak.concatenate(combinations, axis=1).charge, axis=1)\n",
    "    combinations = [c[charge_sum == 0] for c in combinations]\n",
    "    return ak.to_numpy(ak.flatten(sum(combinations[1:], combinations[0]).mass))"
   ]
  },
  {
   "cell_type": "code",
   "execution_count": 18,
   "metadata": {},
   "outputs": [],
   "source": [
    "def get_m4mu(url):\n",
    "    with uproot.open(url, http_handler=Source) as f:\n",
    "        tree = f[\"CollectionTree\"]\n",
    "        events = physlite_events(tree)\n",
    "        p4 = ak.zip({k: events.Muons[k] for k in [\"pt\", \"eta\", \"phi\"]}, with_name=\"PtEtaPhiMLorentzVector\")\n",
    "        p4[\"mass\"] = 105.6583715\n",
    "        combinations = ak.unzip(ak.combinations(p4, 4))\n",
    "        return ak.to_numpy(ak.flatten(sum(combinations[1:], combinations[0]).mass))"
   ]
  },
  {
   "cell_type": "code",
   "execution_count": 19,
   "metadata": {},
   "outputs": [
    {
     "name": "stderr",
     "output_type": "stream",
     "text": [
      "/srv/conda/envs/notebook/lib/python3.9/site-packages/urllib3/connectionpool.py:1013: InsecureRequestWarning: Unverified HTTPS request is being made to host 'voatlasrucio-server-prod.cern.ch'. Adding certificate verification is strongly advised. See: https://urllib3.readthedocs.io/en/latest/advanced-usage.html#ssl-warnings\n",
      "  warnings.warn(\n"
     ]
    }
   ],
   "source": [
    "url = get_signed_url(rucio_client, files[0][\"scope\"], files[0][\"name\"])"
   ]
  },
  {
   "cell_type": "code",
   "execution_count": 20,
   "metadata": {},
   "outputs": [
    {
     "name": "stdout",
     "output_type": "stream",
     "text": [
      "Skipping EventInfoAuxDyn.streamTagRobs\n",
      "Skipping EventInfoAuxDyn.streamTagDets\n",
      "Can't interpret PrimaryVerticesAuxDyn.neutralParticleLinks\n",
      "Skipping AnalysisHLT_tau35_medium1_tracktwoEF_tau25_medium1_tracktwoEF_03dR30_L1DR-TAU20ITAU12I-J25AuxDyn.TrigMatchedObjects\n",
      "Skipping AnalysisHLT_tau35_medium1_tracktwoEF_tau25_medium1_tracktwoEF_L1DR-TAU20ITAU12I-J25AuxDyn.TrigMatchedObjects\n",
      "Skipping AnalysisHLT_tau35_medium1_tracktwo_tau25_medium1_tracktwo_03dR30_L1DR-TAU20ITAU12I-J25AuxDyn.TrigMatchedObjects\n",
      "Skipping AnalysisHLT_tau35_medium1_tracktwo_tau25_medium1_tracktwo_L1DR-TAU20ITAU12I-J25AuxDyn.TrigMatchedObjects\n",
      "Skipping AnalysisHLT_tau35_medium1_tracktwo_tau25_medium1_tracktwo_tautsf_L1DR-TAU20ITAU12I-J25AuxDyn.TrigMatchedObjects\n",
      "Skipping AnalysisHLT_mu14_ivarloose_tau25_medium1_tracktwoEF_L1DR-MU10TAU12I_TAU12I-J25AuxDyn.TrigMatchedObjects\n",
      "Skipping AnalysisHLT_mu14_ivarloose_tau25_medium1_tracktwo_L1DR-MU10TAU12I_TAU12I-J25AuxDyn.TrigMatchedObjects\n",
      "Skipping AnalysisHLT_mu14_ivarloose_tau25_mediumRNN_tracktwoMVA_L1DR-MU10TAU12I_TAU12I-J25AuxDyn.TrigMatchedObjects\n",
      "Skipping AnalysisHLT_e17_lhmedium_nod0_ivarloose_tau25_medium1_tracktwoEF_L1DR-EM15TAU12I-J25AuxDyn.TrigMatchedObjects\n",
      "Skipping AnalysisHLT_e17_lhmedium_nod0_ivarloose_tau25_medium1_tracktwo_L1DR-EM15TAU12I-J25AuxDyn.TrigMatchedObjects\n",
      "Skipping AnalysisHLT_e17_lhmedium_nod0_ivarloose_tau25_mediumRNN_tracktwoMVA_L1DR-EM15TAU12I-J25AuxDyn.TrigMatchedObjects\n",
      "Skipping AnalysisHLT_tau35_mediumRNN_tracktwoMVA_tau25_mediumRNN_tracktwoMVA_03dR30_L1DR-TAU20ITAU12I-J25AuxDyn.TrigMatchedObjects\n",
      "Skipping AnalysisHLT_tau35_mediumRNN_tracktwoMVA_tau25_mediumRNN_tracktwoMVA_L1DR-TAU20ITAU12I-J25AuxDyn.TrigMatchedObjects\n",
      "Skipping AnalysisHLT_tau80_medium1_tracktwoEF_L1TAU60_tau35_medium1_tracktwoEF_L1TAU12IM_L1TAU60_DR-TAU20ITAU12IAuxDyn.TrigMatchedObjects\n",
      "Skipping AnalysisHLT_tau80_medium1_tracktwo_L1TAU60_tau35_medium1_tracktwo_L1TAU12IM_L1TAU60_DR-TAU20ITAU12IAuxDyn.TrigMatchedObjects\n",
      "Skipping AnalysisHLT_tau80_mediumRNN_tracktwoMVA_L1TAU60_tau35_mediumRNN_tracktwoMVA_L1TAU12IM_L1TAU60_DR-TAU20ITAU12IAuxDyn.TrigMatchedObjects\n",
      "56242\n",
      "CPU times: user 2.79 s, sys: 53.3 ms, total: 2.85 s\n",
      "Wall time: 4.29 s\n"
     ]
    }
   ],
   "source": [
    "%%time\n",
    "array = ak.from_arrow(get_4leptons(url))"
   ]
  },
  {
   "cell_type": "code",
   "execution_count": 21,
   "metadata": {},
   "outputs": [
    {
     "data": {
      "text/plain": [
       "496"
      ]
     },
     "execution_count": 21,
     "metadata": {},
     "output_type": "execute_result"
    }
   ],
   "source": [
    "array.nbytes"
   ]
  },
  {
   "cell_type": "code",
   "execution_count": 22,
   "metadata": {},
   "outputs": [
    {
     "name": "stderr",
     "output_type": "stream",
     "text": [
      "/srv/conda/envs/notebook/lib/python3.9/site-packages/dask_gateway/client.py:21: FutureWarning: format_bytes is deprecated and will be removed in a future release. Please use dask.utils.format_bytes instead.\n",
      "  from distributed.utils import LoopRunner, format_bytes\n"
     ]
    }
   ],
   "source": [
    "from dask_gateway import GatewayCluster\n",
    "cluster = GatewayCluster(\n",
    "    worker_cores=1,\n",
    "    worker_memory=3.5,\n",
    "    #image=\"eu.gcr.io/gke-dev-311213/dask-gateway-physlite:20210622\"\n",
    "    #image=\"eu.gcr.io/gke-dev-311213/jupyter-physlite:20210622\"\n",
    "    #image=\"eu.gcr.io/gke-dev-311213/jupyter-physlite:20210709\"\n",
    "    image=os.environ[\"JUPYTER_IMAGE\"]\n",
    ")"
   ]
  },
  {
   "cell_type": "code",
   "execution_count": 23,
   "metadata": {},
   "outputs": [
    {
     "data": {
      "application/vnd.jupyter.widget-view+json": {
       "model_id": "e0a132d44b25477b9614a9aa2aaa2fae",
       "version_major": 2,
       "version_minor": 0
      },
      "text/plain": [
       "VBox(children=(HTML(value='<h2>GatewayCluster</h2>'), HBox(children=(HTML(value='\\n<div>\\n<style scoped>\\n    …"
      ]
     },
     "metadata": {},
     "output_type": "display_data"
    }
   ],
   "source": [
    "cluster"
   ]
  },
  {
   "cell_type": "code",
   "execution_count": 78,
   "metadata": {},
   "outputs": [],
   "source": [
    "cluster.shutdown()"
   ]
  },
  {
   "cell_type": "code",
   "execution_count": 26,
   "metadata": {},
   "outputs": [],
   "source": [
    "client = cluster.get_client()"
   ]
  },
  {
   "cell_type": "code",
   "execution_count": 50,
   "metadata": {},
   "outputs": [],
   "source": [
    "cluster.scale(720)\n",
    "#cluster.scale(16)"
   ]
  },
  {
   "cell_type": "code",
   "execution_count": 51,
   "metadata": {},
   "outputs": [
    {
     "data": {
      "text/html": [
       "<div>\n",
       "    <div style=\"width: 24px; height: 24px; background-color: #e1e1e1; border: 3px solid #9D9D9D; border-radius: 5px; position: absolute;\"> </div>\n",
       "    <div style=\"margin-left: 48px;\">\n",
       "        <h3 style=\"margin-bottom: 0px;\">Client</h3>\n",
       "        <p style=\"color: #9D9D9D; margin-bottom: 0px;\">Client-137205d1-cb10-11ec-8028-0eafd2132203</p>\n",
       "        <table style=\"width: 100%; text-align: left;\">\n",
       "\n",
       "        <tr>\n",
       "        \n",
       "            <td style=\"text-align: left;\"><strong>Connection method:</strong> Cluster object</td>\n",
       "            <td style=\"text-align: left;\"><strong>Cluster type:</strong> dask_gateway.GatewayCluster</td>\n",
       "        \n",
       "        </tr>\n",
       "\n",
       "        \n",
       "            <tr>\n",
       "                <td style=\"text-align: left;\">\n",
       "                    <strong>Dashboard: </strong> <a href=\"/services/dask-gateway/clusters/default.f57301bfcf744b4d8711c8c7a0cef6fe/status\" target=\"_blank\">/services/dask-gateway/clusters/default.f57301bfcf744b4d8711c8c7a0cef6fe/status</a>\n",
       "                </td>\n",
       "                <td style=\"text-align: left;\"></td>\n",
       "            </tr>\n",
       "        \n",
       "\n",
       "        </table>\n",
       "\n",
       "        \n",
       "            <details>\n",
       "            <summary style=\"margin-bottom: 20px;\"><h3 style=\"display: inline;\">Cluster Info</h3></summary>\n",
       "            <div style='background-color: #f2f2f2; display: inline-block; padding: 10px; border: 1px solid #999999;'>\n",
       "  <h3>GatewayCluster</h3>\n",
       "  <ul>\n",
       "    <li><b>Name: </b>default.f57301bfcf744b4d8711c8c7a0cef6fe\n",
       "    <li><b>Dashboard: </b><a href='/services/dask-gateway/clusters/default.f57301bfcf744b4d8711c8c7a0cef6fe/status' target='_blank'>/services/dask-gateway/clusters/default.f57301bfcf744b4d8711c8c7a0cef6fe/status</a>\n",
       "  </ul>\n",
       "</div>\n",
       "\n",
       "            </details>\n",
       "        \n",
       "\n",
       "    </div>\n",
       "</div>"
      ],
      "text/plain": [
       "<Client: 'tls://10.64.1.119:8786' processes=0 threads=0, memory=0 B>"
      ]
     },
     "execution_count": 51,
     "metadata": {},
     "output_type": "execute_result"
    }
   ],
   "source": [
    "client.restart()"
   ]
  },
  {
   "cell_type": "code",
   "execution_count": 52,
   "metadata": {},
   "outputs": [
    {
     "data": {
      "text/plain": [
       "264076"
      ]
     },
     "execution_count": 52,
     "metadata": {},
     "output_type": "execute_result"
    }
   ],
   "source": [
    "len(files)"
   ]
  },
  {
   "cell_type": "code",
   "execution_count": 53,
   "metadata": {},
   "outputs": [],
   "source": [
    "def merge(arrow_list):\n",
    "    return ak.concatenate(ak.from_arrow(x) for x in arrow_list)"
   ]
  },
  {
   "cell_type": "code",
   "execution_count": 54,
   "metadata": {},
   "outputs": [],
   "source": [
    "x509_data = upload.data[-1]"
   ]
  },
  {
   "cell_type": "code",
   "execution_count": 55,
   "metadata": {},
   "outputs": [],
   "source": [
    "def run_task(x509_data, scope, name):\n",
    "    url = get_signed_url_worker(\n",
    "        x509_data,\n",
    "        scope,\n",
    "        name,\n",
    "        rucio_account=\"nihartma\",\n",
    "        rucio_home=\"/srv/conda/envs/notebook\",\n",
    "        ca_cert=False,\n",
    "    )\n",
    "    return get_4leptons(url)"
   ]
  },
  {
   "cell_type": "code",
   "execution_count": 58,
   "metadata": {},
   "outputs": [],
   "source": [
    "fut_x509_data = client.scatter(x509_data, broadcast=True)"
   ]
  },
  {
   "cell_type": "code",
   "execution_count": null,
   "metadata": {
    "tags": []
   },
   "outputs": [],
   "source": [
    "client.who_has(fut_x509_data)"
   ]
  },
  {
   "cell_type": "code",
   "execution_count": 60,
   "metadata": {},
   "outputs": [
    {
     "data": {
      "application/vnd.jupyter.widget-view+json": {
       "model_id": "79b79b98276d435bb10217849ad290d8",
       "version_major": 2,
       "version_minor": 0
      },
      "text/plain": [
       "  0%|          | 0/264076 [00:00<?, ?it/s]"
      ]
     },
     "metadata": {},
     "output_type": "display_data"
    }
   ],
   "source": [
    "tasks = []\n",
    "sub_tasks = []\n",
    "n_sub = 100\n",
    "for file in tqdm(files):\n",
    "    sub_tasks.append(client.submit(run_task, fut_x509_data, file[\"scope\"], file[\"name\"]))\n",
    "    if len(sub_tasks) >= n_sub:\n",
    "        tasks.append(client.submit(merge, sub_tasks))\n",
    "        sub_tasks = []"
   ]
  },
  {
   "cell_type": "code",
   "execution_count": 65,
   "metadata": {},
   "outputs": [
    {
     "data": {
      "text/plain": [
       "2640"
      ]
     },
     "execution_count": 65,
     "metadata": {},
     "output_type": "execute_result"
    }
   ],
   "source": [
    "len(tasks)"
   ]
  },
  {
   "cell_type": "code",
   "execution_count": 70,
   "metadata": {},
   "outputs": [
    {
     "data": {
      "text/plain": [
       "2630"
      ]
     },
     "execution_count": 70,
     "metadata": {},
     "output_type": "execute_result"
    }
   ],
   "source": [
    "len([fut for fut in tasks if fut.status == \"finished\"])"
   ]
  },
  {
   "cell_type": "code",
   "execution_count": 71,
   "metadata": {},
   "outputs": [
    {
     "data": {
      "text/plain": [
       "<Array [{Electrons: [], ... Muons: []}] type='2173 * {\"Electrons\": var * {\"p4\": ...'>"
      ]
     },
     "execution_count": 71,
     "metadata": {},
     "output_type": "execute_result"
    }
   ],
   "source": [
    "tasks[0].result()"
   ]
  },
  {
   "cell_type": "code",
   "execution_count": 72,
   "metadata": {},
   "outputs": [
    {
     "data": {
      "text/plain": [
       "241300"
      ]
     },
     "execution_count": 72,
     "metadata": {},
     "output_type": "execute_result"
    }
   ],
   "source": [
    "tasks[0].result().nbytes"
   ]
  },
  {
   "cell_type": "code",
   "execution_count": 73,
   "metadata": {},
   "outputs": [],
   "source": [
    "p4_results = client.gather([fut for fut in tasks if fut.status == \"finished\"])"
   ]
  },
  {
   "cell_type": "code",
   "execution_count": 74,
   "metadata": {},
   "outputs": [
    {
     "data": {
      "text/plain": [
       "2630"
      ]
     },
     "execution_count": 74,
     "metadata": {},
     "output_type": "execute_result"
    }
   ],
   "source": [
    "len(p4_results)"
   ]
  },
  {
   "cell_type": "code",
   "execution_count": 75,
   "metadata": {},
   "outputs": [],
   "source": [
    "p4_ak = ak.concatenate(p4_results)"
   ]
  },
  {
   "cell_type": "code",
   "execution_count": 76,
   "metadata": {},
   "outputs": [
    {
     "data": {
      "text/plain": [
       "362.04543685913086"
      ]
     },
     "execution_count": 76,
     "metadata": {},
     "output_type": "execute_result"
    }
   ],
   "source": [
    "p4_ak.nbytes / 1024 / 1024"
   ]
  },
  {
   "cell_type": "code",
   "execution_count": 77,
   "metadata": {},
   "outputs": [],
   "source": [
    "ak.to_parquet(p4_ak, \"leptons_100percent.parquet\")"
   ]
  }
 ],
 "metadata": {
  "kernelspec": {
   "display_name": "Python 3 (ipykernel)",
   "language": "python",
   "name": "python3"
  },
  "language_info": {
   "codemirror_mode": {
    "name": "ipython",
    "version": 3
   },
   "file_extension": ".py",
   "mimetype": "text/x-python",
   "name": "python",
   "nbconvert_exporter": "python",
   "pygments_lexer": "ipython3",
   "version": "3.9.10"
  }
 },
 "nbformat": 4,
 "nbformat_minor": 4
}
