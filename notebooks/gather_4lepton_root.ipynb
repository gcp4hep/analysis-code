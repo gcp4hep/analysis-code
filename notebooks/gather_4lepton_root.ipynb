{
 "cells": [
  {
   "cell_type": "code",
   "execution_count": 1,
   "metadata": {},
   "outputs": [],
   "source": [
    "%run utils.py"
   ]
  },
  {
   "cell_type": "code",
   "execution_count": 2,
   "metadata": {},
   "outputs": [
    {
     "data": {
      "application/vnd.jupyter.widget-view+json": {
       "model_id": "e1d8322e925c456d8eadc4b47473918d",
       "version_major": 2,
       "version_minor": 0
      },
      "text/plain": [
       "FileUpload(value={}, description='Upload')"
      ]
     },
     "metadata": {},
     "output_type": "display_data"
    }
   ],
   "source": [
    "from ipywidgets import FileUpload\n",
    "upload = FileUpload()\n",
    "upload"
   ]
  },
  {
   "cell_type": "code",
   "execution_count": 3,
   "metadata": {},
   "outputs": [],
   "source": [
    "setup_rucio_and_proxy(upload.data[-1])"
   ]
  },
  {
   "cell_type": "code",
   "execution_count": 4,
   "metadata": {},
   "outputs": [],
   "source": [
    "from functools import partial\n",
    "import dask\n",
    "from dask import delayed\n",
    "import rucio.client\n",
    "import awkward as ak\n",
    "import numpy as np\n",
    "import matplotlib.pyplot as plt\n",
    "import uproot\n",
    "import numba\n",
    "import vector\n",
    "from tqdm.auto import tqdm\n",
    "from dask.distributed import futures_of\n",
    "from physlite_experiments.physlite_events import physlite_events\n",
    "from physlite_experiments.io import AIOHTTPSource"
   ]
  },
  {
   "cell_type": "code",
   "execution_count": 5,
   "metadata": {},
   "outputs": [],
   "source": [
    "rucio_client = rucio.client.Client()"
   ]
  },
  {
   "cell_type": "code",
   "execution_count": 6,
   "metadata": {},
   "outputs": [],
   "source": [
    "#files = list(rucio_client.list_files(\"data17_13TeV\", \"data17_13TeV.periodK.physics_Main.PhysCont.DAOD_PHYSLITE.grp17_v01_p4309\"))"
   ]
  },
  {
   "cell_type": "code",
   "execution_count": 7,
   "metadata": {},
   "outputs": [
    {
     "data": {
      "application/vnd.jupyter.widget-view+json": {
       "model_id": "9dbddf5f5e1e4573985bc2f3e95f9fb7",
       "version_major": 2,
       "version_minor": 0
      },
      "text/plain": [
       "0it [00:00, ?it/s]"
      ]
     },
     "metadata": {},
     "output_type": "display_data"
    }
   ],
   "source": [
    "files = []\n",
    "for file in tqdm(rucio_client.list_files(\n",
    "    \"user.nihartma\",\n",
    "    \"user.nihartma.data_13TeV.all.DAOD_PHYSLITE.grp15_v01_p4309\"\n",
    ")):\n",
    "    files.append(file)"
   ]
  },
  {
   "cell_type": "code",
   "execution_count": 8,
   "metadata": {},
   "outputs": [],
   "source": [
    "class Source(AIOHTTPSource):\n",
    "    def __init__(self, *args, **kwargs):\n",
    "        super().__init__(*args, tcp_connection_limit=100, **kwargs)"
   ]
  },
  {
   "cell_type": "code",
   "execution_count": 26,
   "metadata": {},
   "outputs": [],
   "source": [
    "def get_4leptons(url):\n",
    "    with uproot.open(url, http_handler=Source) as f:\n",
    "        tree = f[\"CollectionTree\"]\n",
    "        events = physlite_events(tree)\n",
    "        print(len(events))\n",
    "        array = ak.zip(\n",
    "            {\n",
    "                \"Electrons\": ak.zip(\n",
    "                    {\n",
    "                        \"p4\": ak.zip({k: events.Electrons[k] for k in [\"pt\", \"eta\", \"phi\", \"m\"]}),\n",
    "                        \"charge\": events.Electrons[\"charge\"]\n",
    "                    }\n",
    "                ),\n",
    "                \"Muons\": ak.zip(\n",
    "                    {\n",
    "                        \"p4\": ak.zip({k: events.Muons[k] for k in [\"pt\", \"eta\", \"phi\"]}),\n",
    "                        \"charge\": events.Muons[\"charge\"]\n",
    "                    }\n",
    "                )\n",
    "            },\n",
    "            depth_limit=1\n",
    "        )\n",
    "        array[\"Muons\", \"p4\", \"m\"] = 105.6583715\n",
    "        array = array[\n",
    "            ((ak.num(array.Electrons) >= 2) & (ak.num(array.Muons) >= 2))\n",
    "            | (ak.num(array.Electrons) >= 4)\n",
    "            | (ak.num(array.Muons) >= 4)\n",
    "        ]\n",
    "        return ak.to_arrow(array)"
   ]
  },
  {
   "cell_type": "code",
   "execution_count": 10,
   "metadata": {},
   "outputs": [],
   "source": [
    "def get_p4(url):\n",
    "    with uproot.open(url, http_handler=Source) as f:\n",
    "        tree = f[\"CollectionTree\"]\n",
    "        events = physlite_events(tree)\n",
    "        print(len(events))\n",
    "        p4 = ak.zip({k: events.Muons[k] for k in [\"pt\", \"eta\", \"phi\", \"charge\"]}, with_name=\"PtEtaPhiMLorentzVector\")\n",
    "        p4[\"mass\"] = 105.6583715\n",
    "        p4 = p4[ak.num(p4) >= 4]\n",
    "        return ak.to_arrow(p4)"
   ]
  },
  {
   "cell_type": "code",
   "execution_count": 11,
   "metadata": {},
   "outputs": [],
   "source": [
    "def get_m4mu(url):\n",
    "    p4 = ak.with_name(ak.from_arrow(get_p4(url)), \"PtEtaPhiMLorentzVector\")\n",
    "    combinations = ak.unzip(ak.combinations(p4, 4))\n",
    "    charge_sum = ak.sum(ak.concatenate(combinations, axis=1).charge, axis=1)\n",
    "    combinations = [c[charge_sum == 0] for c in combinations]\n",
    "    return ak.to_numpy(ak.flatten(sum(combinations[1:], combinations[0]).mass))"
   ]
  },
  {
   "cell_type": "code",
   "execution_count": 12,
   "metadata": {},
   "outputs": [],
   "source": [
    "def get_m4mu(url):\n",
    "    with uproot.open(url, http_handler=Source) as f:\n",
    "        tree = f[\"CollectionTree\"]\n",
    "        events = physlite_events(tree)\n",
    "        p4 = ak.zip({k: events.Muons[k] for k in [\"pt\", \"eta\", \"phi\"]}, with_name=\"PtEtaPhiMLorentzVector\")\n",
    "        p4[\"mass\"] = 105.6583715\n",
    "        combinations = ak.unzip(ak.combinations(p4, 4))\n",
    "        return ak.to_numpy(ak.flatten(sum(combinations[1:], combinations[0]).mass))"
   ]
  },
  {
   "cell_type": "code",
   "execution_count": 13,
   "metadata": {},
   "outputs": [],
   "source": [
    "url = get_signed_url(rucio_client, files[0][\"scope\"], files[0][\"name\"])"
   ]
  },
  {
   "cell_type": "code",
   "execution_count": 14,
   "metadata": {},
   "outputs": [
    {
     "name": "stdout",
     "output_type": "stream",
     "text": [
      "Skipping EventInfoAuxDyn.streamTagRobs\n",
      "Skipping EventInfoAuxDyn.streamTagDets\n",
      "Can't interpret PrimaryVerticesAuxDyn.neutralParticleLinks\n",
      "Skipping AnalysisHLT_tau35_medium1_tracktwoEF_tau25_medium1_tracktwoEF_03dR30_L1DR-TAU20ITAU12I-J25AuxDyn.TrigMatchedObjects\n",
      "Skipping AnalysisHLT_tau35_medium1_tracktwoEF_tau25_medium1_tracktwoEF_L1DR-TAU20ITAU12I-J25AuxDyn.TrigMatchedObjects\n",
      "Skipping AnalysisHLT_tau35_medium1_tracktwo_tau25_medium1_tracktwo_03dR30_L1DR-TAU20ITAU12I-J25AuxDyn.TrigMatchedObjects\n",
      "Skipping AnalysisHLT_tau35_medium1_tracktwo_tau25_medium1_tracktwo_L1DR-TAU20ITAU12I-J25AuxDyn.TrigMatchedObjects\n",
      "Skipping AnalysisHLT_tau35_medium1_tracktwo_tau25_medium1_tracktwo_tautsf_L1DR-TAU20ITAU12I-J25AuxDyn.TrigMatchedObjects\n",
      "Skipping AnalysisHLT_mu14_ivarloose_tau25_medium1_tracktwoEF_L1DR-MU10TAU12I_TAU12I-J25AuxDyn.TrigMatchedObjects\n",
      "Skipping AnalysisHLT_mu14_ivarloose_tau25_medium1_tracktwo_L1DR-MU10TAU12I_TAU12I-J25AuxDyn.TrigMatchedObjects\n",
      "Skipping AnalysisHLT_mu14_ivarloose_tau25_mediumRNN_tracktwoMVA_L1DR-MU10TAU12I_TAU12I-J25AuxDyn.TrigMatchedObjects\n",
      "Skipping AnalysisHLT_e17_lhmedium_nod0_ivarloose_tau25_medium1_tracktwoEF_L1DR-EM15TAU12I-J25AuxDyn.TrigMatchedObjects\n",
      "Skipping AnalysisHLT_e17_lhmedium_nod0_ivarloose_tau25_medium1_tracktwo_L1DR-EM15TAU12I-J25AuxDyn.TrigMatchedObjects\n",
      "Skipping AnalysisHLT_e17_lhmedium_nod0_ivarloose_tau25_mediumRNN_tracktwoMVA_L1DR-EM15TAU12I-J25AuxDyn.TrigMatchedObjects\n",
      "Skipping AnalysisHLT_tau35_mediumRNN_tracktwoMVA_tau25_mediumRNN_tracktwoMVA_03dR30_L1DR-TAU20ITAU12I-J25AuxDyn.TrigMatchedObjects\n",
      "Skipping AnalysisHLT_tau35_mediumRNN_tracktwoMVA_tau25_mediumRNN_tracktwoMVA_L1DR-TAU20ITAU12I-J25AuxDyn.TrigMatchedObjects\n",
      "Skipping AnalysisHLT_tau80_medium1_tracktwoEF_L1TAU60_tau35_medium1_tracktwoEF_L1TAU12IM_L1TAU60_DR-TAU20ITAU12IAuxDyn.TrigMatchedObjects\n",
      "Skipping AnalysisHLT_tau80_medium1_tracktwo_L1TAU60_tau35_medium1_tracktwo_L1TAU12IM_L1TAU60_DR-TAU20ITAU12IAuxDyn.TrigMatchedObjects\n",
      "Skipping AnalysisHLT_tau80_mediumRNN_tracktwoMVA_L1TAU60_tau35_mediumRNN_tracktwoMVA_L1TAU12IM_L1TAU60_DR-TAU20ITAU12IAuxDyn.TrigMatchedObjects\n",
      "56242\n",
      "CPU times: user 3.95 s, sys: 588 ms, total: 4.54 s\n",
      "Wall time: 4.51 s\n"
     ]
    }
   ],
   "source": [
    "%%time\n",
    "array = ak.from_arrow(get_4leptons(url))"
   ]
  },
  {
   "cell_type": "code",
   "execution_count": 15,
   "metadata": {},
   "outputs": [
    {
     "data": {
      "text/plain": [
       "496"
      ]
     },
     "execution_count": 15,
     "metadata": {},
     "output_type": "execute_result"
    }
   ],
   "source": [
    "array.nbytes"
   ]
  },
  {
   "cell_type": "code",
   "execution_count": 16,
   "metadata": {},
   "outputs": [],
   "source": [
    "from dask_gateway import GatewayCluster\n",
    "cluster = GatewayCluster(\n",
    "    worker_cores=1,\n",
    "    worker_memory=3.5,\n",
    "    #image=\"eu.gcr.io/gke-dev-311213/dask-gateway-physlite:20210622\"\n",
    "    #image=\"eu.gcr.io/gke-dev-311213/jupyter-physlite:20210622\"\n",
    "    image=\"eu.gcr.io/gke-dev-311213/jupyter-physlite:20210709\"\n",
    ")"
   ]
  },
  {
   "cell_type": "code",
   "execution_count": 17,
   "metadata": {},
   "outputs": [
    {
     "data": {
      "application/vnd.jupyter.widget-view+json": {
       "model_id": "79acc1e8e2f747c2b09bea59ad068364",
       "version_major": 2,
       "version_minor": 0
      },
      "text/plain": [
       "VBox(children=(HTML(value='<h2>GatewayCluster</h2>'), HBox(children=(HTML(value='\\n<div>\\n<style scoped>\\n    …"
      ]
     },
     "metadata": {},
     "output_type": "display_data"
    }
   ],
   "source": [
    "cluster"
   ]
  },
  {
   "cell_type": "code",
   "execution_count": 93,
   "metadata": {},
   "outputs": [],
   "source": [
    "cluster.shutdown()"
   ]
  },
  {
   "cell_type": "code",
   "execution_count": 19,
   "metadata": {},
   "outputs": [],
   "source": [
    "client = cluster.get_client()"
   ]
  },
  {
   "cell_type": "code",
   "execution_count": 65,
   "metadata": {},
   "outputs": [],
   "source": [
    "cluster.scale(720)"
   ]
  },
  {
   "cell_type": "code",
   "execution_count": 74,
   "metadata": {},
   "outputs": [
    {
     "data": {
      "text/html": [
       "<table style=\"border: 2px solid white;\">\n",
       "<tr>\n",
       "<td style=\"vertical-align: top; border: 0px solid white\">\n",
       "<h3 style=\"text-align: left;\">Client</h3>\n",
       "<ul style=\"text-align: left; list-style: none; margin: 0; padding: 0;\">\n",
       "  <li><b>Scheduler: </b>gateway://traefik-dhub-dask-gateway.default:80/default.6440449093af48038997fa60fa791764</li>\n",
       "  <li><b>Dashboard: </b><a href='/services/dask-gateway/clusters/default.6440449093af48038997fa60fa791764/status' target='_blank'>/services/dask-gateway/clusters/default.6440449093af48038997fa60fa791764/status</a></li>\n",
       "</ul>\n",
       "</td>\n",
       "<td style=\"vertical-align: top; border: 0px solid white\">\n",
       "<h3 style=\"text-align: left;\">Cluster</h3>\n",
       "<ul style=\"text-align: left; list-style:none; margin: 0; padding: 0;\">\n",
       "  <li><b>Workers: </b>512</li>\n",
       "  <li><b>Cores: </b>512</li>\n",
       "  <li><b>Memory: </b>1.75 TiB</li>\n",
       "</ul>\n",
       "</td>\n",
       "</tr>\n",
       "</table>"
      ],
      "text/plain": [
       "<Client: 'tls://10.64.0.31:8786' processes=473 threads=473, memory=1.62 TiB>"
      ]
     },
     "execution_count": 74,
     "metadata": {},
     "output_type": "execute_result"
    }
   ],
   "source": [
    "client.restart()"
   ]
  },
  {
   "cell_type": "code",
   "execution_count": 75,
   "metadata": {},
   "outputs": [
    {
     "data": {
      "text/plain": [
       "264076"
      ]
     },
     "execution_count": 75,
     "metadata": {},
     "output_type": "execute_result"
    }
   ],
   "source": [
    "len(files)"
   ]
  },
  {
   "cell_type": "code",
   "execution_count": 76,
   "metadata": {},
   "outputs": [],
   "source": [
    "def merge(arrow_list):\n",
    "    return ak.concatenate(ak.from_arrow(x) for x in arrow_list)"
   ]
  },
  {
   "cell_type": "code",
   "execution_count": 77,
   "metadata": {},
   "outputs": [],
   "source": [
    "x509_data = upload.data[-1]"
   ]
  },
  {
   "cell_type": "code",
   "execution_count": 78,
   "metadata": {},
   "outputs": [],
   "source": [
    "def run_task(x509_data, scope, name):\n",
    "    url = get_signed_url_worker(\n",
    "        x509_data,\n",
    "        scope,\n",
    "        name,\n",
    "        rucio_account=\"nihartma\",\n",
    "        rucio_home=\"/srv/conda/envs/notebook\"\n",
    "    )\n",
    "    return get_4leptons(url)"
   ]
  },
  {
   "cell_type": "code",
   "execution_count": 79,
   "metadata": {},
   "outputs": [],
   "source": [
    "fut_x509_data = client.scatter(x509_data, broadcast=True)"
   ]
  },
  {
   "cell_type": "code",
   "execution_count": 81,
   "metadata": {},
   "outputs": [],
   "source": [
    "#client.who_has(fut_x509_data)"
   ]
  },
  {
   "cell_type": "code",
   "execution_count": 82,
   "metadata": {},
   "outputs": [
    {
     "data": {
      "application/vnd.jupyter.widget-view+json": {
       "model_id": "350e06c2a280453eae8628fcbe2c7da6",
       "version_major": 2,
       "version_minor": 0
      },
      "text/plain": [
       "  0%|          | 0/264076 [00:00<?, ?it/s]"
      ]
     },
     "metadata": {},
     "output_type": "display_data"
    }
   ],
   "source": [
    "tasks = []\n",
    "sub_tasks = []\n",
    "n_sub = 100\n",
    "for file in tqdm(files):\n",
    "    sub_tasks.append(client.submit(run_task, fut_x509_data, file[\"scope\"], file[\"name\"]))\n",
    "    if len(sub_tasks) >= n_sub:\n",
    "        tasks.append(client.submit(merge, sub_tasks))\n",
    "        sub_tasks = []"
   ]
  },
  {
   "cell_type": "code",
   "execution_count": 84,
   "metadata": {},
   "outputs": [
    {
     "data": {
      "text/plain": [
       "2640"
      ]
     },
     "execution_count": 84,
     "metadata": {},
     "output_type": "execute_result"
    }
   ],
   "source": [
    "len(tasks)"
   ]
  },
  {
   "cell_type": "code",
   "execution_count": 85,
   "metadata": {},
   "outputs": [
    {
     "data": {
      "text/plain": [
       "<Array [{Electrons: [], ... Muons: []}] type='2173 * {\"Electrons\": var * ?{\"char...'>"
      ]
     },
     "execution_count": 85,
     "metadata": {},
     "output_type": "execute_result"
    }
   ],
   "source": [
    "tasks[0].result()"
   ]
  },
  {
   "cell_type": "code",
   "execution_count": 86,
   "metadata": {},
   "outputs": [
    {
     "data": {
      "text/plain": [
       "313284"
      ]
     },
     "execution_count": 86,
     "metadata": {},
     "output_type": "execute_result"
    }
   ],
   "source": [
    "tasks[0].result().nbytes"
   ]
  },
  {
   "cell_type": "code",
   "execution_count": 87,
   "metadata": {},
   "outputs": [],
   "source": [
    "p4_results = client.gather([fut for fut in tasks if fut.status == \"finished\"])"
   ]
  },
  {
   "cell_type": "code",
   "execution_count": 88,
   "metadata": {},
   "outputs": [
    {
     "data": {
      "text/plain": [
       "2628"
      ]
     },
     "execution_count": 88,
     "metadata": {},
     "output_type": "execute_result"
    }
   ],
   "source": [
    "len(p4_results)"
   ]
  },
  {
   "cell_type": "code",
   "execution_count": 89,
   "metadata": {},
   "outputs": [],
   "source": [
    "p4_ak = ak.concatenate(p4_results)"
   ]
  },
  {
   "cell_type": "code",
   "execution_count": 90,
   "metadata": {},
   "outputs": [
    {
     "data": {
      "text/plain": [
       "455.78539657592773"
      ]
     },
     "execution_count": 90,
     "metadata": {},
     "output_type": "execute_result"
    }
   ],
   "source": [
    "p4_ak.nbytes / 1024 / 1024"
   ]
  },
  {
   "cell_type": "code",
   "execution_count": 91,
   "metadata": {},
   "outputs": [],
   "source": [
    "ak.to_parquet(p4_ak, \"leptons_100percent.parquet\")"
   ]
  }
 ],
 "metadata": {
  "kernelspec": {
   "display_name": "Python 3 (ipykernel)",
   "language": "python",
   "name": "python3"
  },
  "language_info": {
   "codemirror_mode": {
    "name": "ipython",
    "version": 3
   },
   "file_extension": ".py",
   "mimetype": "text/x-python",
   "name": "python",
   "nbconvert_exporter": "python",
   "pygments_lexer": "ipython3",
   "version": "3.8.10"
  }
 },
 "nbformat": 4,
 "nbformat_minor": 4
}
