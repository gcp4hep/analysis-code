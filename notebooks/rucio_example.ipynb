{
 "cells": [
  {
   "cell_type": "code",
   "execution_count": 1,
   "metadata": {},
   "outputs": [
    {
     "name": "stdout",
     "output_type": "stream",
     "text": [
      "Help on function setup_rucio_and_proxy in module __main__:\n",
      "\n",
      "setup_rucio_and_proxy(x509_data, rucio_account='nihartma', rucio_home='/srv/conda/envs/notebook', proxy_path='/tmp/x509')\n",
      "\n",
      "Help on function get_signed_url in module __main__:\n",
      "\n",
      "get_signed_url(client, scope, name, rse='GOOGLE_EU')\n",
      "\n",
      "Help on function get_signed_url_worker in module __main__:\n",
      "\n",
      "get_signed_url_worker(proxy_data, scope, name, rucio_account='nihartma', rucio_home='/srv/conda/envs/notebook')\n",
      "\n"
     ]
    }
   ],
   "source": [
    "# need to run instead of import to be able to serialize functions to workers\n",
    "%run utils.py\n",
    "help(setup_rucio_and_proxy)\n",
    "help(get_signed_url)\n",
    "help(get_signed_url_worker)"
   ]
  },
  {
   "cell_type": "markdown",
   "metadata": {},
   "source": [
    "Upload x509 proxy certificate file (`echo $X509_USER_PROXY` on the machine it was setup)"
   ]
  },
  {
   "cell_type": "code",
   "execution_count": 2,
   "metadata": {},
   "outputs": [
    {
     "data": {
      "application/vnd.jupyter.widget-view+json": {
       "model_id": "9f0ac0f0684d424b932424b6cb7af9ba",
       "version_major": 2,
       "version_minor": 0
      },
      "text/plain": [
       "FileUpload(value={}, description='Upload')"
      ]
     },
     "metadata": {},
     "output_type": "display_data"
    }
   ],
   "source": [
    "from ipywidgets import FileUpload\n",
    "upload = FileUpload()\n",
    "display(upload)"
   ]
  },
  {
   "cell_type": "code",
   "execution_count": 4,
   "metadata": {},
   "outputs": [],
   "source": [
    "import os\n",
    "import rucio.client\n",
    "import uproot\n",
    "import awkward as ak\n",
    "from functools import partial\n",
    "from dask_gateway import GatewayCluster\n",
    "import dask\n",
    "from dask import delayed\n",
    "\n",
    "x509_data = upload.data[-1]\n",
    "setup_rucio_and_proxy(x509_data, rucio_account=\"nihartma\")"
   ]
  },
  {
   "cell_type": "code",
   "execution_count": 5,
   "metadata": {},
   "outputs": [],
   "source": [
    "rucio_client = rucio.client.Client()"
   ]
  },
  {
   "cell_type": "code",
   "execution_count": 6,
   "metadata": {},
   "outputs": [],
   "source": [
    "files = list(\n",
    "    rucio_client.list_files(\n",
    "        \"data17_13TeV\", \"data17_13TeV.00338183.physics_Main.deriv.DAOD_PHYSLITE.r10258_p3399_p4309_tid22958105_00\"\n",
    "    )\n",
    ")"
   ]
  },
  {
   "cell_type": "code",
   "execution_count": 7,
   "metadata": {},
   "outputs": [
    {
     "data": {
      "text/plain": [
       "{'scope': 'data17_13TeV',\n",
       " 'name': 'DAOD_PHYSLITE.22958105._000001.pool.root.1',\n",
       " 'bytes': 338979171,\n",
       " 'adler32': 'a3972cfd',\n",
       " 'guid': 'A8ED6B22B0069F4AA04BD8E7D09492A0',\n",
       " 'events': 44235}"
      ]
     },
     "execution_count": 7,
     "metadata": {},
     "output_type": "execute_result"
    }
   ],
   "source": [
    "files[0]"
   ]
  },
  {
   "cell_type": "code",
   "execution_count": 8,
   "metadata": {},
   "outputs": [],
   "source": [
    "url = get_signed_url(rucio_client, files[0][\"scope\"], files[0][\"name\"])"
   ]
  },
  {
   "cell_type": "code",
   "execution_count": 9,
   "metadata": {},
   "outputs": [],
   "source": [
    "tree = uproot.open(f\"{url}:CollectionTree\", http_handler=uproot.MultithreadedHTTPSource)"
   ]
  },
  {
   "cell_type": "code",
   "execution_count": 10,
   "metadata": {},
   "outputs": [],
   "source": [
    "pt = tree[\"AnalysisElectronsAuxDyn.pt\"].array()"
   ]
  },
  {
   "cell_type": "code",
   "execution_count": 11,
   "metadata": {},
   "outputs": [
    {
     "data": {
      "text/plain": [
       "<Array [[], [], [], ... 3.45e+04], [], []] type='44235 * var * float32'>"
      ]
     },
     "execution_count": 11,
     "metadata": {},
     "output_type": "execute_result"
    }
   ],
   "source": [
    "pt"
   ]
  },
  {
   "cell_type": "code",
   "execution_count": 12,
   "metadata": {},
   "outputs": [],
   "source": [
    "cluster = GatewayCluster(image=os.environ[\"JUPYTER_IMAGE\"])"
   ]
  },
  {
   "cell_type": "code",
   "execution_count": 13,
   "metadata": {},
   "outputs": [
    {
     "data": {
      "application/vnd.jupyter.widget-view+json": {
       "model_id": "275b08e4251a46d3bc3c3ee49258bde9",
       "version_major": 2,
       "version_minor": 0
      },
      "text/plain": [
       "VBox(children=(HTML(value='<h2>GatewayCluster</h2>'), HBox(children=(HTML(value='\\n<div>\\n<style scoped>\\n    …"
      ]
     },
     "metadata": {},
     "output_type": "display_data"
    }
   ],
   "source": [
    "cluster"
   ]
  },
  {
   "cell_type": "code",
   "execution_count": 14,
   "metadata": {},
   "outputs": [],
   "source": [
    "cluster.scale(4)"
   ]
  },
  {
   "cell_type": "code",
   "execution_count": 15,
   "metadata": {},
   "outputs": [],
   "source": [
    "client = cluster.get_client()"
   ]
  },
  {
   "cell_type": "markdown",
   "metadata": {},
   "source": [
    "Use `get_signed_url_worker` to get signed urls on gateway cluster workers:"
   ]
  },
  {
   "cell_type": "code",
   "execution_count": 16,
   "metadata": {},
   "outputs": [],
   "source": [
    "def test_task(url):\n",
    "    with uproot.open(f\"{url}:CollectionTree\", http_handler=uproot.MultithreadedHTTPSource) as tree:\n",
    "        pt = tree[\"AnalysisElectronsAuxDyn.pt\"].array()\n",
    "        n_electrons = ak.sum(ak.num(pt))\n",
    "        return n_electrons"
   ]
  },
  {
   "cell_type": "code",
   "execution_count": 17,
   "metadata": {},
   "outputs": [],
   "source": [
    "tasks = []\n",
    "for file in files[:4]:\n",
    "    task_url = delayed(partial(get_signed_url_worker, rucio_account=\"nihartma\"))(\n",
    "        x509_data, file[\"scope\"], file[\"name\"]\n",
    "    )\n",
    "    tasks.append(delayed(test_task)(task_url))"
   ]
  },
  {
   "cell_type": "code",
   "execution_count": 18,
   "metadata": {},
   "outputs": [
    {
     "data": {
      "text/plain": [
       "(6595, 6436, 5736, 5550)"
      ]
     },
     "execution_count": 18,
     "metadata": {},
     "output_type": "execute_result"
    }
   ],
   "source": [
    "dask.compute(*tasks)"
   ]
  },
  {
   "cell_type": "code",
   "execution_count": 19,
   "metadata": {},
   "outputs": [],
   "source": [
    "cluster.shutdown()"
   ]
  }
 ],
 "metadata": {
  "kernelspec": {
   "display_name": "Python 3 (ipykernel)",
   "language": "python",
   "name": "python3"
  },
  "language_info": {
   "codemirror_mode": {
    "name": "ipython",
    "version": 3
   },
   "file_extension": ".py",
   "mimetype": "text/x-python",
   "name": "python",
   "nbconvert_exporter": "python",
   "pygments_lexer": "ipython3",
   "version": "3.8.10"
  },
  "toc": {
   "base_numbering": 1,
   "nav_menu": {},
   "number_sections": true,
   "sideBar": true,
   "skip_h1_title": false,
   "title_cell": "Table of Contents",
   "title_sidebar": "Contents",
   "toc_cell": false,
   "toc_position": {},
   "toc_section_display": true,
   "toc_window_display": false
  }
 },
 "nbformat": 4,
 "nbformat_minor": 4
}
